{
 "cells": [
  {
   "cell_type": "code",
   "execution_count": 1,
   "metadata": {
    "id": "2OY0Yh0MYOJP"
   },
   "outputs": [],
   "source": [
    "import librosa\n",
    "import librosa.display\n",
    "import matplotlib.pyplot as plt\n",
    "import numpy as np\n",
    "import os\n",
    "import pathlib\n",
    "from PIL import Image\n",
    "import csv\n",
    "\n",
    "import pandas as pd\n",
    "\n",
    "\n",
    "from sklearn.model_selection import train_test_split,cross_val_score\n",
    "from sklearn.preprocessing import LabelEncoder, StandardScaler\n",
    "\n",
    "\n",
    "import tensorflow.keras as keras\n",
    "\n",
    "import warnings\n",
    "warnings.filterwarnings('ignore')\n",
    "\n"
   ]
  },
  {
   "cell_type": "code",
   "execution_count": 2,
   "metadata": {
    "colab": {
     "base_uri": "https://localhost:8080/",
     "height": 439
    },
    "id": "6l__OB4FrBqd",
    "outputId": "26e7480e-95b4-456c-bc07-27df40c4d164"
   },
   "outputs": [
    {
     "data": {
      "text/html": [
       "<div>\n",
       "<style scoped>\n",
       "    .dataframe tbody tr th:only-of-type {\n",
       "        vertical-align: middle;\n",
       "    }\n",
       "\n",
       "    .dataframe tbody tr th {\n",
       "        vertical-align: top;\n",
       "    }\n",
       "\n",
       "    .dataframe thead th {\n",
       "        text-align: right;\n",
       "    }\n",
       "</style>\n",
       "<table border=\"1\" class=\"dataframe\">\n",
       "  <thead>\n",
       "    <tr style=\"text-align: right;\">\n",
       "      <th></th>\n",
       "      <th>File-name</th>\n",
       "      <th>chroma_shft</th>\n",
       "      <th>rmse</th>\n",
       "      <th>spec_cent</th>\n",
       "      <th>spec_bw</th>\n",
       "      <th>rolloff</th>\n",
       "      <th>zcr</th>\n",
       "      <th>MFCC--1</th>\n",
       "      <th>MFCC--2</th>\n",
       "      <th>MFCC--3</th>\n",
       "      <th>...</th>\n",
       "      <th>MFCC--12</th>\n",
       "      <th>MFCC--13</th>\n",
       "      <th>MFCC--14</th>\n",
       "      <th>MFCC--15</th>\n",
       "      <th>MFCC--16</th>\n",
       "      <th>MFCC--17</th>\n",
       "      <th>MFCC--18</th>\n",
       "      <th>MFCC--19</th>\n",
       "      <th>MFCC--20</th>\n",
       "      <th>Lable</th>\n",
       "    </tr>\n",
       "  </thead>\n",
       "  <tbody>\n",
       "    <tr>\n",
       "      <td>0</td>\n",
       "      <td>rock.00008.wav</td>\n",
       "      <td>0.408748</td>\n",
       "      <td>0.260914</td>\n",
       "      <td>1717.312205</td>\n",
       "      <td>1842.500561</td>\n",
       "      <td>3362.721333</td>\n",
       "      <td>0.084981</td>\n",
       "      <td>-14.910254</td>\n",
       "      <td>138.420124</td>\n",
       "      <td>-41.889428</td>\n",
       "      <td>...</td>\n",
       "      <td>12.247996</td>\n",
       "      <td>-5.819694</td>\n",
       "      <td>9.968250</td>\n",
       "      <td>-3.163116</td>\n",
       "      <td>1.976028</td>\n",
       "      <td>-6.923686</td>\n",
       "      <td>3.121398</td>\n",
       "      <td>-2.987225</td>\n",
       "      <td>-6.677925</td>\n",
       "      <td>Rock</td>\n",
       "    </tr>\n",
       "    <tr>\n",
       "      <td>1</td>\n",
       "      <td>rock.00001.wav</td>\n",
       "      <td>0.365525</td>\n",
       "      <td>0.180543</td>\n",
       "      <td>1529.345464</td>\n",
       "      <td>1845.423388</td>\n",
       "      <td>3271.663550</td>\n",
       "      <td>0.054982</td>\n",
       "      <td>-111.136301</td>\n",
       "      <td>134.159482</td>\n",
       "      <td>-24.647956</td>\n",
       "      <td>...</td>\n",
       "      <td>9.939369</td>\n",
       "      <td>-4.665001</td>\n",
       "      <td>3.626334</td>\n",
       "      <td>-5.541119</td>\n",
       "      <td>3.364801</td>\n",
       "      <td>-4.942521</td>\n",
       "      <td>-1.472867</td>\n",
       "      <td>0.100885</td>\n",
       "      <td>-5.332559</td>\n",
       "      <td>Rock</td>\n",
       "    </tr>\n",
       "    <tr>\n",
       "      <td>2</td>\n",
       "      <td>rock.00005.wav</td>\n",
       "      <td>0.376780</td>\n",
       "      <td>0.203785</td>\n",
       "      <td>1542.205910</td>\n",
       "      <td>1591.924670</td>\n",
       "      <td>2870.199311</td>\n",
       "      <td>0.077020</td>\n",
       "      <td>-62.348380</td>\n",
       "      <td>153.770773</td>\n",
       "      <td>-55.112845</td>\n",
       "      <td>...</td>\n",
       "      <td>7.204514</td>\n",
       "      <td>-2.524919</td>\n",
       "      <td>4.834071</td>\n",
       "      <td>-6.272217</td>\n",
       "      <td>-0.725831</td>\n",
       "      <td>-2.277204</td>\n",
       "      <td>-5.243365</td>\n",
       "      <td>-5.218907</td>\n",
       "      <td>-6.279709</td>\n",
       "      <td>Rock</td>\n",
       "    </tr>\n",
       "    <tr>\n",
       "      <td>3</td>\n",
       "      <td>rock.00006.wav</td>\n",
       "      <td>0.344472</td>\n",
       "      <td>0.180163</td>\n",
       "      <td>1675.475369</td>\n",
       "      <td>1653.422860</td>\n",
       "      <td>3253.563659</td>\n",
       "      <td>0.087294</td>\n",
       "      <td>-98.356322</td>\n",
       "      <td>136.611573</td>\n",
       "      <td>-46.700574</td>\n",
       "      <td>...</td>\n",
       "      <td>2.945863</td>\n",
       "      <td>-12.509212</td>\n",
       "      <td>0.091337</td>\n",
       "      <td>-0.774780</td>\n",
       "      <td>-5.700102</td>\n",
       "      <td>-8.630916</td>\n",
       "      <td>-1.903803</td>\n",
       "      <td>-2.196753</td>\n",
       "      <td>-3.395148</td>\n",
       "      <td>Rock</td>\n",
       "    </tr>\n",
       "    <tr>\n",
       "      <td>4</td>\n",
       "      <td>rock.00003.wav</td>\n",
       "      <td>0.380017</td>\n",
       "      <td>0.151226</td>\n",
       "      <td>1421.568971</td>\n",
       "      <td>1902.883344</td>\n",
       "      <td>3042.739934</td>\n",
       "      <td>0.043097</td>\n",
       "      <td>-156.602967</td>\n",
       "      <td>130.686506</td>\n",
       "      <td>-1.457021</td>\n",
       "      <td>...</td>\n",
       "      <td>11.535877</td>\n",
       "      <td>-3.217205</td>\n",
       "      <td>5.065080</td>\n",
       "      <td>-1.784673</td>\n",
       "      <td>3.535590</td>\n",
       "      <td>-2.447573</td>\n",
       "      <td>-0.717627</td>\n",
       "      <td>-1.413266</td>\n",
       "      <td>0.637624</td>\n",
       "      <td>Rock</td>\n",
       "    </tr>\n",
       "    <tr>\n",
       "      <td>...</td>\n",
       "      <td>...</td>\n",
       "      <td>...</td>\n",
       "      <td>...</td>\n",
       "      <td>...</td>\n",
       "      <td>...</td>\n",
       "      <td>...</td>\n",
       "      <td>...</td>\n",
       "      <td>...</td>\n",
       "      <td>...</td>\n",
       "      <td>...</td>\n",
       "      <td>...</td>\n",
       "      <td>...</td>\n",
       "      <td>...</td>\n",
       "      <td>...</td>\n",
       "      <td>...</td>\n",
       "      <td>...</td>\n",
       "      <td>...</td>\n",
       "      <td>...</td>\n",
       "      <td>...</td>\n",
       "      <td>...</td>\n",
       "      <td>...</td>\n",
       "    </tr>\n",
       "    <tr>\n",
       "      <td>295</td>\n",
       "      <td>pop.00095.wav</td>\n",
       "      <td>0.365712</td>\n",
       "      <td>0.303920</td>\n",
       "      <td>3046.148817</td>\n",
       "      <td>3306.480614</td>\n",
       "      <td>7384.647013</td>\n",
       "      <td>0.106394</td>\n",
       "      <td>-36.622723</td>\n",
       "      <td>73.082171</td>\n",
       "      <td>39.133504</td>\n",
       "      <td>...</td>\n",
       "      <td>-3.155387</td>\n",
       "      <td>-5.774647</td>\n",
       "      <td>-7.681010</td>\n",
       "      <td>-7.607766</td>\n",
       "      <td>-6.850216</td>\n",
       "      <td>-6.112240</td>\n",
       "      <td>-1.564934</td>\n",
       "      <td>2.133322</td>\n",
       "      <td>-1.562207</td>\n",
       "      <td>Pop</td>\n",
       "    </tr>\n",
       "    <tr>\n",
       "      <td>296</td>\n",
       "      <td>pop.00098.wav</td>\n",
       "      <td>0.399895</td>\n",
       "      <td>0.213083</td>\n",
       "      <td>3634.050584</td>\n",
       "      <td>3134.249724</td>\n",
       "      <td>7534.687772</td>\n",
       "      <td>0.183106</td>\n",
       "      <td>-26.902570</td>\n",
       "      <td>46.710707</td>\n",
       "      <td>8.701760</td>\n",
       "      <td>...</td>\n",
       "      <td>1.253731</td>\n",
       "      <td>3.836709</td>\n",
       "      <td>4.690396</td>\n",
       "      <td>1.714553</td>\n",
       "      <td>-0.980313</td>\n",
       "      <td>-1.300124</td>\n",
       "      <td>-2.687255</td>\n",
       "      <td>-1.269861</td>\n",
       "      <td>-2.485296</td>\n",
       "      <td>Pop</td>\n",
       "    </tr>\n",
       "    <tr>\n",
       "      <td>297</td>\n",
       "      <td>pop.00096.wav</td>\n",
       "      <td>0.339957</td>\n",
       "      <td>0.251243</td>\n",
       "      <td>3126.533643</td>\n",
       "      <td>3162.743738</td>\n",
       "      <td>6931.233088</td>\n",
       "      <td>0.105346</td>\n",
       "      <td>-59.099176</td>\n",
       "      <td>60.976773</td>\n",
       "      <td>27.745595</td>\n",
       "      <td>...</td>\n",
       "      <td>-2.403196</td>\n",
       "      <td>-4.513487</td>\n",
       "      <td>3.468001</td>\n",
       "      <td>2.026163</td>\n",
       "      <td>3.719552</td>\n",
       "      <td>2.489373</td>\n",
       "      <td>1.276359</td>\n",
       "      <td>3.131913</td>\n",
       "      <td>1.647612</td>\n",
       "      <td>Pop</td>\n",
       "    </tr>\n",
       "    <tr>\n",
       "      <td>298</td>\n",
       "      <td>pop.00091.wav</td>\n",
       "      <td>0.424473</td>\n",
       "      <td>0.265422</td>\n",
       "      <td>3696.225140</td>\n",
       "      <td>3246.695112</td>\n",
       "      <td>7871.035738</td>\n",
       "      <td>0.166830</td>\n",
       "      <td>-8.384624</td>\n",
       "      <td>41.998152</td>\n",
       "      <td>8.295316</td>\n",
       "      <td>...</td>\n",
       "      <td>-0.656881</td>\n",
       "      <td>-2.429781</td>\n",
       "      <td>-1.472319</td>\n",
       "      <td>-3.762977</td>\n",
       "      <td>-1.658407</td>\n",
       "      <td>-2.379022</td>\n",
       "      <td>0.052522</td>\n",
       "      <td>-0.989721</td>\n",
       "      <td>-2.601742</td>\n",
       "      <td>Pop</td>\n",
       "    </tr>\n",
       "    <tr>\n",
       "      <td>299</td>\n",
       "      <td>pop.00094.wav</td>\n",
       "      <td>0.333196</td>\n",
       "      <td>0.198670</td>\n",
       "      <td>2806.247388</td>\n",
       "      <td>2857.714955</td>\n",
       "      <td>6101.779770</td>\n",
       "      <td>0.128548</td>\n",
       "      <td>-42.237700</td>\n",
       "      <td>82.181453</td>\n",
       "      <td>-2.252060</td>\n",
       "      <td>...</td>\n",
       "      <td>-3.169998</td>\n",
       "      <td>-2.949469</td>\n",
       "      <td>3.594148</td>\n",
       "      <td>-0.082776</td>\n",
       "      <td>1.582507</td>\n",
       "      <td>0.848486</td>\n",
       "      <td>-1.226169</td>\n",
       "      <td>2.545904</td>\n",
       "      <td>0.784718</td>\n",
       "      <td>Pop</td>\n",
       "    </tr>\n",
       "  </tbody>\n",
       "</table>\n",
       "<p>300 rows × 28 columns</p>\n",
       "</div>"
      ],
      "text/plain": [
       "          File-name  chroma_shft      rmse    spec_cent      spec_bw  \\\n",
       "0    rock.00008.wav     0.408748  0.260914  1717.312205  1842.500561   \n",
       "1    rock.00001.wav     0.365525  0.180543  1529.345464  1845.423388   \n",
       "2    rock.00005.wav     0.376780  0.203785  1542.205910  1591.924670   \n",
       "3    rock.00006.wav     0.344472  0.180163  1675.475369  1653.422860   \n",
       "4    rock.00003.wav     0.380017  0.151226  1421.568971  1902.883344   \n",
       "..              ...          ...       ...          ...          ...   \n",
       "295   pop.00095.wav     0.365712  0.303920  3046.148817  3306.480614   \n",
       "296   pop.00098.wav     0.399895  0.213083  3634.050584  3134.249724   \n",
       "297   pop.00096.wav     0.339957  0.251243  3126.533643  3162.743738   \n",
       "298   pop.00091.wav     0.424473  0.265422  3696.225140  3246.695112   \n",
       "299   pop.00094.wav     0.333196  0.198670  2806.247388  2857.714955   \n",
       "\n",
       "         rolloff       zcr     MFCC--1     MFCC--2    MFCC--3  ...   MFCC--12  \\\n",
       "0    3362.721333  0.084981  -14.910254  138.420124 -41.889428  ...  12.247996   \n",
       "1    3271.663550  0.054982 -111.136301  134.159482 -24.647956  ...   9.939369   \n",
       "2    2870.199311  0.077020  -62.348380  153.770773 -55.112845  ...   7.204514   \n",
       "3    3253.563659  0.087294  -98.356322  136.611573 -46.700574  ...   2.945863   \n",
       "4    3042.739934  0.043097 -156.602967  130.686506  -1.457021  ...  11.535877   \n",
       "..           ...       ...         ...         ...        ...  ...        ...   \n",
       "295  7384.647013  0.106394  -36.622723   73.082171  39.133504  ...  -3.155387   \n",
       "296  7534.687772  0.183106  -26.902570   46.710707   8.701760  ...   1.253731   \n",
       "297  6931.233088  0.105346  -59.099176   60.976773  27.745595  ...  -2.403196   \n",
       "298  7871.035738  0.166830   -8.384624   41.998152   8.295316  ...  -0.656881   \n",
       "299  6101.779770  0.128548  -42.237700   82.181453  -2.252060  ...  -3.169998   \n",
       "\n",
       "      MFCC--13  MFCC--14  MFCC--15  MFCC--16  MFCC--17  MFCC--18  MFCC--19  \\\n",
       "0    -5.819694  9.968250 -3.163116  1.976028 -6.923686  3.121398 -2.987225   \n",
       "1    -4.665001  3.626334 -5.541119  3.364801 -4.942521 -1.472867  0.100885   \n",
       "2    -2.524919  4.834071 -6.272217 -0.725831 -2.277204 -5.243365 -5.218907   \n",
       "3   -12.509212  0.091337 -0.774780 -5.700102 -8.630916 -1.903803 -2.196753   \n",
       "4    -3.217205  5.065080 -1.784673  3.535590 -2.447573 -0.717627 -1.413266   \n",
       "..         ...       ...       ...       ...       ...       ...       ...   \n",
       "295  -5.774647 -7.681010 -7.607766 -6.850216 -6.112240 -1.564934  2.133322   \n",
       "296   3.836709  4.690396  1.714553 -0.980313 -1.300124 -2.687255 -1.269861   \n",
       "297  -4.513487  3.468001  2.026163  3.719552  2.489373  1.276359  3.131913   \n",
       "298  -2.429781 -1.472319 -3.762977 -1.658407 -2.379022  0.052522 -0.989721   \n",
       "299  -2.949469  3.594148 -0.082776  1.582507  0.848486 -1.226169  2.545904   \n",
       "\n",
       "     MFCC--20  Lable  \n",
       "0   -6.677925   Rock  \n",
       "1   -5.332559   Rock  \n",
       "2   -6.279709   Rock  \n",
       "3   -3.395148   Rock  \n",
       "4    0.637624   Rock  \n",
       "..        ...    ...  \n",
       "295 -1.562207    Pop  \n",
       "296 -2.485296    Pop  \n",
       "297  1.647612    Pop  \n",
       "298 -2.601742    Pop  \n",
       "299  0.784718    Pop  \n",
       "\n",
       "[300 rows x 28 columns]"
      ]
     },
     "execution_count": 2,
     "metadata": {},
     "output_type": "execute_result"
    }
   ],
   "source": [
    "data=pd.read_csv('F:\\Sem-5\\SGP\\source\\data2.csv')\n",
    "\n",
    "data.head(300)"
   ]
  },
  {
   "cell_type": "code",
   "execution_count": 3,
   "metadata": {
    "colab": {
     "base_uri": "https://localhost:8080/",
     "height": 34
    },
    "id": "VYJw8XP6sfem",
    "outputId": "cc49ca8b-a6dd-4bd5-bd0b-f06b2e8fa237"
   },
   "outputs": [
    {
     "data": {
      "text/plain": [
       "(999, 28)"
      ]
     },
     "execution_count": 3,
     "metadata": {},
     "output_type": "execute_result"
    }
   ],
   "source": [
    "data.shape"
   ]
  },
  {
   "cell_type": "code",
   "execution_count": 4,
   "metadata": {
    "id": "oR2Scld0_scJ"
   },
   "outputs": [],
   "source": [
    "y=data.iloc[:,-1].values\n",
    "le=LabelEncoder()\n",
    "y=le.fit_transform(y)"
   ]
  },
  {
   "cell_type": "code",
   "execution_count": 5,
   "metadata": {
    "colab": {
     "base_uri": "https://localhost:8080/",
     "height": 34
    },
    "id": "VF1iiLuwEImP",
    "outputId": "303b8530-0feb-4e1a-cde2-2bbdbadd4a9a"
   },
   "outputs": [
    {
     "name": "stdout",
     "output_type": "stream",
     "text": [
      "4\n"
     ]
    }
   ],
   "source": [
    "print(y[500])\n",
    "\n"
   ]
  },
  {
   "cell_type": "code",
   "execution_count": 6,
   "metadata": {
    "colab": {
     "base_uri": "https://localhost:8080/",
     "height": 224
    },
    "id": "nbj3YhePjzSf",
    "outputId": "7a4b4261-f3e1-49d8-a570-e327bd7f0747"
   },
   "outputs": [
    {
     "data": {
      "text/html": [
       "<div>\n",
       "<style scoped>\n",
       "    .dataframe tbody tr th:only-of-type {\n",
       "        vertical-align: middle;\n",
       "    }\n",
       "\n",
       "    .dataframe tbody tr th {\n",
       "        vertical-align: top;\n",
       "    }\n",
       "\n",
       "    .dataframe thead th {\n",
       "        text-align: right;\n",
       "    }\n",
       "</style>\n",
       "<table border=\"1\" class=\"dataframe\">\n",
       "  <thead>\n",
       "    <tr style=\"text-align: right;\">\n",
       "      <th></th>\n",
       "      <th>File-name</th>\n",
       "      <th>chroma_shft</th>\n",
       "      <th>rmse</th>\n",
       "      <th>spec_cent</th>\n",
       "      <th>spec_bw</th>\n",
       "      <th>rolloff</th>\n",
       "      <th>zcr</th>\n",
       "      <th>MFCC--1</th>\n",
       "      <th>MFCC--2</th>\n",
       "      <th>MFCC--3</th>\n",
       "      <th>...</th>\n",
       "      <th>MFCC--12</th>\n",
       "      <th>MFCC--13</th>\n",
       "      <th>MFCC--14</th>\n",
       "      <th>MFCC--15</th>\n",
       "      <th>MFCC--16</th>\n",
       "      <th>MFCC--17</th>\n",
       "      <th>MFCC--18</th>\n",
       "      <th>MFCC--19</th>\n",
       "      <th>MFCC--20</th>\n",
       "      <th>Lable</th>\n",
       "    </tr>\n",
       "  </thead>\n",
       "  <tbody>\n",
       "    <tr>\n",
       "      <td>899</td>\n",
       "      <td>blues.00000.wav</td>\n",
       "      <td>0.349943</td>\n",
       "      <td>0.130225</td>\n",
       "      <td>1784.420446</td>\n",
       "      <td>2002.650192</td>\n",
       "      <td>3806.485316</td>\n",
       "      <td>0.083066</td>\n",
       "      <td>-113.596742</td>\n",
       "      <td>121.557302</td>\n",
       "      <td>-19.158825</td>\n",
       "      <td>...</td>\n",
       "      <td>8.810668</td>\n",
       "      <td>-3.667367</td>\n",
       "      <td>5.751690</td>\n",
       "      <td>-5.162761</td>\n",
       "      <td>0.750947</td>\n",
       "      <td>-1.691937</td>\n",
       "      <td>-0.409954</td>\n",
       "      <td>-2.300208</td>\n",
       "      <td>1.219928</td>\n",
       "      <td>Blues</td>\n",
       "    </tr>\n",
       "    <tr>\n",
       "      <td>900</td>\n",
       "      <td>blues.00004.wav</td>\n",
       "      <td>0.308590</td>\n",
       "      <td>0.091563</td>\n",
       "      <td>1835.494603</td>\n",
       "      <td>1748.362448</td>\n",
       "      <td>3580.945013</td>\n",
       "      <td>0.101500</td>\n",
       "      <td>-160.266031</td>\n",
       "      <td>126.198800</td>\n",
       "      <td>-35.605448</td>\n",
       "      <td>...</td>\n",
       "      <td>-2.806385</td>\n",
       "      <td>-6.934122</td>\n",
       "      <td>-7.558619</td>\n",
       "      <td>-9.173552</td>\n",
       "      <td>-4.512166</td>\n",
       "      <td>-5.453538</td>\n",
       "      <td>-0.924162</td>\n",
       "      <td>-4.409333</td>\n",
       "      <td>-11.703781</td>\n",
       "      <td>Blues</td>\n",
       "    </tr>\n",
       "    <tr>\n",
       "      <td>901</td>\n",
       "      <td>blues.00007.wav</td>\n",
       "      <td>0.307921</td>\n",
       "      <td>0.131785</td>\n",
       "      <td>1451.754147</td>\n",
       "      <td>1577.369917</td>\n",
       "      <td>2955.348796</td>\n",
       "      <td>0.061435</td>\n",
       "      <td>-179.395447</td>\n",
       "      <td>136.459244</td>\n",
       "      <td>-26.656359</td>\n",
       "      <td>...</td>\n",
       "      <td>-6.954827</td>\n",
       "      <td>-3.544535</td>\n",
       "      <td>-8.051242</td>\n",
       "      <td>-8.959537</td>\n",
       "      <td>-8.424337</td>\n",
       "      <td>-10.558885</td>\n",
       "      <td>-10.788159</td>\n",
       "      <td>-4.693749</td>\n",
       "      <td>-8.638613</td>\n",
       "      <td>Blues</td>\n",
       "    </tr>\n",
       "    <tr>\n",
       "      <td>902</td>\n",
       "      <td>blues.00002.wav</td>\n",
       "      <td>0.363603</td>\n",
       "      <td>0.175573</td>\n",
       "      <td>1552.481958</td>\n",
       "      <td>1747.165985</td>\n",
       "      <td>3040.514948</td>\n",
       "      <td>0.076301</td>\n",
       "      <td>-90.754394</td>\n",
       "      <td>140.459907</td>\n",
       "      <td>-29.109965</td>\n",
       "      <td>...</td>\n",
       "      <td>5.789265</td>\n",
       "      <td>-8.905224</td>\n",
       "      <td>-1.083720</td>\n",
       "      <td>-9.218359</td>\n",
       "      <td>2.455805</td>\n",
       "      <td>-7.726901</td>\n",
       "      <td>-1.815724</td>\n",
       "      <td>-3.433434</td>\n",
       "      <td>-2.226821</td>\n",
       "      <td>Blues</td>\n",
       "    </tr>\n",
       "    <tr>\n",
       "      <td>903</td>\n",
       "      <td>blues.00001.wav</td>\n",
       "      <td>0.340983</td>\n",
       "      <td>0.095918</td>\n",
       "      <td>1529.835316</td>\n",
       "      <td>2038.617579</td>\n",
       "      <td>3548.820207</td>\n",
       "      <td>0.056044</td>\n",
       "      <td>-207.556796</td>\n",
       "      <td>124.006717</td>\n",
       "      <td>8.930562</td>\n",
       "      <td>...</td>\n",
       "      <td>5.376802</td>\n",
       "      <td>-2.239119</td>\n",
       "      <td>4.216963</td>\n",
       "      <td>-6.012273</td>\n",
       "      <td>0.936109</td>\n",
       "      <td>-0.716537</td>\n",
       "      <td>0.293875</td>\n",
       "      <td>-0.287431</td>\n",
       "      <td>0.531573</td>\n",
       "      <td>Blues</td>\n",
       "    </tr>\n",
       "    <tr>\n",
       "      <td>...</td>\n",
       "      <td>...</td>\n",
       "      <td>...</td>\n",
       "      <td>...</td>\n",
       "      <td>...</td>\n",
       "      <td>...</td>\n",
       "      <td>...</td>\n",
       "      <td>...</td>\n",
       "      <td>...</td>\n",
       "      <td>...</td>\n",
       "      <td>...</td>\n",
       "      <td>...</td>\n",
       "      <td>...</td>\n",
       "      <td>...</td>\n",
       "      <td>...</td>\n",
       "      <td>...</td>\n",
       "      <td>...</td>\n",
       "      <td>...</td>\n",
       "      <td>...</td>\n",
       "      <td>...</td>\n",
       "      <td>...</td>\n",
       "      <td>...</td>\n",
       "    </tr>\n",
       "    <tr>\n",
       "      <td>994</td>\n",
       "      <td>blues.00098.wav</td>\n",
       "      <td>0.442972</td>\n",
       "      <td>0.125422</td>\n",
       "      <td>2310.280604</td>\n",
       "      <td>2206.710936</td>\n",
       "      <td>4829.320798</td>\n",
       "      <td>0.128426</td>\n",
       "      <td>-90.677485</td>\n",
       "      <td>100.093133</td>\n",
       "      <td>-23.916267</td>\n",
       "      <td>...</td>\n",
       "      <td>12.988067</td>\n",
       "      <td>-11.415392</td>\n",
       "      <td>2.906069</td>\n",
       "      <td>-12.012914</td>\n",
       "      <td>4.822585</td>\n",
       "      <td>-11.156674</td>\n",
       "      <td>1.159210</td>\n",
       "      <td>-3.913956</td>\n",
       "      <td>3.250427</td>\n",
       "      <td>Blues</td>\n",
       "    </tr>\n",
       "    <tr>\n",
       "      <td>995</td>\n",
       "      <td>blues.00097.wav</td>\n",
       "      <td>0.375158</td>\n",
       "      <td>0.198282</td>\n",
       "      <td>1236.574280</td>\n",
       "      <td>1602.309124</td>\n",
       "      <td>2604.150920</td>\n",
       "      <td>0.044626</td>\n",
       "      <td>-148.639173</td>\n",
       "      <td>145.746311</td>\n",
       "      <td>-9.363639</td>\n",
       "      <td>...</td>\n",
       "      <td>3.230693</td>\n",
       "      <td>-0.667060</td>\n",
       "      <td>-0.727791</td>\n",
       "      <td>-6.821160</td>\n",
       "      <td>-3.942547</td>\n",
       "      <td>-15.739370</td>\n",
       "      <td>-5.604688</td>\n",
       "      <td>-5.802770</td>\n",
       "      <td>-0.048729</td>\n",
       "      <td>Blues</td>\n",
       "    </tr>\n",
       "    <tr>\n",
       "      <td>996</td>\n",
       "      <td>blues.00095.wav</td>\n",
       "      <td>0.369973</td>\n",
       "      <td>0.187148</td>\n",
       "      <td>1388.394749</td>\n",
       "      <td>1772.854380</td>\n",
       "      <td>2754.525010</td>\n",
       "      <td>0.057147</td>\n",
       "      <td>-130.553972</td>\n",
       "      <td>139.977099</td>\n",
       "      <td>-1.269146</td>\n",
       "      <td>...</td>\n",
       "      <td>1.611758</td>\n",
       "      <td>-6.628307</td>\n",
       "      <td>4.952240</td>\n",
       "      <td>-1.633326</td>\n",
       "      <td>0.956659</td>\n",
       "      <td>-4.840757</td>\n",
       "      <td>-5.966955</td>\n",
       "      <td>-2.782187</td>\n",
       "      <td>-6.494001</td>\n",
       "      <td>Blues</td>\n",
       "    </tr>\n",
       "    <tr>\n",
       "      <td>997</td>\n",
       "      <td>blues.00094.wav</td>\n",
       "      <td>0.376687</td>\n",
       "      <td>0.141018</td>\n",
       "      <td>1239.337228</td>\n",
       "      <td>1659.466470</td>\n",
       "      <td>2517.618110</td>\n",
       "      <td>0.050908</td>\n",
       "      <td>-206.278431</td>\n",
       "      <td>126.627468</td>\n",
       "      <td>10.585205</td>\n",
       "      <td>...</td>\n",
       "      <td>3.659409</td>\n",
       "      <td>-1.448481</td>\n",
       "      <td>-1.695150</td>\n",
       "      <td>-7.157464</td>\n",
       "      <td>1.171114</td>\n",
       "      <td>-6.221975</td>\n",
       "      <td>0.600703</td>\n",
       "      <td>-1.605095</td>\n",
       "      <td>-0.528774</td>\n",
       "      <td>Blues</td>\n",
       "    </tr>\n",
       "    <tr>\n",
       "      <td>998</td>\n",
       "      <td>blues.00096.wav</td>\n",
       "      <td>0.260574</td>\n",
       "      <td>0.051349</td>\n",
       "      <td>1132.340629</td>\n",
       "      <td>1582.492047</td>\n",
       "      <td>2065.479177</td>\n",
       "      <td>0.048314</td>\n",
       "      <td>-314.582809</td>\n",
       "      <td>139.926741</td>\n",
       "      <td>11.865851</td>\n",
       "      <td>...</td>\n",
       "      <td>2.077480</td>\n",
       "      <td>-11.442501</td>\n",
       "      <td>-9.504390</td>\n",
       "      <td>-15.185495</td>\n",
       "      <td>-9.355572</td>\n",
       "      <td>-5.672771</td>\n",
       "      <td>1.564772</td>\n",
       "      <td>0.890936</td>\n",
       "      <td>-7.960376</td>\n",
       "      <td>Blues</td>\n",
       "    </tr>\n",
       "  </tbody>\n",
       "</table>\n",
       "<p>100 rows × 28 columns</p>\n",
       "</div>"
      ],
      "text/plain": [
       "           File-name  chroma_shft      rmse    spec_cent      spec_bw  \\\n",
       "899  blues.00000.wav     0.349943  0.130225  1784.420446  2002.650192   \n",
       "900  blues.00004.wav     0.308590  0.091563  1835.494603  1748.362448   \n",
       "901  blues.00007.wav     0.307921  0.131785  1451.754147  1577.369917   \n",
       "902  blues.00002.wav     0.363603  0.175573  1552.481958  1747.165985   \n",
       "903  blues.00001.wav     0.340983  0.095918  1529.835316  2038.617579   \n",
       "..               ...          ...       ...          ...          ...   \n",
       "994  blues.00098.wav     0.442972  0.125422  2310.280604  2206.710936   \n",
       "995  blues.00097.wav     0.375158  0.198282  1236.574280  1602.309124   \n",
       "996  blues.00095.wav     0.369973  0.187148  1388.394749  1772.854380   \n",
       "997  blues.00094.wav     0.376687  0.141018  1239.337228  1659.466470   \n",
       "998  blues.00096.wav     0.260574  0.051349  1132.340629  1582.492047   \n",
       "\n",
       "         rolloff       zcr     MFCC--1     MFCC--2    MFCC--3  ...   MFCC--12  \\\n",
       "899  3806.485316  0.083066 -113.596742  121.557302 -19.158825  ...   8.810668   \n",
       "900  3580.945013  0.101500 -160.266031  126.198800 -35.605448  ...  -2.806385   \n",
       "901  2955.348796  0.061435 -179.395447  136.459244 -26.656359  ...  -6.954827   \n",
       "902  3040.514948  0.076301  -90.754394  140.459907 -29.109965  ...   5.789265   \n",
       "903  3548.820207  0.056044 -207.556796  124.006717   8.930562  ...   5.376802   \n",
       "..           ...       ...         ...         ...        ...  ...        ...   \n",
       "994  4829.320798  0.128426  -90.677485  100.093133 -23.916267  ...  12.988067   \n",
       "995  2604.150920  0.044626 -148.639173  145.746311  -9.363639  ...   3.230693   \n",
       "996  2754.525010  0.057147 -130.553972  139.977099  -1.269146  ...   1.611758   \n",
       "997  2517.618110  0.050908 -206.278431  126.627468  10.585205  ...   3.659409   \n",
       "998  2065.479177  0.048314 -314.582809  139.926741  11.865851  ...   2.077480   \n",
       "\n",
       "      MFCC--13  MFCC--14   MFCC--15  MFCC--16   MFCC--17   MFCC--18  MFCC--19  \\\n",
       "899  -3.667367  5.751690  -5.162761  0.750947  -1.691937  -0.409954 -2.300208   \n",
       "900  -6.934122 -7.558619  -9.173552 -4.512166  -5.453538  -0.924162 -4.409333   \n",
       "901  -3.544535 -8.051242  -8.959537 -8.424337 -10.558885 -10.788159 -4.693749   \n",
       "902  -8.905224 -1.083720  -9.218359  2.455805  -7.726901  -1.815724 -3.433434   \n",
       "903  -2.239119  4.216963  -6.012273  0.936109  -0.716537   0.293875 -0.287431   \n",
       "..         ...       ...        ...       ...        ...        ...       ...   \n",
       "994 -11.415392  2.906069 -12.012914  4.822585 -11.156674   1.159210 -3.913956   \n",
       "995  -0.667060 -0.727791  -6.821160 -3.942547 -15.739370  -5.604688 -5.802770   \n",
       "996  -6.628307  4.952240  -1.633326  0.956659  -4.840757  -5.966955 -2.782187   \n",
       "997  -1.448481 -1.695150  -7.157464  1.171114  -6.221975   0.600703 -1.605095   \n",
       "998 -11.442501 -9.504390 -15.185495 -9.355572  -5.672771   1.564772  0.890936   \n",
       "\n",
       "      MFCC--20  Lable  \n",
       "899   1.219928  Blues  \n",
       "900 -11.703781  Blues  \n",
       "901  -8.638613  Blues  \n",
       "902  -2.226821  Blues  \n",
       "903   0.531573  Blues  \n",
       "..         ...    ...  \n",
       "994   3.250427  Blues  \n",
       "995  -0.048729  Blues  \n",
       "996  -6.494001  Blues  \n",
       "997  -0.528774  Blues  \n",
       "998  -7.960376  Blues  \n",
       "\n",
       "[100 rows x 28 columns]"
      ]
     },
     "execution_count": 6,
     "metadata": {},
     "output_type": "execute_result"
    }
   ],
   "source": [
    "data.tail(100)"
   ]
  },
  {
   "cell_type": "code",
   "execution_count": 7,
   "metadata": {
    "colab": {
     "base_uri": "https://localhost:8080/"
    },
    "id": "XKAoL4OZEyzs",
    "outputId": "6ac4364a-aa1c-4adb-fbfc-414f9ce013dd"
   },
   "outputs": [
    {
     "name": "stdout",
     "output_type": "stream",
     "text": [
      "[[ 0.36718559  1.97962866 -0.67767556 ...  0.67519091 -0.17548743\n",
      "  -1.45493329]\n",
      " [-0.16222343  0.75590734 -0.9402859  ... -0.51241416  0.6467968\n",
      "  -1.10435347]\n",
      " [-0.02436844  1.10977802 -0.92231843 ... -1.48707773 -0.76972713\n",
      "  -1.35116472]\n",
      " ...\n",
      " [-0.10774666  0.85647708 -1.13720964 ... -1.67412392 -0.12089117\n",
      "  -1.40700574]\n",
      " [-0.02550897  0.15409888 -1.34545949 ...  0.0235979   0.19253815\n",
      "   0.14743171]\n",
      " [-1.44769992 -1.21118362 -1.49494558 ...  0.27280724  0.85716693\n",
      "  -1.78911837]]\n",
      "(999, 26)\n"
     ]
    }
   ],
   "source": [
    "x=data.iloc[:,1:-1].values\n",
    "sc=StandardScaler()\n",
    "\n",
    "x=sc.fit_transform(x)\n",
    "\n",
    "print(x)\n",
    "print(x.shape)"
   ]
  },
  {
   "cell_type": "code",
   "execution_count": 8,
   "metadata": {
    "colab": {
     "base_uri": "https://localhost:8080/",
     "height": 52
    },
    "id": "Rrnkk1PgF306",
    "outputId": "aa9b4880-90ea-4674-c08a-8f34723bf91c"
   },
   "outputs": [
    {
     "data": {
      "text/plain": [
       "'x_train= np.reshape(x_train, ((-1, 599, 20, 1)))\\nx_test= np.reshape(x_test, ((-1, 250, 20, 1)))\\nx_validation= np.reshape(x_validation, ((-1, 150, 20, 1)))'"
      ]
     },
     "execution_count": 8,
     "metadata": {},
     "output_type": "execute_result"
    }
   ],
   "source": [
    "x_train,x_test,y_train,y_test=train_test_split(x,y,test_size=0.2,random_state=1)\n",
    "\n",
    "\n",
    "x_train,x_validation,y_train,y_validation=train_test_split(x_train,y_train,test_size=0.125,random_state=1)\n",
    "\n",
    "\n",
    "\n",
    "\n",
    "\n",
    "'''x_train= np.reshape(x_train, ((-1, 599, 20, 1)))\n",
    "x_test= np.reshape(x_test, ((-1, 250, 20, 1)))\n",
    "x_validation= np.reshape(x_validation, ((-1, 150, 20, 1)))'''\n",
    "\n"
   ]
  },
  {
   "cell_type": "code",
   "execution_count": 9,
   "metadata": {
    "colab": {
     "base_uri": "https://localhost:8080/",
     "height": 68
    },
    "id": "Bzc4pi28UJer",
    "outputId": "cc0daaba-b733-4809-c8c3-2d8aa5eeb4ed"
   },
   "outputs": [
    {
     "name": "stdout",
     "output_type": "stream",
     "text": [
      "699\n",
      "(100, 26)\n",
      "(200, 26)\n"
     ]
    }
   ],
   "source": [
    "print(x_train.shape[0])\n",
    "print(x_validation.shape)\n",
    "print(x_test.shape)\n",
    "\n",
    "\n",
    "##input_siz=(x_train.shape[1],x_train.shape[2],1)\n",
    "\n",
    "\n",
    "\n"
   ]
  },
  {
   "cell_type": "code",
   "execution_count": 10,
   "metadata": {
    "id": "8uYGt880MYvt"
   },
   "outputs": [],
   "source": [
    "#BUILDING THE CNN\n",
    "\n",
    "model=keras.Sequential()\n",
    "\n",
    "\n",
    "#layer 1\n",
    "##model.add(keras.layers.Conv2D(32, (3, 3), activation='relu', input_shape=input_siz))\n",
    "#model.add(keras.layers.MaxPooling2D((3, 3), strides=(2, 2), padding='same'))\n",
    "#model.add(keras.layers.BatchNormalization())\n",
    "\n",
    "\n",
    "\n",
    "#layer 2\n",
    "'''model.add(keras.layers.Conv2D(32, (3, 3), activation='relu'))\n",
    "model.add(keras.layers.MaxPooling2D((3, 3), strides=(2, 2), padding='same'))\n",
    "model.add(keras.layers.BatchNormalization())\n",
    "\n",
    "\n",
    "\n",
    "#layer 3\n",
    "model.add(keras.layers.Conv2D(32, (2, 2), activation='relu'))\n",
    "model.add(keras.layers.MaxPooling2D((2, 2), strides=(2, 2), padding='same'))\n",
    "model.add(keras.layers.BatchNormalization())\n",
    "\n",
    "#flatten\n",
    "model.add(keras.layers.Flatten())\n",
    "model.add(keras.layers.Dense(64, activation='relu'))\n",
    "model.add(keras.layers.Dropout(0.3))\n",
    "\n",
    "# output layer\n",
    "model.add(keras.layers.Dense(10, activation='softmax'))'''\n",
    "##model.add(keras.layers.Flatten(input_shape=(x_train.shape[1],)))\n",
    "model.add(keras.layers.Dense(512, activation='relu', kernel_regularizer=keras.regularizers.l2(0.001),input_shape=(x_train.shape[1],)))\n",
    "#model.add(keras.layers.Dropout(0.3))\n",
    "\n",
    "model.add(keras.layers.Dense(256, activation='relu', kernel_regularizer=keras.regularizers.l2(0.001)))\n",
    "#model.add(keras.layers.Dropout(0.3))\n",
    "\n",
    "\n",
    "model.add(keras.layers.Dense(128, activation='relu', kernel_regularizer=keras.regularizers.l2(0.001)))\n",
    "#model.add(keras.layers.Dropout(0.3))\n",
    "\n",
    "\n",
    "model.add(keras.layers.Dense(64, activation='relu', kernel_regularizer=keras.regularizers.l2(0.001)))\n",
    "#model.add(keras.layers.Dropout(0.3))\n",
    "\n",
    "\n",
    "model.add(keras.layers.Dense(10, activation='softmax'))\n"
   ]
  },
  {
   "cell_type": "code",
   "execution_count": 11,
   "metadata": {
    "colab": {
     "base_uri": "https://localhost:8080/"
    },
    "id": "Q4tJ8fBchpOB",
    "outputId": "3734e421-13fa-4123-80cb-db111014ad8d"
   },
   "outputs": [
    {
     "name": "stdout",
     "output_type": "stream",
     "text": [
      "Model: \"sequential\"\n",
      "_________________________________________________________________\n",
      "Layer (type)                 Output Shape              Param #   \n",
      "=================================================================\n",
      "dense (Dense)                (None, 512)               13824     \n",
      "_________________________________________________________________\n",
      "dense_1 (Dense)              (None, 256)               131328    \n",
      "_________________________________________________________________\n",
      "dense_2 (Dense)              (None, 128)               32896     \n",
      "_________________________________________________________________\n",
      "dense_3 (Dense)              (None, 64)                8256      \n",
      "_________________________________________________________________\n",
      "dense_4 (Dense)              (None, 10)                650       \n",
      "=================================================================\n",
      "Total params: 186,954\n",
      "Trainable params: 186,954\n",
      "Non-trainable params: 0\n",
      "_________________________________________________________________\n"
     ]
    }
   ],
   "source": [
    "#compiling the model\n",
    "model.compile(optimizer='adam',\n",
    "              loss='sparse_categorical_crossentropy',\n",
    "              metrics=['accuracy'])\n",
    "model.summary()\n",
    "\n"
   ]
  },
  {
   "cell_type": "code",
   "execution_count": 12,
   "metadata": {
    "colab": {
     "base_uri": "https://localhost:8080/"
    },
    "id": "rjlRDUETl35h",
    "outputId": "b76d7b1d-ab54-414f-f4ff-3110da380738"
   },
   "outputs": [
    {
     "name": "stdout",
     "output_type": "stream",
     "text": [
      "Epoch 1/200\n",
      "3/3 [==============================] - ETA: 0s - loss: 2.9683 - accuracy: 0.08 - 0s 106ms/step - loss: 2.8916 - accuracy: 0.2074 - val_loss: 2.8054 - val_accuracy: 0.2800\n",
      "Epoch 2/200\n",
      "3/3 [==============================] - ETA: 0s - loss: 2.7228 - accuracy: 0.31 - 0s 17ms/step - loss: 2.6564 - accuracy: 0.3262 - val_loss: 2.6755 - val_accuracy: 0.2800\n",
      "Epoch 3/200\n",
      "3/3 [==============================] - ETA: 0s - loss: 2.4937 - accuracy: 0.35 - 0s 16ms/step - loss: 2.4493 - accuracy: 0.3634 - val_loss: 2.4911 - val_accuracy: 0.2900\n",
      "Epoch 4/200\n",
      "3/3 [==============================] - ETA: 0s - loss: 2.3210 - accuracy: 0.39 - 0s 22ms/step - loss: 2.2577 - accuracy: 0.4249 - val_loss: 2.2986 - val_accuracy: 0.3500\n",
      "Epoch 5/200\n",
      "3/3 [==============================] - ETA: 0s - loss: 2.0817 - accuracy: 0.51 - 0s 28ms/step - loss: 2.0927 - accuracy: 0.4864 - val_loss: 2.1740 - val_accuracy: 0.4100\n",
      "Epoch 6/200\n",
      "3/3 [==============================] - ETA: 0s - loss: 1.9787 - accuracy: 0.48 - 0s 22ms/step - loss: 1.9349 - accuracy: 0.5279 - val_loss: 2.0873 - val_accuracy: 0.4800\n",
      "Epoch 7/200\n",
      "3/3 [==============================] - ETA: 0s - loss: 1.8014 - accuracy: 0.56 - 0s 20ms/step - loss: 1.8216 - accuracy: 0.5680 - val_loss: 1.9746 - val_accuracy: 0.4700\n",
      "Epoch 8/200\n",
      "3/3 [==============================] - ETA: 0s - loss: 1.7683 - accuracy: 0.60 - 0s 16ms/step - loss: 1.7110 - accuracy: 0.6066 - val_loss: 1.9213 - val_accuracy: 0.5300\n",
      "Epoch 9/200\n",
      "3/3 [==============================] - ETA: 0s - loss: 1.6676 - accuracy: 0.62 - 0s 17ms/step - loss: 1.6209 - accuracy: 0.6538 - val_loss: 1.8553 - val_accuracy: 0.5000\n",
      "Epoch 10/200\n",
      "3/3 [==============================] - ETA: 0s - loss: 1.5822 - accuracy: 0.65 - 0s 15ms/step - loss: 1.5456 - accuracy: 0.6824 - val_loss: 1.8075 - val_accuracy: 0.5400\n",
      "Epoch 11/200\n",
      "3/3 [==============================] - ETA: 0s - loss: 1.4811 - accuracy: 0.69 - 0s 21ms/step - loss: 1.4850 - accuracy: 0.6881 - val_loss: 1.7793 - val_accuracy: 0.5500\n",
      "Epoch 12/200\n",
      "3/3 [==============================] - ETA: 0s - loss: 1.4650 - accuracy: 0.68 - 0s 16ms/step - loss: 1.4265 - accuracy: 0.7225 - val_loss: 1.7699 - val_accuracy: 0.5000\n",
      "Epoch 13/200\n",
      "3/3 [==============================] - ETA: 0s - loss: 1.3486 - accuracy: 0.73 - 0s 16ms/step - loss: 1.3671 - accuracy: 0.7396 - val_loss: 1.7331 - val_accuracy: 0.5800\n",
      "Epoch 14/200\n",
      "3/3 [==============================] - ETA: 0s - loss: 1.3435 - accuracy: 0.73 - 0s 20ms/step - loss: 1.3096 - accuracy: 0.7539 - val_loss: 1.7647 - val_accuracy: 0.5300\n",
      "Epoch 15/200\n",
      "3/3 [==============================] - ETA: 0s - loss: 1.2279 - accuracy: 0.76 - 0s 19ms/step - loss: 1.2673 - accuracy: 0.7783 - val_loss: 1.7039 - val_accuracy: 0.6000\n",
      "Epoch 16/200\n",
      "3/3 [==============================] - ETA: 0s - loss: 1.2102 - accuracy: 0.81 - 0s 31ms/step - loss: 1.2299 - accuracy: 0.7754 - val_loss: 1.7097 - val_accuracy: 0.6000\n",
      "Epoch 17/200\n",
      "3/3 [==============================] - ETA: 0s - loss: 1.1912 - accuracy: 0.78 - 0s 21ms/step - loss: 1.1888 - accuracy: 0.7911 - val_loss: 1.7041 - val_accuracy: 0.5600\n",
      "Epoch 18/200\n",
      "3/3 [==============================] - ETA: 0s - loss: 1.2181 - accuracy: 0.78 - 0s 30ms/step - loss: 1.1513 - accuracy: 0.8026 - val_loss: 1.6809 - val_accuracy: 0.6000\n",
      "Epoch 19/200\n",
      "3/3 [==============================] - ETA: 0s - loss: 1.0558 - accuracy: 0.85 - 0s 22ms/step - loss: 1.1096 - accuracy: 0.8183 - val_loss: 1.6767 - val_accuracy: 0.5700\n",
      "Epoch 20/200\n",
      "3/3 [==============================] - ETA: 0s - loss: 1.0331 - accuracy: 0.86 - 0s 27ms/step - loss: 1.0819 - accuracy: 0.8326 - val_loss: 1.6982 - val_accuracy: 0.6100\n",
      "Epoch 21/200\n",
      "3/3 [==============================] - ETA: 0s - loss: 1.0387 - accuracy: 0.83 - 0s 23ms/step - loss: 1.0506 - accuracy: 0.8312 - val_loss: 1.7168 - val_accuracy: 0.5800\n",
      "Epoch 22/200\n",
      "3/3 [==============================] - ETA: 0s - loss: 1.0698 - accuracy: 0.83 - 0s 32ms/step - loss: 1.0188 - accuracy: 0.8484 - val_loss: 1.6759 - val_accuracy: 0.6200\n",
      "Epoch 23/200\n",
      "3/3 [==============================] - ETA: 0s - loss: 1.0147 - accuracy: 0.85 - 0s 18ms/step - loss: 1.0034 - accuracy: 0.8498 - val_loss: 1.6997 - val_accuracy: 0.5800\n",
      "Epoch 24/200\n",
      "3/3 [==============================] - ETA: 0s - loss: 0.9214 - accuracy: 0.89 - 0s 18ms/step - loss: 0.9591 - accuracy: 0.8755 - val_loss: 1.7112 - val_accuracy: 0.6100\n",
      "Epoch 25/200\n",
      "3/3 [==============================] - ETA: 0s - loss: 0.9452 - accuracy: 0.87 - 0s 27ms/step - loss: 0.9352 - accuracy: 0.8784 - val_loss: 1.6903 - val_accuracy: 0.6000\n",
      "Epoch 26/200\n",
      "3/3 [==============================] - ETA: 0s - loss: 0.8368 - accuracy: 0.91 - 0s 21ms/step - loss: 0.9033 - accuracy: 0.8970 - val_loss: 1.6700 - val_accuracy: 0.6100\n",
      "Epoch 27/200\n",
      "3/3 [==============================] - ETA: 0s - loss: 0.9002 - accuracy: 0.88 - 0s 21ms/step - loss: 0.8796 - accuracy: 0.8999 - val_loss: 1.7483 - val_accuracy: 0.6100\n",
      "Epoch 28/200\n",
      "3/3 [==============================] - ETA: 0s - loss: 0.8543 - accuracy: 0.90 - 0s 23ms/step - loss: 0.8512 - accuracy: 0.9127 - val_loss: 1.7204 - val_accuracy: 0.6000\n",
      "Epoch 29/200\n",
      "3/3 [==============================] - ETA: 0s - loss: 0.8459 - accuracy: 0.91 - 0s 24ms/step - loss: 0.8361 - accuracy: 0.9170 - val_loss: 1.7301 - val_accuracy: 0.6200\n",
      "Epoch 30/200\n",
      "3/3 [==============================] - ETA: 0s - loss: 0.8154 - accuracy: 0.94 - 0s 19ms/step - loss: 0.8180 - accuracy: 0.9299 - val_loss: 1.7214 - val_accuracy: 0.6100\n",
      "Epoch 31/200\n",
      "3/3 [==============================] - ETA: 0s - loss: 0.7907 - accuracy: 0.92 - 0s 23ms/step - loss: 0.8016 - accuracy: 0.9256 - val_loss: 1.7628 - val_accuracy: 0.6000\n",
      "Epoch 32/200\n",
      "3/3 [==============================] - ETA: 0s - loss: 0.8116 - accuracy: 0.92 - 0s 18ms/step - loss: 0.8014 - accuracy: 0.9270 - val_loss: 1.7796 - val_accuracy: 0.6200\n",
      "Epoch 33/200\n",
      "3/3 [==============================] - ETA: 0s - loss: 0.7838 - accuracy: 0.93 - 0s 41ms/step - loss: 0.7780 - accuracy: 0.9313 - val_loss: 1.7455 - val_accuracy: 0.6200\n",
      "Epoch 34/200\n",
      "3/3 [==============================] - ETA: 0s - loss: 0.7424 - accuracy: 0.95 - 0s 23ms/step - loss: 0.7588 - accuracy: 0.9514 - val_loss: 1.7793 - val_accuracy: 0.6300\n",
      "Epoch 35/200\n",
      "3/3 [==============================] - ETA: 0s - loss: 0.7298 - accuracy: 0.96 - 0s 20ms/step - loss: 0.7310 - accuracy: 0.9557 - val_loss: 1.7756 - val_accuracy: 0.6200\n",
      "Epoch 36/200\n",
      "3/3 [==============================] - ETA: 0s - loss: 0.7419 - accuracy: 0.94 - 0s 17ms/step - loss: 0.7205 - accuracy: 0.9557 - val_loss: 1.8715 - val_accuracy: 0.6100\n",
      "Epoch 37/200\n",
      "3/3 [==============================] - ETA: 0s - loss: 0.6928 - accuracy: 0.96 - 0s 17ms/step - loss: 0.7107 - accuracy: 0.9614 - val_loss: 1.7538 - val_accuracy: 0.6000\n",
      "Epoch 38/200\n",
      "3/3 [==============================] - ETA: 0s - loss: 0.6870 - accuracy: 0.96 - 0s 25ms/step - loss: 0.6908 - accuracy: 0.9671 - val_loss: 1.8167 - val_accuracy: 0.6400\n",
      "Epoch 39/200\n",
      "3/3 [==============================] - ETA: 0s - loss: 0.6910 - accuracy: 0.96 - 0s 18ms/step - loss: 0.6811 - accuracy: 0.9642 - val_loss: 1.8191 - val_accuracy: 0.6400\n",
      "Epoch 40/200\n",
      "3/3 [==============================] - ETA: 0s - loss: 0.6349 - accuracy: 0.98 - 0s 22ms/step - loss: 0.6607 - accuracy: 0.9771 - val_loss: 1.8031 - val_accuracy: 0.6100\n",
      "Epoch 41/200\n",
      "3/3 [==============================] - ETA: 0s - loss: 0.6689 - accuracy: 0.96 - 0s 28ms/step - loss: 0.6507 - accuracy: 0.9757 - val_loss: 1.8634 - val_accuracy: 0.6400\n",
      "Epoch 42/200\n",
      "3/3 [==============================] - ETA: 0s - loss: 0.6329 - accuracy: 0.97 - 0s 23ms/step - loss: 0.6407 - accuracy: 0.9785 - val_loss: 1.8166 - val_accuracy: 0.6500\n",
      "Epoch 43/200\n",
      "3/3 [==============================] - ETA: 0s - loss: 0.6180 - accuracy: 0.98 - 0s 20ms/step - loss: 0.6309 - accuracy: 0.9857 - val_loss: 1.8397 - val_accuracy: 0.6400\n",
      "Epoch 44/200\n",
      "3/3 [==============================] - ETA: 0s - loss: 0.6096 - accuracy: 0.98 - 0s 21ms/step - loss: 0.6152 - accuracy: 0.9843 - val_loss: 1.8292 - val_accuracy: 0.6500\n",
      "Epoch 45/200\n",
      "3/3 [==============================] - ETA: 0s - loss: 0.6029 - accuracy: 0.98 - 0s 17ms/step - loss: 0.6084 - accuracy: 0.9886 - val_loss: 1.9043 - val_accuracy: 0.6200\n"
     ]
    },
    {
     "name": "stdout",
     "output_type": "stream",
     "text": [
      "Epoch 46/200\n",
      "3/3 [==============================] - ETA: 0s - loss: 0.5992 - accuracy: 1.00 - 0s 16ms/step - loss: 0.6069 - accuracy: 0.9857 - val_loss: 1.8321 - val_accuracy: 0.6400\n",
      "Epoch 47/200\n",
      "3/3 [==============================] - ETA: 0s - loss: 0.5933 - accuracy: 0.98 - 0s 28ms/step - loss: 0.5988 - accuracy: 0.9857 - val_loss: 1.8415 - val_accuracy: 0.6500\n",
      "Epoch 48/200\n",
      "3/3 [==============================] - ETA: 0s - loss: 0.5849 - accuracy: 0.98 - 0s 17ms/step - loss: 0.5843 - accuracy: 0.9914 - val_loss: 1.9595 - val_accuracy: 0.6400\n",
      "Epoch 49/200\n",
      "3/3 [==============================] - ETA: 0s - loss: 0.5914 - accuracy: 0.98 - 0s 22ms/step - loss: 0.5810 - accuracy: 0.9914 - val_loss: 1.8052 - val_accuracy: 0.6600\n",
      "Epoch 50/200\n",
      "3/3 [==============================] - ETA: 0s - loss: 0.5716 - accuracy: 0.99 - 0s 20ms/step - loss: 0.5751 - accuracy: 0.9914 - val_loss: 1.8794 - val_accuracy: 0.6400\n",
      "Epoch 51/200\n",
      "3/3 [==============================] - ETA: 0s - loss: 0.5648 - accuracy: 0.99 - 0s 18ms/step - loss: 0.5633 - accuracy: 0.9957 - val_loss: 1.9256 - val_accuracy: 0.6400\n",
      "Epoch 52/200\n",
      "3/3 [==============================] - ETA: 0s - loss: 0.5598 - accuracy: 1.00 - 0s 22ms/step - loss: 0.5560 - accuracy: 0.9986 - val_loss: 1.8936 - val_accuracy: 0.6200\n",
      "Epoch 53/200\n",
      "3/3 [==============================] - ETA: 0s - loss: 0.5577 - accuracy: 0.99 - 0s 20ms/step - loss: 0.5514 - accuracy: 0.9943 - val_loss: 1.9159 - val_accuracy: 0.6400\n",
      "Epoch 54/200\n",
      "3/3 [==============================] - ETA: 0s - loss: 0.5467 - accuracy: 0.99 - 0s 28ms/step - loss: 0.5433 - accuracy: 0.9971 - val_loss: 1.8825 - val_accuracy: 0.6500\n",
      "Epoch 55/200\n",
      "3/3 [==============================] - ETA: 0s - loss: 0.5429 - accuracy: 1.00 - 0s 20ms/step - loss: 0.5376 - accuracy: 0.9986 - val_loss: 1.9197 - val_accuracy: 0.6100\n",
      "Epoch 56/200\n",
      "3/3 [==============================] - ETA: 0s - loss: 0.5273 - accuracy: 0.99 - 0s 27ms/step - loss: 0.5334 - accuracy: 0.9957 - val_loss: 1.9831 - val_accuracy: 0.6200\n",
      "Epoch 57/200\n",
      "3/3 [==============================] - ETA: 0s - loss: 0.5189 - accuracy: 1.00 - 0s 34ms/step - loss: 0.5283 - accuracy: 1.0000 - val_loss: 1.8770 - val_accuracy: 0.6600\n",
      "Epoch 58/200\n",
      "3/3 [==============================] - ETA: 0s - loss: 0.5221 - accuracy: 1.00 - 0s 23ms/step - loss: 0.5238 - accuracy: 1.0000 - val_loss: 1.8731 - val_accuracy: 0.6400\n",
      "Epoch 59/200\n",
      "3/3 [==============================] - ETA: 0s - loss: 0.5162 - accuracy: 1.00 - 0s 20ms/step - loss: 0.5189 - accuracy: 1.0000 - val_loss: 2.0283 - val_accuracy: 0.6400\n",
      "Epoch 60/200\n",
      "3/3 [==============================] - ETA: 0s - loss: 0.5149 - accuracy: 1.00 - 0s 18ms/step - loss: 0.5142 - accuracy: 1.0000 - val_loss: 1.8897 - val_accuracy: 0.6500\n",
      "Epoch 61/200\n",
      "3/3 [==============================] - ETA: 0s - loss: 0.5005 - accuracy: 1.00 - 0s 23ms/step - loss: 0.5108 - accuracy: 1.0000 - val_loss: 1.9166 - val_accuracy: 0.6500\n",
      "Epoch 62/200\n",
      "3/3 [==============================] - ETA: 0s - loss: 0.5028 - accuracy: 1.00 - 0s 25ms/step - loss: 0.5052 - accuracy: 1.0000 - val_loss: 1.9573 - val_accuracy: 0.6400\n",
      "Epoch 63/200\n",
      "3/3 [==============================] - ETA: 0s - loss: 0.5060 - accuracy: 1.00 - 0s 23ms/step - loss: 0.5017 - accuracy: 0.9986 - val_loss: 1.9135 - val_accuracy: 0.6600\n",
      "Epoch 64/200\n",
      "3/3 [==============================] - ETA: 0s - loss: 0.5006 - accuracy: 1.00 - 0s 23ms/step - loss: 0.4958 - accuracy: 1.0000 - val_loss: 1.9851 - val_accuracy: 0.6400\n",
      "Epoch 65/200\n",
      "3/3 [==============================] - ETA: 0s - loss: 0.4909 - accuracy: 1.00 - 0s 22ms/step - loss: 0.4942 - accuracy: 1.0000 - val_loss: 1.9258 - val_accuracy: 0.6500\n",
      "Epoch 66/200\n",
      "3/3 [==============================] - ETA: 0s - loss: 0.4924 - accuracy: 1.00 - 0s 30ms/step - loss: 0.4905 - accuracy: 1.0000 - val_loss: 1.9368 - val_accuracy: 0.6400\n",
      "Epoch 67/200\n",
      "3/3 [==============================] - ETA: 0s - loss: 0.4906 - accuracy: 1.00 - 0s 21ms/step - loss: 0.4870 - accuracy: 1.0000 - val_loss: 1.9860 - val_accuracy: 0.6500\n",
      "Epoch 68/200\n",
      "3/3 [==============================] - ETA: 0s - loss: 0.4837 - accuracy: 1.00 - 0s 21ms/step - loss: 0.4827 - accuracy: 1.0000 - val_loss: 1.9292 - val_accuracy: 0.6500\n",
      "Epoch 69/200\n",
      "3/3 [==============================] - ETA: 0s - loss: 0.4748 - accuracy: 1.00 - 0s 21ms/step - loss: 0.4781 - accuracy: 1.0000 - val_loss: 1.9375 - val_accuracy: 0.6400\n",
      "Epoch 70/200\n",
      "3/3 [==============================] - ETA: 0s - loss: 0.4756 - accuracy: 1.00 - 0s 21ms/step - loss: 0.4745 - accuracy: 1.0000 - val_loss: 1.9874 - val_accuracy: 0.6500\n",
      "Epoch 71/200\n",
      "3/3 [==============================] - ETA: 0s - loss: 0.4710 - accuracy: 1.00 - 0s 20ms/step - loss: 0.4714 - accuracy: 1.0000 - val_loss: 1.9408 - val_accuracy: 0.6300\n",
      "Epoch 72/200\n",
      "3/3 [==============================] - ETA: 0s - loss: 0.4681 - accuracy: 1.00 - 0s 17ms/step - loss: 0.4685 - accuracy: 1.0000 - val_loss: 1.9434 - val_accuracy: 0.6400\n",
      "Epoch 73/200\n",
      "3/3 [==============================] - ETA: 0s - loss: 0.4622 - accuracy: 1.00 - 0s 22ms/step - loss: 0.4640 - accuracy: 1.0000 - val_loss: 1.9832 - val_accuracy: 0.6400\n",
      "Epoch 74/200\n",
      "3/3 [==============================] - ETA: 0s - loss: 0.4633 - accuracy: 1.00 - 0s 22ms/step - loss: 0.4621 - accuracy: 1.0000 - val_loss: 1.9295 - val_accuracy: 0.6400\n",
      "Epoch 75/200\n",
      "3/3 [==============================] - ETA: 0s - loss: 0.4557 - accuracy: 1.00 - 0s 23ms/step - loss: 0.4587 - accuracy: 1.0000 - val_loss: 1.9309 - val_accuracy: 0.6300\n",
      "Epoch 76/200\n",
      "3/3 [==============================] - ETA: 0s - loss: 0.4558 - accuracy: 1.00 - 0s 19ms/step - loss: 0.4553 - accuracy: 1.0000 - val_loss: 2.0118 - val_accuracy: 0.6200\n",
      "Epoch 77/200\n",
      "3/3 [==============================] - ETA: 0s - loss: 0.4534 - accuracy: 1.00 - 0s 19ms/step - loss: 0.4519 - accuracy: 1.0000 - val_loss: 1.9256 - val_accuracy: 0.6500\n",
      "Epoch 78/200\n",
      "3/3 [==============================] - ETA: 0s - loss: 0.4500 - accuracy: 1.00 - 0s 21ms/step - loss: 0.4490 - accuracy: 1.0000 - val_loss: 1.9291 - val_accuracy: 0.6500\n",
      "Epoch 79/200\n",
      "3/3 [==============================] - ETA: 0s - loss: 0.4444 - accuracy: 1.00 - 0s 22ms/step - loss: 0.4458 - accuracy: 1.0000 - val_loss: 1.9639 - val_accuracy: 0.6300\n",
      "Epoch 80/200\n",
      "3/3 [==============================] - ETA: 0s - loss: 0.4412 - accuracy: 1.00 - 0s 23ms/step - loss: 0.4434 - accuracy: 1.0000 - val_loss: 1.9511 - val_accuracy: 0.6300\n",
      "Epoch 81/200\n",
      "3/3 [==============================] - ETA: 0s - loss: 0.4351 - accuracy: 1.00 - 0s 17ms/step - loss: 0.4402 - accuracy: 1.0000 - val_loss: 1.9658 - val_accuracy: 0.6500\n",
      "Epoch 82/200\n",
      "3/3 [==============================] - ETA: 0s - loss: 0.4392 - accuracy: 1.00 - 0s 27ms/step - loss: 0.4369 - accuracy: 1.0000 - val_loss: 1.9482 - val_accuracy: 0.6400\n",
      "Epoch 83/200\n",
      "3/3 [==============================] - ETA: 0s - loss: 0.4368 - accuracy: 1.00 - 0s 23ms/step - loss: 0.4350 - accuracy: 1.0000 - val_loss: 1.9340 - val_accuracy: 0.6300\n",
      "Epoch 84/200\n",
      "3/3 [==============================] - ETA: 0s - loss: 0.4320 - accuracy: 1.00 - 0s 25ms/step - loss: 0.4318 - accuracy: 1.0000 - val_loss: 1.9664 - val_accuracy: 0.6300\n",
      "Epoch 85/200\n",
      "3/3 [==============================] - ETA: 0s - loss: 0.4314 - accuracy: 1.00 - 0s 36ms/step - loss: 0.4291 - accuracy: 1.0000 - val_loss: 1.9348 - val_accuracy: 0.6300\n",
      "Epoch 86/200\n",
      "3/3 [==============================] - ETA: 0s - loss: 0.4265 - accuracy: 1.00 - 0s 26ms/step - loss: 0.4265 - accuracy: 1.0000 - val_loss: 1.9445 - val_accuracy: 0.6300\n",
      "Epoch 87/200\n",
      "3/3 [==============================] - ETA: 0s - loss: 0.4237 - accuracy: 1.00 - 0s 30ms/step - loss: 0.4237 - accuracy: 1.0000 - val_loss: 1.9381 - val_accuracy: 0.6300\n",
      "Epoch 88/200\n",
      "3/3 [==============================] - ETA: 0s - loss: 0.4196 - accuracy: 1.00 - 0s 26ms/step - loss: 0.4211 - accuracy: 1.0000 - val_loss: 1.9253 - val_accuracy: 0.6300\n",
      "Epoch 89/200\n",
      "3/3 [==============================] - ETA: 0s - loss: 0.4189 - accuracy: 1.00 - 0s 25ms/step - loss: 0.4183 - accuracy: 1.0000 - val_loss: 1.9314 - val_accuracy: 0.6300\n",
      "Epoch 90/200\n",
      "3/3 [==============================] - ETA: 0s - loss: 0.4173 - accuracy: 1.00 - 0s 42ms/step - loss: 0.4157 - accuracy: 1.0000 - val_loss: 1.9476 - val_accuracy: 0.6200\n"
     ]
    },
    {
     "name": "stdout",
     "output_type": "stream",
     "text": [
      "Epoch 91/200\n",
      "3/3 [==============================] - ETA: 0s - loss: 0.4132 - accuracy: 1.00 - 0s 28ms/step - loss: 0.4142 - accuracy: 1.0000 - val_loss: 1.9399 - val_accuracy: 0.6300\n",
      "Epoch 92/200\n",
      "3/3 [==============================] - ETA: 0s - loss: 0.4116 - accuracy: 1.00 - 0s 18ms/step - loss: 0.4116 - accuracy: 1.0000 - val_loss: 1.9078 - val_accuracy: 0.6300\n",
      "Epoch 93/200\n",
      "3/3 [==============================] - ETA: 0s - loss: 0.4109 - accuracy: 1.00 - 0s 31ms/step - loss: 0.4088 - accuracy: 1.0000 - val_loss: 1.9242 - val_accuracy: 0.6300\n",
      "Epoch 94/200\n",
      "3/3 [==============================] - ETA: 0s - loss: 0.4065 - accuracy: 1.00 - 0s 23ms/step - loss: 0.4068 - accuracy: 1.0000 - val_loss: 1.9383 - val_accuracy: 0.6400\n",
      "Epoch 95/200\n",
      "3/3 [==============================] - ETA: 0s - loss: 0.4068 - accuracy: 1.00 - 0s 41ms/step - loss: 0.4044 - accuracy: 1.0000 - val_loss: 1.9222 - val_accuracy: 0.6300\n",
      "Epoch 96/200\n",
      "3/3 [==============================] - ETA: 0s - loss: 0.3994 - accuracy: 1.00 - 0s 32ms/step - loss: 0.4014 - accuracy: 1.0000 - val_loss: 1.9297 - val_accuracy: 0.6400\n",
      "Epoch 97/200\n",
      "3/3 [==============================] - ETA: 0s - loss: 0.4008 - accuracy: 1.00 - 0s 22ms/step - loss: 0.3997 - accuracy: 1.0000 - val_loss: 1.8994 - val_accuracy: 0.6400\n",
      "Epoch 98/200\n",
      "3/3 [==============================] - ETA: 0s - loss: 0.3963 - accuracy: 1.00 - 0s 23ms/step - loss: 0.3971 - accuracy: 1.0000 - val_loss: 1.9349 - val_accuracy: 0.6300\n",
      "Epoch 99/200\n",
      "3/3 [==============================] - ETA: 0s - loss: 0.3959 - accuracy: 1.00 - 0s 22ms/step - loss: 0.3950 - accuracy: 1.0000 - val_loss: 1.9274 - val_accuracy: 0.6400\n",
      "Epoch 100/200\n",
      "3/3 [==============================] - ETA: 0s - loss: 0.3919 - accuracy: 1.00 - 0s 18ms/step - loss: 0.3925 - accuracy: 1.0000 - val_loss: 1.9138 - val_accuracy: 0.6300\n",
      "Epoch 101/200\n",
      "3/3 [==============================] - ETA: 0s - loss: 0.3902 - accuracy: 1.00 - 0s 20ms/step - loss: 0.3900 - accuracy: 1.0000 - val_loss: 1.9109 - val_accuracy: 0.6200\n",
      "Epoch 102/200\n",
      "3/3 [==============================] - ETA: 0s - loss: 0.3905 - accuracy: 1.00 - 0s 20ms/step - loss: 0.3880 - accuracy: 1.0000 - val_loss: 1.9031 - val_accuracy: 0.6400\n",
      "Epoch 103/200\n",
      "3/3 [==============================] - ETA: 0s - loss: 0.3844 - accuracy: 1.00 - 0s 29ms/step - loss: 0.3851 - accuracy: 1.0000 - val_loss: 1.9164 - val_accuracy: 0.6300\n",
      "Epoch 104/200\n",
      "3/3 [==============================] - ETA: 0s - loss: 0.3847 - accuracy: 1.00 - 0s 22ms/step - loss: 0.3829 - accuracy: 1.0000 - val_loss: 1.9081 - val_accuracy: 0.6300\n",
      "Epoch 105/200\n",
      "3/3 [==============================] - ETA: 0s - loss: 0.3820 - accuracy: 1.00 - 0s 29ms/step - loss: 0.3807 - accuracy: 1.0000 - val_loss: 1.8891 - val_accuracy: 0.6300\n",
      "Epoch 106/200\n",
      "3/3 [==============================] - ETA: 0s - loss: 0.3806 - accuracy: 1.00 - 0s 27ms/step - loss: 0.3788 - accuracy: 1.0000 - val_loss: 1.9041 - val_accuracy: 0.6300\n",
      "Epoch 107/200\n",
      "3/3 [==============================] - ETA: 0s - loss: 0.3771 - accuracy: 1.00 - 0s 29ms/step - loss: 0.3766 - accuracy: 1.0000 - val_loss: 1.9131 - val_accuracy: 0.6200\n",
      "Epoch 108/200\n",
      "3/3 [==============================] - ETA: 0s - loss: 0.3745 - accuracy: 1.00 - 0s 36ms/step - loss: 0.3747 - accuracy: 1.0000 - val_loss: 1.8863 - val_accuracy: 0.6300\n",
      "Epoch 109/200\n",
      "3/3 [==============================] - ETA: 0s - loss: 0.3734 - accuracy: 1.00 - 0s 28ms/step - loss: 0.3725 - accuracy: 1.0000 - val_loss: 1.8820 - val_accuracy: 0.6500\n",
      "Epoch 110/200\n",
      "3/3 [==============================] - ETA: 0s - loss: 0.3705 - accuracy: 1.00 - 0s 34ms/step - loss: 0.3699 - accuracy: 1.0000 - val_loss: 1.9230 - val_accuracy: 0.6200\n",
      "Epoch 111/200\n",
      "3/3 [==============================] - ETA: 0s - loss: 0.3668 - accuracy: 1.00 - 0s 29ms/step - loss: 0.3680 - accuracy: 1.0000 - val_loss: 1.8854 - val_accuracy: 0.6400\n",
      "Epoch 112/200\n",
      "3/3 [==============================] - ETA: 0s - loss: 0.3656 - accuracy: 1.00 - 0s 33ms/step - loss: 0.3664 - accuracy: 1.0000 - val_loss: 1.8890 - val_accuracy: 0.6300\n",
      "Epoch 113/200\n",
      "3/3 [==============================] - ETA: 0s - loss: 0.3644 - accuracy: 1.00 - 0s 28ms/step - loss: 0.3641 - accuracy: 1.0000 - val_loss: 1.8974 - val_accuracy: 0.6200\n",
      "Epoch 114/200\n",
      "3/3 [==============================] - ETA: 0s - loss: 0.3611 - accuracy: 1.00 - 0s 26ms/step - loss: 0.3617 - accuracy: 1.0000 - val_loss: 1.8854 - val_accuracy: 0.6300\n",
      "Epoch 115/200\n",
      "3/3 [==============================] - ETA: 0s - loss: 0.3598 - accuracy: 1.00 - 0s 31ms/step - loss: 0.3603 - accuracy: 1.0000 - val_loss: 1.8762 - val_accuracy: 0.6400\n",
      "Epoch 116/200\n",
      "3/3 [==============================] - ETA: 0s - loss: 0.3596 - accuracy: 1.00 - 0s 22ms/step - loss: 0.3583 - accuracy: 1.0000 - val_loss: 1.8659 - val_accuracy: 0.6300\n",
      "Epoch 117/200\n",
      "3/3 [==============================] - ETA: 0s - loss: 0.3552 - accuracy: 1.00 - 0s 30ms/step - loss: 0.3563 - accuracy: 1.0000 - val_loss: 1.8920 - val_accuracy: 0.6300\n",
      "Epoch 118/200\n",
      "3/3 [==============================] - ETA: 0s - loss: 0.3523 - accuracy: 1.00 - 0s 25ms/step - loss: 0.3548 - accuracy: 1.0000 - val_loss: 1.8644 - val_accuracy: 0.6200\n",
      "Epoch 119/200\n",
      "3/3 [==============================] - ETA: 0s - loss: 0.3544 - accuracy: 1.00 - ETA: 0s - loss: 0.3522 - accuracy: 1.00 - 0s 73ms/step - loss: 0.3522 - accuracy: 1.0000 - val_loss: 1.8460 - val_accuracy: 0.6400\n",
      "Epoch 120/200\n",
      "3/3 [==============================] - ETA: 0s - loss: 0.3517 - accuracy: 1.00 - 0s 25ms/step - loss: 0.3509 - accuracy: 1.0000 - val_loss: 1.8809 - val_accuracy: 0.6400\n",
      "Epoch 121/200\n",
      "3/3 [==============================] - ETA: 0s - loss: 0.3481 - accuracy: 1.00 - 0s 24ms/step - loss: 0.3493 - accuracy: 1.0000 - val_loss: 1.8763 - val_accuracy: 0.6200\n",
      "Epoch 122/200\n",
      "3/3 [==============================] - ETA: 0s - loss: 0.3454 - accuracy: 1.00 - ETA: 0s - loss: 0.3465 - accuracy: 1.00 - 0s 53ms/step - loss: 0.3465 - accuracy: 1.0000 - val_loss: 1.8624 - val_accuracy: 0.6300\n",
      "Epoch 123/200\n",
      "3/3 [==============================] - ETA: 0s - loss: 0.3466 - accuracy: 1.00 - 0s 24ms/step - loss: 0.3460 - accuracy: 1.0000 - val_loss: 1.8511 - val_accuracy: 0.6300\n",
      "Epoch 124/200\n",
      "3/3 [==============================] - ETA: 0s - loss: 0.3424 - accuracy: 1.00 - 0s 21ms/step - loss: 0.3434 - accuracy: 1.0000 - val_loss: 1.8934 - val_accuracy: 0.6100\n",
      "Epoch 125/200\n",
      "3/3 [==============================] - ETA: 0s - loss: 0.3409 - accuracy: 1.00 - 0s 20ms/step - loss: 0.3416 - accuracy: 1.0000 - val_loss: 1.8649 - val_accuracy: 0.6300\n",
      "Epoch 126/200\n",
      "3/3 [==============================] - ETA: 0s - loss: 0.3379 - accuracy: 1.00 - 0s 21ms/step - loss: 0.3403 - accuracy: 1.0000 - val_loss: 1.8215 - val_accuracy: 0.6300\n",
      "Epoch 127/200\n",
      "3/3 [==============================] - ETA: 0s - loss: 0.3384 - accuracy: 1.00 - 0s 21ms/step - loss: 0.3383 - accuracy: 1.0000 - val_loss: 1.8985 - val_accuracy: 0.6400\n",
      "Epoch 128/200\n",
      "3/3 [==============================] - ETA: 0s - loss: 0.3388 - accuracy: 1.00 - 0s 20ms/step - loss: 0.3367 - accuracy: 1.0000 - val_loss: 1.8570 - val_accuracy: 0.6300\n",
      "Epoch 129/200\n",
      "3/3 [==============================] - ETA: 0s - loss: 0.3361 - accuracy: 1.00 - 0s 30ms/step - loss: 0.3348 - accuracy: 1.0000 - val_loss: 1.8230 - val_accuracy: 0.6200\n",
      "Epoch 130/200\n",
      "3/3 [==============================] - ETA: 0s - loss: 0.3340 - accuracy: 1.00 - 0s 20ms/step - loss: 0.3330 - accuracy: 1.0000 - val_loss: 1.8661 - val_accuracy: 0.6200\n",
      "Epoch 131/200\n",
      "3/3 [==============================] - ETA: 0s - loss: 0.3294 - accuracy: 1.00 - 0s 23ms/step - loss: 0.3315 - accuracy: 1.0000 - val_loss: 1.8506 - val_accuracy: 0.6100\n",
      "Epoch 132/200\n",
      "3/3 [==============================] - ETA: 0s - loss: 0.3291 - accuracy: 1.00 - 0s 21ms/step - loss: 0.3301 - accuracy: 1.0000 - val_loss: 1.8379 - val_accuracy: 0.6300\n",
      "Epoch 133/200\n",
      "3/3 [==============================] - ETA: 0s - loss: 0.3278 - accuracy: 1.00 - ETA: 0s - loss: 0.3280 - accuracy: 1.00 - 0s 50ms/step - loss: 0.3280 - accuracy: 1.0000 - val_loss: 1.8592 - val_accuracy: 0.6300\n",
      "Epoch 134/200\n",
      "3/3 [==============================] - ETA: 0s - loss: 0.3259 - accuracy: 1.00 - 0s 40ms/step - loss: 0.3262 - accuracy: 1.0000 - val_loss: 1.8445 - val_accuracy: 0.6200\n"
     ]
    },
    {
     "name": "stdout",
     "output_type": "stream",
     "text": [
      "Epoch 135/200\n",
      "3/3 [==============================] - ETA: 0s - loss: 0.3263 - accuracy: 1.00 - 0s 26ms/step - loss: 0.3247 - accuracy: 1.0000 - val_loss: 1.8286 - val_accuracy: 0.6300\n",
      "Epoch 136/200\n",
      "3/3 [==============================] - ETA: 0s - loss: 0.3227 - accuracy: 1.00 - 0s 26ms/step - loss: 0.3229 - accuracy: 1.0000 - val_loss: 1.8531 - val_accuracy: 0.6100\n",
      "Epoch 137/200\n",
      "3/3 [==============================] - ETA: 0s - loss: 0.3203 - accuracy: 1.00 - 0s 23ms/step - loss: 0.3215 - accuracy: 1.0000 - val_loss: 1.8294 - val_accuracy: 0.6300\n",
      "Epoch 138/200\n",
      "3/3 [==============================] - ETA: 0s - loss: 0.3210 - accuracy: 1.00 - 0s 25ms/step - loss: 0.3201 - accuracy: 1.0000 - val_loss: 1.8366 - val_accuracy: 0.6300\n",
      "Epoch 139/200\n",
      "3/3 [==============================] - ETA: 0s - loss: 0.3187 - accuracy: 1.00 - 0s 24ms/step - loss: 0.3185 - accuracy: 1.0000 - val_loss: 1.8334 - val_accuracy: 0.6200\n",
      "Epoch 140/200\n",
      "3/3 [==============================] - ETA: 0s - loss: 0.3175 - accuracy: 1.00 - 0s 23ms/step - loss: 0.3167 - accuracy: 1.0000 - val_loss: 1.8411 - val_accuracy: 0.6200\n",
      "Epoch 141/200\n",
      "3/3 [==============================] - ETA: 0s - loss: 0.3139 - accuracy: 1.00 - 0s 23ms/step - loss: 0.3148 - accuracy: 1.0000 - val_loss: 1.8422 - val_accuracy: 0.6000\n",
      "Epoch 142/200\n",
      "3/3 [==============================] - ETA: 0s - loss: 0.3118 - accuracy: 1.00 - 0s 23ms/step - loss: 0.3138 - accuracy: 1.0000 - val_loss: 1.8074 - val_accuracy: 0.6100\n",
      "Epoch 143/200\n",
      "3/3 [==============================] - ETA: 0s - loss: 0.3113 - accuracy: 1.00 - 0s 28ms/step - loss: 0.3120 - accuracy: 1.0000 - val_loss: 1.8516 - val_accuracy: 0.6100\n",
      "Epoch 144/200\n",
      "3/3 [==============================] - ETA: 0s - loss: 0.3116 - accuracy: 1.00 - 0s 24ms/step - loss: 0.3104 - accuracy: 1.0000 - val_loss: 1.8172 - val_accuracy: 0.6100\n",
      "Epoch 145/200\n",
      "3/3 [==============================] - ETA: 0s - loss: 0.3099 - accuracy: 1.00 - 0s 27ms/step - loss: 0.3092 - accuracy: 1.0000 - val_loss: 1.8345 - val_accuracy: 0.6200\n",
      "Epoch 146/200\n",
      "3/3 [==============================] - ETA: 0s - loss: 0.3062 - accuracy: 1.00 - 0s 24ms/step - loss: 0.3073 - accuracy: 1.0000 - val_loss: 1.8333 - val_accuracy: 0.6100\n",
      "Epoch 147/200\n",
      "3/3 [==============================] - ETA: 0s - loss: 0.3060 - accuracy: 1.00 - 0s 24ms/step - loss: 0.3062 - accuracy: 1.0000 - val_loss: 1.8379 - val_accuracy: 0.6100\n",
      "Epoch 148/200\n",
      "3/3 [==============================] - ETA: 0s - loss: 0.3040 - accuracy: 1.00 - 0s 29ms/step - loss: 0.3047 - accuracy: 1.0000 - val_loss: 1.7974 - val_accuracy: 0.6100\n",
      "Epoch 149/200\n",
      "3/3 [==============================] - ETA: 0s - loss: 0.3041 - accuracy: 1.00 - 0s 34ms/step - loss: 0.3029 - accuracy: 1.0000 - val_loss: 1.8233 - val_accuracy: 0.6100\n",
      "Epoch 150/200\n",
      "3/3 [==============================] - ETA: 0s - loss: 0.3004 - accuracy: 1.00 - 0s 24ms/step - loss: 0.3015 - accuracy: 1.0000 - val_loss: 1.8458 - val_accuracy: 0.6100\n",
      "Epoch 151/200\n",
      "3/3 [==============================] - ETA: 0s - loss: 0.3011 - accuracy: 1.00 - 0s 29ms/step - loss: 0.3001 - accuracy: 1.0000 - val_loss: 1.7943 - val_accuracy: 0.6100\n",
      "Epoch 152/200\n",
      "3/3 [==============================] - ETA: 0s - loss: 0.2980 - accuracy: 1.00 - 0s 27ms/step - loss: 0.2990 - accuracy: 1.0000 - val_loss: 1.8021 - val_accuracy: 0.6100\n",
      "Epoch 153/200\n",
      "3/3 [==============================] - ETA: 0s - loss: 0.2998 - accuracy: 1.00 - 0s 24ms/step - loss: 0.2977 - accuracy: 1.0000 - val_loss: 1.8245 - val_accuracy: 0.6000\n",
      "Epoch 154/200\n",
      "3/3 [==============================] - ETA: 0s - loss: 0.2962 - accuracy: 1.00 - 0s 29ms/step - loss: 0.2966 - accuracy: 1.0000 - val_loss: 1.8107 - val_accuracy: 0.6000\n",
      "Epoch 155/200\n",
      "3/3 [==============================] - ETA: 0s - loss: 0.2948 - accuracy: 1.00 - 0s 23ms/step - loss: 0.2951 - accuracy: 1.0000 - val_loss: 1.8335 - val_accuracy: 0.6100\n",
      "Epoch 156/200\n",
      "3/3 [==============================] - ETA: 0s - loss: 0.2943 - accuracy: 1.00 - 0s 31ms/step - loss: 0.2938 - accuracy: 1.0000 - val_loss: 1.8009 - val_accuracy: 0.6300\n",
      "Epoch 157/200\n",
      "3/3 [==============================] - ETA: 0s - loss: 0.2911 - accuracy: 1.00 - 0s 23ms/step - loss: 0.2928 - accuracy: 1.0000 - val_loss: 1.8245 - val_accuracy: 0.6100\n",
      "Epoch 158/200\n",
      "3/3 [==============================] - ETA: 0s - loss: 0.2904 - accuracy: 1.00 - 0s 30ms/step - loss: 0.2909 - accuracy: 1.0000 - val_loss: 1.7996 - val_accuracy: 0.6300\n",
      "Epoch 159/200\n",
      "3/3 [==============================] - ETA: 0s - loss: 0.2896 - accuracy: 1.00 - 0s 23ms/step - loss: 0.2899 - accuracy: 1.0000 - val_loss: 1.8345 - val_accuracy: 0.6200\n",
      "Epoch 160/200\n",
      "3/3 [==============================] - ETA: 0s - loss: 0.2894 - accuracy: 1.00 - 0s 26ms/step - loss: 0.2887 - accuracy: 1.0000 - val_loss: 1.8066 - val_accuracy: 0.6200\n",
      "Epoch 161/200\n",
      "3/3 [==============================] - ETA: 0s - loss: 0.2872 - accuracy: 1.00 - 0s 22ms/step - loss: 0.2870 - accuracy: 1.0000 - val_loss: 1.7861 - val_accuracy: 0.6400\n",
      "Epoch 162/200\n",
      "3/3 [==============================] - ETA: 0s - loss: 0.2866 - accuracy: 1.00 - 0s 26ms/step - loss: 0.2864 - accuracy: 1.0000 - val_loss: 1.7984 - val_accuracy: 0.6200\n",
      "Epoch 163/200\n",
      "3/3 [==============================] - ETA: 0s - loss: 0.2846 - accuracy: 1.00 - 0s 23ms/step - loss: 0.2852 - accuracy: 1.0000 - val_loss: 1.8211 - val_accuracy: 0.6100\n",
      "Epoch 164/200\n",
      "3/3 [==============================] - ETA: 0s - loss: 0.2821 - accuracy: 1.00 - 0s 24ms/step - loss: 0.2838 - accuracy: 1.0000 - val_loss: 1.7836 - val_accuracy: 0.6400\n",
      "Epoch 165/200\n",
      "3/3 [==============================] - ETA: 0s - loss: 0.2821 - accuracy: 1.00 - 0s 23ms/step - loss: 0.2825 - accuracy: 1.0000 - val_loss: 1.8067 - val_accuracy: 0.6000\n",
      "Epoch 166/200\n",
      "3/3 [==============================] - ETA: 0s - loss: 0.2794 - accuracy: 1.00 - 0s 24ms/step - loss: 0.2820 - accuracy: 1.0000 - val_loss: 1.8037 - val_accuracy: 0.6100\n",
      "Epoch 167/200\n",
      "3/3 [==============================] - ETA: 0s - loss: 0.2784 - accuracy: 1.00 - 0s 23ms/step - loss: 0.2802 - accuracy: 1.0000 - val_loss: 1.8121 - val_accuracy: 0.6000\n",
      "Epoch 168/200\n",
      "3/3 [==============================] - ETA: 0s - loss: 0.2779 - accuracy: 1.00 - 0s 27ms/step - loss: 0.2798 - accuracy: 1.0000 - val_loss: 1.7888 - val_accuracy: 0.6200\n",
      "Epoch 169/200\n",
      "3/3 [==============================] - ETA: 0s - loss: 0.2764 - accuracy: 1.00 - 0s 24ms/step - loss: 0.2797 - accuracy: 1.0000 - val_loss: 1.8166 - val_accuracy: 0.6100\n",
      "Epoch 170/200\n",
      "3/3 [==============================] - ETA: 0s - loss: 0.2760 - accuracy: 1.00 - ETA: 0s - loss: 0.2782 - accuracy: 1.00 - 0s 41ms/step - loss: 0.2782 - accuracy: 1.0000 - val_loss: 1.7726 - val_accuracy: 0.6200\n",
      "Epoch 171/200\n",
      "3/3 [==============================] - ETA: 0s - loss: 0.2744 - accuracy: 1.00 - 0s 21ms/step - loss: 0.2756 - accuracy: 1.0000 - val_loss: 1.7784 - val_accuracy: 0.6200\n",
      "Epoch 172/200\n",
      "3/3 [==============================] - ETA: 0s - loss: 0.2741 - accuracy: 1.00 - 0s 29ms/step - loss: 0.2750 - accuracy: 1.0000 - val_loss: 1.8223 - val_accuracy: 0.6200\n",
      "Epoch 173/200\n",
      "3/3 [==============================] - ETA: 0s - loss: 0.2744 - accuracy: 1.00 - 0s 22ms/step - loss: 0.2746 - accuracy: 1.0000 - val_loss: 1.7690 - val_accuracy: 0.6100\n",
      "Epoch 174/200\n",
      "3/3 [==============================] - ETA: 0s - loss: 0.2733 - accuracy: 1.00 - 0s 28ms/step - loss: 0.2729 - accuracy: 1.0000 - val_loss: 1.8470 - val_accuracy: 0.6200\n",
      "Epoch 175/200\n",
      "3/3 [==============================] - ETA: 0s - loss: 0.2713 - accuracy: 1.00 - 0s 30ms/step - loss: 0.2716 - accuracy: 1.0000 - val_loss: 1.7614 - val_accuracy: 0.6400\n",
      "Epoch 176/200\n",
      "3/3 [==============================] - ETA: 0s - loss: 0.2699 - accuracy: 1.00 - 0s 22ms/step - loss: 0.2707 - accuracy: 1.0000 - val_loss: 1.8249 - val_accuracy: 0.6300\n",
      "Epoch 177/200\n",
      "3/3 [==============================] - ETA: 0s - loss: 0.2722 - accuracy: 1.00 - 0s 20ms/step - loss: 0.2702 - accuracy: 1.0000 - val_loss: 1.7748 - val_accuracy: 0.6000\n",
      "Epoch 178/200\n",
      "3/3 [==============================] - ETA: 0s - loss: 0.2668 - accuracy: 1.00 - 0s 21ms/step - loss: 0.2683 - accuracy: 1.0000 - val_loss: 1.7897 - val_accuracy: 0.6200\n",
      "Epoch 179/200\n"
     ]
    },
    {
     "name": "stdout",
     "output_type": "stream",
     "text": [
      "3/3 [==============================] - ETA: 0s - loss: 0.2676 - accuracy: 1.00 - 0s 23ms/step - loss: 0.2667 - accuracy: 1.0000 - val_loss: 1.8058 - val_accuracy: 0.6000\n",
      "Epoch 180/200\n",
      "3/3 [==============================] - ETA: 0s - loss: 0.2663 - accuracy: 1.00 - 0s 30ms/step - loss: 0.2658 - accuracy: 1.0000 - val_loss: 1.7860 - val_accuracy: 0.6000\n",
      "Epoch 181/200\n",
      "3/3 [==============================] - ETA: 0s - loss: 0.2649 - accuracy: 1.00 - 0s 23ms/step - loss: 0.2646 - accuracy: 1.0000 - val_loss: 1.8082 - val_accuracy: 0.6200\n",
      "Epoch 182/200\n",
      "3/3 [==============================] - ETA: 0s - loss: 0.2642 - accuracy: 1.00 - 0s 26ms/step - loss: 0.2630 - accuracy: 1.0000 - val_loss: 1.7328 - val_accuracy: 0.6100\n",
      "Epoch 183/200\n",
      "3/3 [==============================] - ETA: 0s - loss: 0.2634 - accuracy: 1.00 - 0s 24ms/step - loss: 0.2624 - accuracy: 1.0000 - val_loss: 1.8298 - val_accuracy: 0.6000\n",
      "Epoch 184/200\n",
      "3/3 [==============================] - ETA: 0s - loss: 0.2613 - accuracy: 1.00 - 0s 23ms/step - loss: 0.2617 - accuracy: 1.0000 - val_loss: 1.7701 - val_accuracy: 0.6400\n",
      "Epoch 185/200\n",
      "3/3 [==============================] - ETA: 0s - loss: 0.2615 - accuracy: 1.00 - 0s 23ms/step - loss: 0.2609 - accuracy: 1.0000 - val_loss: 1.7986 - val_accuracy: 0.6000\n",
      "Epoch 186/200\n",
      "3/3 [==============================] - ETA: 0s - loss: 0.2597 - accuracy: 1.00 - 0s 23ms/step - loss: 0.2593 - accuracy: 1.0000 - val_loss: 1.7709 - val_accuracy: 0.6100\n",
      "Epoch 187/200\n",
      "3/3 [==============================] - ETA: 0s - loss: 0.2588 - accuracy: 1.00 - 0s 18ms/step - loss: 0.2579 - accuracy: 1.0000 - val_loss: 1.7721 - val_accuracy: 0.6100\n",
      "Epoch 188/200\n",
      "3/3 [==============================] - ETA: 0s - loss: 0.2564 - accuracy: 1.00 - 0s 21ms/step - loss: 0.2572 - accuracy: 1.0000 - val_loss: 1.7761 - val_accuracy: 0.6200\n",
      "Epoch 189/200\n",
      "3/3 [==============================] - ETA: 0s - loss: 0.2553 - accuracy: 1.00 - 0s 20ms/step - loss: 0.2563 - accuracy: 1.0000 - val_loss: 1.7663 - val_accuracy: 0.6000\n",
      "Epoch 190/200\n",
      "3/3 [==============================] - ETA: 0s - loss: 0.2553 - accuracy: 1.00 - 0s 22ms/step - loss: 0.2553 - accuracy: 1.0000 - val_loss: 1.7930 - val_accuracy: 0.6000\n",
      "Epoch 191/200\n",
      "3/3 [==============================] - ETA: 0s - loss: 0.2552 - accuracy: 1.00 - 0s 20ms/step - loss: 0.2542 - accuracy: 1.0000 - val_loss: 1.7525 - val_accuracy: 0.6200\n",
      "Epoch 192/200\n",
      "3/3 [==============================] - ETA: 0s - loss: 0.2512 - accuracy: 1.00 - 0s 21ms/step - loss: 0.2532 - accuracy: 1.0000 - val_loss: 1.8041 - val_accuracy: 0.6100\n",
      "Epoch 193/200\n",
      "3/3 [==============================] - ETA: 0s - loss: 0.2524 - accuracy: 1.00 - 0s 20ms/step - loss: 0.2529 - accuracy: 1.0000 - val_loss: 1.7552 - val_accuracy: 0.6300\n",
      "Epoch 194/200\n",
      "3/3 [==============================] - ETA: 0s - loss: 0.2519 - accuracy: 1.00 - 0s 22ms/step - loss: 0.2517 - accuracy: 1.0000 - val_loss: 1.7665 - val_accuracy: 0.6100\n",
      "Epoch 195/200\n",
      "3/3 [==============================] - ETA: 0s - loss: 0.2495 - accuracy: 1.00 - 0s 26ms/step - loss: 0.2509 - accuracy: 1.0000 - val_loss: 1.7612 - val_accuracy: 0.6300\n",
      "Epoch 196/200\n",
      "3/3 [==============================] - ETA: 0s - loss: 0.2494 - accuracy: 1.00 - 0s 22ms/step - loss: 0.2502 - accuracy: 1.0000 - val_loss: 1.7682 - val_accuracy: 0.6300\n",
      "Epoch 197/200\n",
      "3/3 [==============================] - ETA: 0s - loss: 0.2479 - accuracy: 1.00 - 0s 26ms/step - loss: 0.2502 - accuracy: 1.0000 - val_loss: 1.7599 - val_accuracy: 0.6300\n",
      "Epoch 198/200\n",
      "3/3 [==============================] - ETA: 0s - loss: 0.2495 - accuracy: 1.00 - 0s 22ms/step - loss: 0.2487 - accuracy: 1.0000 - val_loss: 1.7752 - val_accuracy: 0.6200\n",
      "Epoch 199/200\n",
      "3/3 [==============================] - ETA: 0s - loss: 0.2465 - accuracy: 1.00 - 0s 26ms/step - loss: 0.2474 - accuracy: 1.0000 - val_loss: 1.7648 - val_accuracy: 0.6100\n",
      "Epoch 200/200\n",
      "3/3 [==============================] - ETA: 0s - loss: 0.2449 - accuracy: 1.00 - 0s 23ms/step - loss: 0.2469 - accuracy: 1.0000 - val_loss: 1.7870 - val_accuracy: 0.6100\n"
     ]
    }
   ],
   "source": [
    "#train the CNN\n",
    "\n",
    "history = model.fit(x_train, y_train, validation_data=(x_validation, y_validation), batch_size=256, epochs=200)\n",
    "\n",
    "\n"
   ]
  },
  {
   "cell_type": "code",
   "execution_count": 13,
   "metadata": {
    "colab": {
     "base_uri": "https://localhost:8080/"
    },
    "id": "PeezYCa_j8Ug",
    "outputId": "24500ad4-7a5a-4602-ce23-0b19ab0490ce"
   },
   "outputs": [
    {
     "name": "stdout",
     "output_type": "stream",
     "text": [
      "7/7 [==============================] - ETA: 0s - loss: 0.9059 - accuracy: 0.71 - 0s 3ms/step - loss: 1.5435 - accuracy: 0.6750\n",
      "0.675000011920929\n"
     ]
    }
   ],
   "source": [
    "test_error,test_accuracy=model.evaluate(x_test,y_test)\n",
    "print(test_accuracy)"
   ]
  },
  {
   "cell_type": "code",
   "execution_count": 14,
   "metadata": {},
   "outputs": [
    {
     "name": "stdout",
     "output_type": "stream",
     "text": [
      "0.675000011920929\n"
     ]
    }
   ],
   "source": [
    "print(test_accuracy)"
   ]
  },
  {
   "cell_type": "code",
   "execution_count": 15,
   "metadata": {
    "colab": {
     "base_uri": "https://localhost:8080/"
    },
    "id": "DHiQW7CcMtjw",
    "outputId": "365f6f52-4acf-4570-a44d-45b8fff2e03c"
   },
   "outputs": [
    {
     "name": "stdout",
     "output_type": "stream",
     "text": [
      "7/7 [==============================] - ETA: 0s - loss: 0.9059 - accuracy: 0.71 - 0s 3ms/step - loss: 1.5435 - accuracy: 0.6750\n"
     ]
    }
   ],
   "source": [
    "results = model.evaluate(x_test, y_test)\n"
   ]
  },
  {
   "cell_type": "code",
   "execution_count": 16,
   "metadata": {},
   "outputs": [
    {
     "name": "stdout",
     "output_type": "stream",
     "text": [
      "[1.5435419082641602, 0.675000011920929]\n"
     ]
    }
   ],
   "source": [
    "print(results)"
   ]
  },
  {
   "cell_type": "code",
   "execution_count": 17,
   "metadata": {},
   "outputs": [
    {
     "data": {
      "image/png": "[encoded data removed]",
      "text/plain": [
       "<Figure size 432x288 with 1 Axes>"
      ]
     },
     "metadata": {
      "needs_background": "light"
     },
     "output_type": "display_data"
    }
   ],
   "source": [
    "plt.plot(history.history['accuracy'])\n",
    "plt.plot(history.history['val_accuracy'])\n",
    "plt.title(\"Model Accuracy\")\n",
    "plt.ylabel(\"Accuracy\")\n",
    "plt.xlabel(\"Epochs\")\n",
    "plt.legend([\"train\",\"test\"],loc=\"lower right\")\n",
    "plt.show()"
   ]
  },
  {
   "cell_type": "code",
   "execution_count": 23,
   "metadata": {},
   "outputs": [
    {
     "data": {
      "image/png": "[encoded data removed]",
      "text/plain": [
       "<Figure size 432x288 with 1 Axes>"
      ]
     },
     "metadata": {
      "needs_background": "light"
     },
     "output_type": "display_data"
    }
   ],
   "source": [
    "plt.plot(history.history['loss'])\n",
    "plt.plot(history.history['val_loss'])\n",
    "plt.title(\"Model Loss\")\n",
    "plt.ylabel(\"Loss\")\n",
    "plt.xlabel(\"Epochs\")\n",
    "plt.legend([\"train\",\"test\"],loc=\"lower right\")\n",
    "plt.show()"
   ]
  },
  {
   "cell_type": "code",
   "execution_count": 58,
   "metadata": {
    "scrolled": true
   },
   "outputs": [],
   "source": [
    "model.save(\"F:\\\\Sem-5\\\\SGP\\\\source\\\\my_model2.h5\")\n"
   ]
  },
  {
   "cell_type": "code",
   "execution_count": 97,
   "metadata": {},
   "outputs": [
    {
     "ename": "TypeError",
     "evalue": "can't pickle _thread.RLock objects",
     "output_type": "error",
     "traceback": [
      "\u001b[1;31m---------------------------------------------------------------------------\u001b[0m",
      "\u001b[1;31mTypeError\u001b[0m                                 Traceback (most recent call last)",
      "\u001b[1;32m<ipython-input-97-289eb414ff36>\u001b[0m in \u001b[0;36m<module>\u001b[1;34m\u001b[0m\n\u001b[0;32m      1\u001b[0m \u001b[1;32mimport\u001b[0m \u001b[0mpickle\u001b[0m\u001b[1;33m\u001b[0m\u001b[1;33m\u001b[0m\u001b[0m\n\u001b[0;32m      2\u001b[0m \u001b[1;32mwith\u001b[0m \u001b[0mopen\u001b[0m\u001b[1;33m(\u001b[0m\u001b[1;34m'F:\\\\Sem-5\\\\SGP\\\\source\\\\my_model3.pkl'\u001b[0m\u001b[1;33m,\u001b[0m \u001b[1;34m'wb'\u001b[0m\u001b[1;33m)\u001b[0m \u001b[1;32mas\u001b[0m \u001b[0mfid\u001b[0m\u001b[1;33m:\u001b[0m\u001b[1;33m\u001b[0m\u001b[1;33m\u001b[0m\u001b[0m\n\u001b[1;32m----> 3\u001b[1;33m     \u001b[0mpickle\u001b[0m\u001b[1;33m.\u001b[0m\u001b[0mdump\u001b[0m\u001b[1;33m(\u001b[0m\u001b[0mmodel\u001b[0m\u001b[1;33m,\u001b[0m \u001b[0mfid\u001b[0m\u001b[1;33m)\u001b[0m\u001b[1;33m\u001b[0m\u001b[1;33m\u001b[0m\u001b[0m\n\u001b[0m",
      "\u001b[1;31mTypeError\u001b[0m: can't pickle _thread.RLock objects"
     ]
    }
   ],
   "source": [
    "import pickle\n",
    "with open('F:\\\\Sem-5\\\\SGP\\\\source\\\\my_model3.pkl', 'wb') as fid:\n",
    "    pickle.dump(model, fid)"
   ]
  },
  {
   "cell_type": "code",
   "execution_count": 18,
   "metadata": {},
   "outputs": [
    {
     "name": "stdout",
     "output_type": "stream",
     "text": [
      "Model: \"sequential\"\n",
      "_________________________________________________________________\n",
      "Layer (type)                 Output Shape              Param #   \n",
      "=================================================================\n",
      "dense (Dense)                (None, 512)               13824     \n",
      "_________________________________________________________________\n",
      "dense_1 (Dense)              (None, 256)               131328    \n",
      "_________________________________________________________________\n",
      "dense_2 (Dense)              (None, 128)               32896     \n",
      "_________________________________________________________________\n",
      "dense_3 (Dense)              (None, 64)                8256      \n",
      "_________________________________________________________________\n",
      "dense_4 (Dense)              (None, 10)                650       \n",
      "=================================================================\n",
      "Total params: 186,954\n",
      "Trainable params: 186,954\n",
      "Non-trainable params: 0\n",
      "_________________________________________________________________\n"
     ]
    }
   ],
   "source": [
    "model=keras.models.load_model('F:\\\\Sem-5\\\\SGP\\\\source\\\\my_model2.h5')\n",
    "model.summary()\n"
   ]
  },
  {
   "cell_type": "code",
   "execution_count": 19,
   "metadata": {},
   "outputs": [
    {
     "name": "stdout",
     "output_type": "stream",
     "text": [
      "7/7 [==============================] - ETA: 0s - loss: 0.9670 - accuracy: 0.18 - 0s 3ms/step - loss: 1.5423 - accuracy: 0.1200\n"
     ]
    }
   ],
   "source": [
    "stfl_results = model.evaluate(x_test, y_test)"
   ]
  },
  {
   "cell_type": "code",
   "execution_count": 16,
   "metadata": {
    "colab": {
     "base_uri": "https://localhost:8080/",
     "height": 153
    },
    "id": "CZ6IdDliO7qi",
    "outputId": "09bd8872-2e2b-4314-d2ce-cb19544bf0f4",
    "scrolled": true
   },
   "outputs": [
    {
     "name": "stdout",
     "output_type": "stream",
     "text": [
      "[ 1.36845703  1.99251098  0.7079924   0.50941625  0.7763657   0.50071345\n",
      "  1.32529262 -0.56007946  0.01889495  0.98855615 -1.11029317  1.46404319\n",
      " -1.46507038  1.21952488 -0.93193225  0.85497715 -0.59818026  1.41959715\n",
      " -0.53184807  1.13026475 -0.33417671  2.55602716  0.05912829  1.4804646\n",
      " -0.06807845  0.31600732]\n",
      "[array([ 1.36845703,  1.99251098,  0.7079924 ,  0.50941625,  0.7763657 ,\n",
      "        0.50071345,  1.32529262, -0.56007946,  0.01889495,  0.98855615,\n",
      "       -1.11029317,  1.46404319, -1.46507038,  1.21952488, -0.93193225,\n",
      "        0.85497715, -0.59818026,  1.41959715, -0.53184807,  1.13026475,\n",
      "       -0.33417671,  2.55602716,  0.05912829,  1.4804646 , -0.06807845,\n",
      "        0.31600732])]\n"
     ]
    }
   ],
   "source": [
    "print(x_test[0.\n",
    "\n",
    "p=[x_test[0]]\n",
    "\n",
    "print(p)"
   ]
  },
  {
   "cell_type": "code",
   "execution_count": 17,
   "metadata": {
    "colab": {
     "base_uri": "https://localhost:8080/",
     "height": 119
    },
    "id": "X5re1W5P0gU2",
    "outputId": "9b7b8ff5-632e-46f3-8441-f971ad9997bc"
   },
   "outputs": [
    {
     "name": "stdout",
     "output_type": "stream",
     "text": [
      "[[ 1.32529262 -0.56007946  0.01889495  0.98855615 -1.11029317  1.46404319\n",
      "  -1.46507038  1.21952488 -0.93193225  0.85497715 -0.59818026  1.41959715\n",
      "  -0.53184807  1.13026475 -0.33417671  2.55602716  0.05912829  1.4804646\n",
      "  -0.06807845  0.31600732]]\n",
      "1\n",
      "(1, 20)\n"
     ]
    }
   ],
   "source": [
    "intz=[[ 1.32529262, -0.56007946,  0.01889495,  0.98855615, -1.11029317,\n",
    "        1.46404319, -1.46507038,  1.21952488, -0.93193225,  0.85497715,\n",
    "       -0.59818026,  1.41959715, -0.53184807,  1.13026475, -0.33417671,\n",
    "        2.55602716,  0.05912829,  1.4804646 , -0.06807845,  0.31600732]]\n",
    "a=np.array(intz)\n",
    "print(a)\n",
    "print(len(intz))\n",
    "print(a.shape)"
   ]
  },
  {
   "cell_type": "code",
   "execution_count": null,
   "metadata": {},
   "outputs": [],
   "source": []
  },
  {
   "cell_type": "code",
   "execution_count": 27,
   "metadata": {
    "colab": {
     "base_uri": "https://localhost:8080/"
    },
    "id": "cr4jeEo0iqlm",
    "outputId": "5b1a258a-9ff7-43c5-e51d-0c32635b79c5"
   },
   "outputs": [
    {
     "name": "stdout",
     "output_type": "stream",
     "text": [
      "[[-0.35129755 -0.01018673 -0.58427362 -0.45646091 -0.4871603  -0.49337642\n",
      "   0.30870392  0.70367458 -0.47203377  0.36362642 -0.42663763  0.33625311\n",
      "  -0.86238652  0.4985725  -0.6366956   0.40852889 -0.33776249  0.64439141\n",
      "   0.18244481  0.79154799 -0.26442781 -0.08676548  0.50014978 -0.2374021\n",
      "   0.00656483  0.60346896]]\n",
      "[[1.1043650e-10 9.4470580e-25 5.1903689e-15 7.8866767e-36 1.0856979e-28\n",
      "  1.0000000e+00 5.7495558e-30 2.7552496e-22 1.9901338e-15 1.5413786e-17]]\n",
      "The genere for this song is Jazz\n"
     ]
    },
    {
     "data": {
      "image/png": "[encoded data removed]",
      "text/plain": [
       "<Figure size 720x432 with 1 Axes>"
      ]
     },
     "metadata": {
      "needs_background": "light"
     },
     "output_type": "display_data"
    }
   ],
   "source": [
    "from sklearn.preprocessing import StandardScaler\n",
    "q=StandardScaler()\n",
    "\n",
    "new_song='F:\\\\Sem-5\\\\SGP\\\\Test\\\\Saibon.wav'\n",
    "new_signal,sr=librosa.load(new_song,duration=60)\n",
    "f1 = librosa.feature.mfcc(new_signal,sr=sr)\n",
    "f2 = librosa.feature.rms(y=new_signal)\n",
    "f3 = librosa.feature.spectral_centroid(y=new_signal, sr=sr)\n",
    "f4 = librosa.feature.spectral_bandwidth(y=new_signal, sr=sr)\n",
    "f5 = librosa.feature.spectral_rolloff(y=new_signal, sr=sr)\n",
    "f6 = librosa.feature.zero_crossing_rate(new_signal)\n",
    "f7 = librosa.feature.chroma_stft(y=new_signal, sr=sr)\n",
    "\n",
    "##print(mfccs)\n",
    "##print(mfccs.shape)\n",
    "\n",
    "##librosa.display.specshow(mfccs, sr=sr,x_axis='time')\n",
    "##plt.xlabel(\"Time\") \n",
    "##plt.ylabel(\"MFCC\")\n",
    "##plt.colorbar()\n",
    "##plt.show()\n",
    "new=[]\n",
    "new.append(np.mean(f7))\n",
    "new.append(np.mean(f2))\n",
    "new.append(np.mean(f3))\n",
    "new.append(np.mean(f4))\n",
    "new.append(np.mean(f5))\n",
    "new.append(np.mean(f6))\n",
    "\n",
    "\n",
    "\n",
    "for e in f1:\n",
    "  new.append(np.mean(e))\n",
    "\n",
    "##print(to)\n",
    "final_new=[new]\n",
    "##print(arr)\n",
    "#print(final_new)\n",
    "#abcd=q.fit_transform(final_new)\n",
    "\n",
    "final_pree= model.predict(sc.transform(final_new))\n",
    "##print(predictions.shape)\n",
    "#print(abcd)\n",
    "#print(abc)\n",
    "\n",
    "print(final_pree)\n",
    "r=np.argmax(final_pree)\n",
    "#print(final_pre)\n",
    "#print(r)\n",
    "if r==0:\n",
    "  print(\"The genre for this song is Blues\")\n",
    "elif r==1:\n",
    "  print(\"The genere for this song is Classical\")\n",
    "elif r==2:\n",
    "  print(\"The genere for this song is Country\")\n",
    "elif r==3:\n",
    "  print(\"The genere for this song is Disco\")\n",
    "elif r==4:\n",
    "  print(\"The genere for this song is HipHop\")\n",
    "elif r==5:\n",
    "  print(\"The genere for this song is Jazz\")\n",
    "elif r==6:\n",
    "  print(\"The genere for this song is Mental\")\n",
    "elif r==7:\n",
    "  print(\"The genere for this song is Pop\")\n",
    "elif r==8:\n",
    "  print(\"The genere for this song is Reggae\")\n",
    "elif r==9:\n",
    "  print(\"The genere for this song is Rock\")\n",
    "tags = ['Blues', 'Classical', 'Country', 'Disco', 'HipHop', 'Jazz', 'Mental', 'Pop', 'Reggae', 'Rock']\n",
    "tags = np.array(tags)\n",
    "\n",
    "colors = ['b','g','c','r','m','k','y','#ff1122','#5511ff','#44ff22']\n",
    "fig, ax = plt.subplots()\n",
    "index = np.arange(tags.shape[0])\n",
    "opacity = 1\n",
    "bar_width = 0.2\n",
    "mean=final_pree.flatten() \n",
    "#for g in rini_array1.flatten() ange(0, tags.shape[0]):\n",
    "plt.bar(x=index, height=mean, width=bar_width, alpha=opacity, color=colors)\n",
    "plt.rcParams[\"figure.figsize\"] = (10, 6)\n",
    "\n",
    "plt.xlabel('Genres')\n",
    "plt.ylabel('Percentage')\n",
    "plt.title('Scores by genre')\n",
    "plt.xticks(index + bar_width / 2, tags)\n",
    "plt.tight_layout()\n",
    "fig.autofmt_xdate()\n",
    "\n"
   ]
  },
  {
   "cell_type": "code",
   "execution_count": 83,
   "metadata": {},
   "outputs": [
    {
     "name": "stdout",
     "output_type": "stream",
     "text": [
      "[1.7494574e-06 5.8913904e-01 5.2499198e-03 1.6645439e-03 1.6046217e-05\n",
      " 3.6298558e-01 7.7037230e-06 4.0859979e-02 7.3774601e-05 1.7868126e-06]\n"
     ]
    }
   ],
   "source": [
    "print(mean)"
   ]
  },
  {
   "cell_type": "code",
   "execution_count": 66,
   "metadata": {
    "colab": {
     "base_uri": "https://localhost:8080/"
    },
    "id": "rGxbaO74pkGf",
    "outputId": "e1c59970-4c4f-4fdc-b59e-0803787c1a82"
   },
   "outputs": [
    {
     "name": "stdout",
     "output_type": "stream",
     "text": [
      "[3.0959552e-02 9.6213451e-05 1.5980161e-03 7.2204566e-06 4.3926738e-02\n",
      " 1.4207023e-06 9.2332429e-01 8.0238993e-07 4.3627701e-06 8.1381419e-05]\n",
      "(200, 26)\n",
      "4\n",
      "4\n"
     ]
    }
   ],
   "source": [
    "xy = stfl.predict(x_test)\n",
    "##print(predictions.shape)\n",
    "print(x[0])\n",
    "print(x_test.shape)\n",
    "\n",
    "result=np.argmax(xy[46])\n",
    "print(result)\n",
    "print(y_test[46])"
   ]
  },
  {
   "cell_type": "code",
   "execution_count": 21,
   "metadata": {
    "colab": {
     "base_uri": "https://localhost:8080/",
     "height": 85
    },
    "id": "DfpXAcmvDgJK",
    "outputId": "02127d12-7a37-4f5b-9ee9-fc31b78a1410"
   },
   "outputs": [
    {
     "name": "stdout",
     "output_type": "stream",
     "text": [
      "[-1.14932676 -0.36938858 -1.29362571 -1.27794991 -1.3368958  -1.24743132\n",
      " -0.53818708  1.31463079 -0.43809375 -0.34768262 -0.45459152  0.09148493\n",
      "  0.44185904 -0.27077315  0.04985323 -0.20879338  0.13097113 -0.15225097\n",
      "  0.3170161   1.07836792  0.73226117 -0.69215043  1.55899013  0.09146922\n",
      "  1.02429022  0.22407785]\n"
     ]
    }
   ],
   "source": [
    "print(x_train[0])"
   ]
  },
  {
   "cell_type": "code",
   "execution_count": 22,
   "metadata": {},
   "outputs": [
    {
     "name": "stdout",
     "output_type": "stream",
     "text": [
      "rock.00008.wav\n",
      "5.135138930501756\n"
     ]
    },
    {
     "data": {
      "text/plain": [
       "(20,)"
      ]
     },
     "execution_count": 22,
     "metadata": {},
     "output_type": "execute_result"
    }
   ],
   "source": [
    "new_arr=data.iloc[:,7:-1].values\n",
    "new_lable=data.iloc[:,0:1].values\n",
    "a=new_arr.mean(axis=1)\n",
    "print(new_lable[0][0])\n",
    "print(a[0])\n",
    "new_arr[0].shape"
   ]
  },
  {
   "cell_type": "code",
   "execution_count": null,
   "metadata": {},
   "outputs": [],
   "source": [
    "head=[\"File-Name\",\"Rating\"]\n",
    "with open('data3.csv','w',newline='') as files:\n",
    "    thewriter=csv.writer(files)\n",
    "\n",
    "    thewriter.writerow(head)\n",
    "for i in range(0,999):\n",
    "    row=[]\n",
    "    row.append(new_lable[i][0])\n",
    "    row.append(a[i])\n",
    "    \n",
    "    with open('data3.csv','a',newline='') as files:\n",
    "        writer=csv.writer(files)\n",
    "        writer.writerow(row)\n"
   ]
  },
  {
   "cell_type": "code",
   "execution_count": null,
   "metadata": {},
   "outputs": [],
   "source": [
    "new_data2=pd.DataFrame(data.groupby(\"File-name\") [\"new_arr\"])\n",
    "new_data2"
   ]
  },
  {
   "cell_type": "code",
   "execution_count": null,
   "metadata": {},
   "outputs": [],
   "source": [
    "new_data=pd.DataFrame(data.groupby('File-name')[\"zcr\"].mean())\n",
    "new_data"
   ]
  },
  {
   "cell_type": "code",
   "execution_count": 23,
   "metadata": {},
   "outputs": [
    {
     "data": {
      "text/html": [
       "<div>\n",
       "<style scoped>\n",
       "    .dataframe tbody tr th:only-of-type {\n",
       "        vertical-align: middle;\n",
       "    }\n",
       "\n",
       "    .dataframe tbody tr th {\n",
       "        vertical-align: top;\n",
       "    }\n",
       "\n",
       "    .dataframe thead th {\n",
       "        text-align: right;\n",
       "    }\n",
       "</style>\n",
       "<table border=\"1\" class=\"dataframe\">\n",
       "  <thead>\n",
       "    <tr style=\"text-align: right;\">\n",
       "      <th></th>\n",
       "      <th>File-Name</th>\n",
       "      <th>Rating</th>\n",
       "    </tr>\n",
       "  </thead>\n",
       "  <tbody>\n",
       "    <tr>\n",
       "      <td>0</td>\n",
       "      <td>rock.00008.wav</td>\n",
       "      <td>5.135139</td>\n",
       "    </tr>\n",
       "    <tr>\n",
       "      <td>1</td>\n",
       "      <td>rock.00001.wav</td>\n",
       "      <td>2.734301</td>\n",
       "    </tr>\n",
       "    <tr>\n",
       "      <td>2</td>\n",
       "      <td>rock.00005.wav</td>\n",
       "      <td>1.876016</td>\n",
       "    </tr>\n",
       "    <tr>\n",
       "      <td>3</td>\n",
       "      <td>rock.00006.wav</td>\n",
       "      <td>-0.998976</td>\n",
       "    </tr>\n",
       "    <tr>\n",
       "      <td>4</td>\n",
       "      <td>rock.00003.wav</td>\n",
       "      <td>3.532988</td>\n",
       "    </tr>\n",
       "  </tbody>\n",
       "</table>\n",
       "</div>"
      ],
      "text/plain": [
       "        File-Name    Rating\n",
       "0  rock.00008.wav  5.135139\n",
       "1  rock.00001.wav  2.734301\n",
       "2  rock.00005.wav  1.876016\n",
       "3  rock.00006.wav -0.998976\n",
       "4  rock.00003.wav  3.532988"
      ]
     },
     "execution_count": 23,
     "metadata": {},
     "output_type": "execute_result"
    }
   ],
   "source": [
    "data2=pd.read_csv('F:\\Sem-5\\SGP\\source\\data3.csv')\n",
    "data2.head()"
   ]
  },
  {
   "cell_type": "code",
   "execution_count": 25,
   "metadata": {},
   "outputs": [
    {
     "data": {
      "text/html": [
       "<div>\n",
       "<style scoped>\n",
       "    .dataframe tbody tr th:only-of-type {\n",
       "        vertical-align: middle;\n",
       "    }\n",
       "\n",
       "    .dataframe tbody tr th {\n",
       "        vertical-align: top;\n",
       "    }\n",
       "\n",
       "    .dataframe thead th {\n",
       "        text-align: right;\n",
       "    }\n",
       "</style>\n",
       "<table border=\"1\" class=\"dataframe\">\n",
       "  <thead>\n",
       "    <tr style=\"text-align: right;\">\n",
       "      <th></th>\n",
       "      <th>Rating</th>\n",
       "    </tr>\n",
       "    <tr>\n",
       "      <th>File-Name</th>\n",
       "      <th></th>\n",
       "    </tr>\n",
       "  </thead>\n",
       "  <tbody>\n",
       "    <tr>\n",
       "      <td>blues.00000.wav</td>\n",
       "      <td>1.935690</td>\n",
       "    </tr>\n",
       "    <tr>\n",
       "      <td>blues.00001.wav</td>\n",
       "      <td>-0.058070</td>\n",
       "    </tr>\n",
       "    <tr>\n",
       "      <td>blues.00002.wav</td>\n",
       "      <td>1.033480</td>\n",
       "    </tr>\n",
       "    <tr>\n",
       "      <td>blues.00003.wav</td>\n",
       "      <td>0.078957</td>\n",
       "    </tr>\n",
       "    <tr>\n",
       "      <td>blues.00004.wav</td>\n",
       "      <td>-8.457873</td>\n",
       "    </tr>\n",
       "    <tr>\n",
       "      <td>...</td>\n",
       "      <td>...</td>\n",
       "    </tr>\n",
       "    <tr>\n",
       "      <td>rock.00095.wav</td>\n",
       "      <td>-1.728487</td>\n",
       "    </tr>\n",
       "    <tr>\n",
       "      <td>rock.00096.wav</td>\n",
       "      <td>-1.764581</td>\n",
       "    </tr>\n",
       "    <tr>\n",
       "      <td>rock.00097.wav</td>\n",
       "      <td>-2.667840</td>\n",
       "    </tr>\n",
       "    <tr>\n",
       "      <td>rock.00098.wav</td>\n",
       "      <td>-2.238661</td>\n",
       "    </tr>\n",
       "    <tr>\n",
       "      <td>rock.00099.wav</td>\n",
       "      <td>-3.199672</td>\n",
       "    </tr>\n",
       "  </tbody>\n",
       "</table>\n",
       "<p>999 rows × 1 columns</p>\n",
       "</div>"
      ],
      "text/plain": [
       "                   Rating\n",
       "File-Name                \n",
       "blues.00000.wav  1.935690\n",
       "blues.00001.wav -0.058070\n",
       "blues.00002.wav  1.033480\n",
       "blues.00003.wav  0.078957\n",
       "blues.00004.wav -8.457873\n",
       "...                   ...\n",
       "rock.00095.wav  -1.728487\n",
       "rock.00096.wav  -1.764581\n",
       "rock.00097.wav  -2.667840\n",
       "rock.00098.wav  -2.238661\n",
       "rock.00099.wav  -3.199672\n",
       "\n",
       "[999 rows x 1 columns]"
      ]
     },
     "execution_count": 25,
     "metadata": {},
     "output_type": "execute_result"
    }
   ],
   "source": [
    "new_data3=pd.DataFrame(data2.groupby(\"File-Name\") [\"Rating\"].mean())\n",
    "new_data3"
   ]
  },
  {
   "cell_type": "code",
   "execution_count": 29,
   "metadata": {},
   "outputs": [
    {
     "name": "stdout",
     "output_type": "stream",
     "text": [
      "blues.00000.wav\n"
     ]
    },
    {
     "ename": "AttributeError",
     "evalue": "'str' object has no attribute '_get_numeric_data'",
     "output_type": "error",
     "traceback": [
      "\u001b[1;31m---------------------------------------------------------------------------\u001b[0m",
      "\u001b[1;31mAttributeError\u001b[0m                            Traceback (most recent call last)",
      "\u001b[1;32m<ipython-input-29-121824f911b9>\u001b[0m in \u001b[0;36m<module>\u001b[1;34m\u001b[0m\n\u001b[0;32m      3\u001b[0m \u001b[1;33m\u001b[0m\u001b[0m\n\u001b[0;32m      4\u001b[0m \u001b[1;33m\u001b[0m\u001b[0m\n\u001b[1;32m----> 5\u001b[1;33m \u001b[0msimilar\u001b[0m\u001b[1;33m=\u001b[0m\u001b[0mnew_data3\u001b[0m\u001b[1;33m.\u001b[0m\u001b[0mcorrwith\u001b[0m\u001b[1;33m(\u001b[0m\u001b[0mquery_index1\u001b[0m\u001b[1;33m)\u001b[0m\u001b[1;33m\u001b[0m\u001b[1;33m\u001b[0m\u001b[0m\n\u001b[0m",
      "\u001b[1;32m~\\Anaconda3\\lib\\site-packages\\pandas\\core\\frame.py\u001b[0m in \u001b[0;36mcorrwith\u001b[1;34m(self, other, axis, drop, method)\u001b[0m\n\u001b[0;32m   7682\u001b[0m             \u001b[1;32mreturn\u001b[0m \u001b[0mthis\u001b[0m\u001b[1;33m.\u001b[0m\u001b[0mapply\u001b[0m\u001b[1;33m(\u001b[0m\u001b[1;32mlambda\u001b[0m \u001b[0mx\u001b[0m\u001b[1;33m:\u001b[0m \u001b[0mother\u001b[0m\u001b[1;33m.\u001b[0m\u001b[0mcorr\u001b[0m\u001b[1;33m(\u001b[0m\u001b[0mx\u001b[0m\u001b[1;33m,\u001b[0m \u001b[0mmethod\u001b[0m\u001b[1;33m=\u001b[0m\u001b[0mmethod\u001b[0m\u001b[1;33m)\u001b[0m\u001b[1;33m,\u001b[0m \u001b[0maxis\u001b[0m\u001b[1;33m=\u001b[0m\u001b[0maxis\u001b[0m\u001b[1;33m)\u001b[0m\u001b[1;33m\u001b[0m\u001b[1;33m\u001b[0m\u001b[0m\n\u001b[0;32m   7683\u001b[0m \u001b[1;33m\u001b[0m\u001b[0m\n\u001b[1;32m-> 7684\u001b[1;33m         \u001b[0mother\u001b[0m \u001b[1;33m=\u001b[0m \u001b[0mother\u001b[0m\u001b[1;33m.\u001b[0m\u001b[0m_get_numeric_data\u001b[0m\u001b[1;33m(\u001b[0m\u001b[1;33m)\u001b[0m\u001b[1;33m\u001b[0m\u001b[1;33m\u001b[0m\u001b[0m\n\u001b[0m\u001b[0;32m   7685\u001b[0m         \u001b[0mleft\u001b[0m\u001b[1;33m,\u001b[0m \u001b[0mright\u001b[0m \u001b[1;33m=\u001b[0m \u001b[0mthis\u001b[0m\u001b[1;33m.\u001b[0m\u001b[0malign\u001b[0m\u001b[1;33m(\u001b[0m\u001b[0mother\u001b[0m\u001b[1;33m,\u001b[0m \u001b[0mjoin\u001b[0m\u001b[1;33m=\u001b[0m\u001b[1;34m\"inner\"\u001b[0m\u001b[1;33m,\u001b[0m \u001b[0mcopy\u001b[0m\u001b[1;33m=\u001b[0m\u001b[1;32mFalse\u001b[0m\u001b[1;33m)\u001b[0m\u001b[1;33m\u001b[0m\u001b[1;33m\u001b[0m\u001b[0m\n\u001b[0;32m   7686\u001b[0m \u001b[1;33m\u001b[0m\u001b[0m\n",
      "\u001b[1;31mAttributeError\u001b[0m: 'str' object has no attribute '_get_numeric_data'"
     ]
    }
   ],
   "source": [
    "query_index1 =new_data3.index[0]\n",
    "print(query_index1)\n",
    "\n",
    "\n",
    "similar=new_data3.corrwith(query_index1)"
   ]
  },
  {
   "cell_type": "code",
   "execution_count": 27,
   "metadata": {},
   "outputs": [
    {
     "data": {
      "text/plain": [
       "NearestNeighbors(algorithm='brute', leaf_size=30, metric='cosine',\n",
       "                 metric_params=None, n_jobs=None, n_neighbors=5, p=2,\n",
       "                 radius=1.0)"
      ]
     },
     "execution_count": 27,
     "metadata": {},
     "output_type": "execute_result"
    }
   ],
   "source": [
    "from scipy.sparse import csr_matrix\n",
    "\n",
    "final = csr_matrix(new_data3.values)\n",
    "\n",
    "from sklearn.neighbors import NearestNeighbors\n",
    "\n",
    "\n",
    "model_knn = NearestNeighbors(metric = 'cosine', algorithm = 'brute')\n",
    "model_knn.fit(final)"
   ]
  },
  {
   "cell_type": "code",
   "execution_count": 31,
   "metadata": {},
   "outputs": [
    {
     "data": {
      "text/plain": [
       "array([[6.06585448]])"
      ]
     },
     "execution_count": 31,
     "metadata": {},
     "output_type": "execute_result"
    }
   ],
   "source": [
    "(new_data3.iloc[query_index,:].values.reshape(1, -1))"
   ]
  },
  {
   "cell_type": "code",
   "execution_count": 40,
   "metadata": {},
   "outputs": [
    {
     "name": "stdout",
     "output_type": "stream",
     "text": [
      "902\n"
     ]
    }
   ],
   "source": [
    "query_index = np.random.choice(new_data3.shape[0])\n",
    "print(query_index)\n",
    "distances, indices = model_knn.kneighbors(new_data3.iloc[query_index,:].values.reshape(1, -1), n_neighbors = 5)"
   ]
  },
  {
   "cell_type": "code",
   "execution_count": 65,
   "metadata": {},
   "outputs": [
    {
     "data": {
      "text/plain": [
       "'hiphop.00015.wav'"
      ]
     },
     "execution_count": 65,
     "metadata": {},
     "output_type": "execute_result"
    }
   ],
   "source": [
    "new_data3.iloc[query_index,:].values\n",
    "len(distances.flatten())\n",
    "new_data3.index[indices.flatten()[i]]"
   ]
  },
  {
   "cell_type": "code",
   "execution_count": 42,
   "metadata": {},
   "outputs": [
    {
     "name": "stdout",
     "output_type": "stream",
     "text": [
      "[[0. 0. 0. 0. 0.]]\n",
      "[[416 414 417 419 415]]\n"
     ]
    }
   ],
   "source": [
    "print(distances)\n",
    "print(indices)\n"
   ]
  },
  {
   "cell_type": "code",
   "execution_count": 43,
   "metadata": {},
   "outputs": [
    {
     "name": "stdout",
     "output_type": "stream",
     "text": [
      "Recommendations for rock.00003.wav:\n",
      "\n",
      "1: hiphop.00014.wav, with distance of 0.0:\n",
      "2: hiphop.00017.wav, with distance of 0.0:\n",
      "3: hiphop.00019.wav, with distance of 0.0:\n",
      "4: hiphop.00015.wav, with distance of 0.0:\n"
     ]
    }
   ],
   "source": [
    "for i in range(0, len(distances.flatten())):\n",
    "    if i == 0:\n",
    "        print('Recommendations for {0}:\\n'.format(new_data3.index[query_index]))\n",
    "    else:\n",
    "        print('{0}: {1}, with distance of {2}:'.format(i, new_data3.index[indices.flatten()[i]], distances.flatten()[i]))"
   ]
  },
  {
   "cell_type": "code",
   "execution_count": 60,
   "metadata": {},
   "outputs": [
    {
     "ename": "FileNotFoundError",
     "evalue": "[WinError 2] The system cannot find the file specified",
     "output_type": "error",
     "traceback": [
      "\u001b[1;31m---------------------------------------------------------------------------\u001b[0m",
      "\u001b[1;31mFileNotFoundError\u001b[0m                         Traceback (most recent call last)",
      "\u001b[1;32m<ipython-input-60-b64402408f11>\u001b[0m in \u001b[0;36m<module>\u001b[1;34m\u001b[0m\n\u001b[0;32m      4\u001b[0m \u001b[0mdest\u001b[0m\u001b[1;33m=\u001b[0m\u001b[1;34m\"F:\\\\Sem-5\\\\SGP\\\\Test\\\\song1.wav\"\u001b[0m\u001b[1;33m\u001b[0m\u001b[1;33m\u001b[0m\u001b[0m\n\u001b[0;32m      5\u001b[0m \u001b[1;33m\u001b[0m\u001b[0m\n\u001b[1;32m----> 6\u001b[1;33m \u001b[0msound\u001b[0m\u001b[1;33m=\u001b[0m\u001b[0mAudioSegment\u001b[0m\u001b[1;33m.\u001b[0m\u001b[0mfrom_mp3\u001b[0m\u001b[1;33m(\u001b[0m\u001b[0msrc\u001b[0m\u001b[1;33m)\u001b[0m\u001b[1;33m\u001b[0m\u001b[1;33m\u001b[0m\u001b[0m\n\u001b[0m\u001b[0;32m      7\u001b[0m \u001b[0msound\u001b[0m\u001b[1;33m.\u001b[0m\u001b[0mexport\u001b[0m\u001b[1;33m(\u001b[0m\u001b[0mdest\u001b[0m\u001b[1;33m,\u001b[0m\u001b[0mformat\u001b[0m\u001b[1;33m=\u001b[0m\u001b[1;34m\"wav\"\u001b[0m\u001b[1;33m)\u001b[0m\u001b[1;33m\u001b[0m\u001b[1;33m\u001b[0m\u001b[0m\n",
      "\u001b[1;32m~\\Anaconda3\\lib\\site-packages\\pydub\\audio_segment.py\u001b[0m in \u001b[0;36mfrom_mp3\u001b[1;34m(cls, file, parameters)\u001b[0m\n\u001b[0;32m    736\u001b[0m     \u001b[1;33m@\u001b[0m\u001b[0mclassmethod\u001b[0m\u001b[1;33m\u001b[0m\u001b[1;33m\u001b[0m\u001b[0m\n\u001b[0;32m    737\u001b[0m     \u001b[1;32mdef\u001b[0m \u001b[0mfrom_mp3\u001b[0m\u001b[1;33m(\u001b[0m\u001b[0mcls\u001b[0m\u001b[1;33m,\u001b[0m \u001b[0mfile\u001b[0m\u001b[1;33m,\u001b[0m \u001b[0mparameters\u001b[0m\u001b[1;33m=\u001b[0m\u001b[1;32mNone\u001b[0m\u001b[1;33m)\u001b[0m\u001b[1;33m:\u001b[0m\u001b[1;33m\u001b[0m\u001b[1;33m\u001b[0m\u001b[0m\n\u001b[1;32m--> 738\u001b[1;33m         \u001b[1;32mreturn\u001b[0m \u001b[0mcls\u001b[0m\u001b[1;33m.\u001b[0m\u001b[0mfrom_file\u001b[0m\u001b[1;33m(\u001b[0m\u001b[0mfile\u001b[0m\u001b[1;33m,\u001b[0m \u001b[1;34m'mp3'\u001b[0m\u001b[1;33m,\u001b[0m \u001b[0mparameters\u001b[0m\u001b[1;33m=\u001b[0m\u001b[0mparameters\u001b[0m\u001b[1;33m)\u001b[0m\u001b[1;33m\u001b[0m\u001b[1;33m\u001b[0m\u001b[0m\n\u001b[0m\u001b[0;32m    739\u001b[0m \u001b[1;33m\u001b[0m\u001b[0m\n\u001b[0;32m    740\u001b[0m     \u001b[1;33m@\u001b[0m\u001b[0mclassmethod\u001b[0m\u001b[1;33m\u001b[0m\u001b[1;33m\u001b[0m\u001b[0m\n",
      "\u001b[1;32m~\\Anaconda3\\lib\\site-packages\\pydub\\audio_segment.py\u001b[0m in \u001b[0;36mfrom_file\u001b[1;34m(cls, file, format, codec, parameters, **kwargs)\u001b[0m\n\u001b[0;32m    683\u001b[0m             \u001b[0minfo\u001b[0m \u001b[1;33m=\u001b[0m \u001b[1;32mNone\u001b[0m\u001b[1;33m\u001b[0m\u001b[1;33m\u001b[0m\u001b[0m\n\u001b[0;32m    684\u001b[0m         \u001b[1;32melse\u001b[0m\u001b[1;33m:\u001b[0m\u001b[1;33m\u001b[0m\u001b[1;33m\u001b[0m\u001b[0m\n\u001b[1;32m--> 685\u001b[1;33m             \u001b[0minfo\u001b[0m \u001b[1;33m=\u001b[0m \u001b[0mmediainfo_json\u001b[0m\u001b[1;33m(\u001b[0m\u001b[0morig_file\u001b[0m\u001b[1;33m,\u001b[0m \u001b[0mread_ahead_limit\u001b[0m\u001b[1;33m=\u001b[0m\u001b[0mread_ahead_limit\u001b[0m\u001b[1;33m)\u001b[0m\u001b[1;33m\u001b[0m\u001b[1;33m\u001b[0m\u001b[0m\n\u001b[0m\u001b[0;32m    686\u001b[0m         \u001b[1;32mif\u001b[0m \u001b[0minfo\u001b[0m\u001b[1;33m:\u001b[0m\u001b[1;33m\u001b[0m\u001b[1;33m\u001b[0m\u001b[0m\n\u001b[0;32m    687\u001b[0m             audio_streams = [x for x in info['streams']\n",
      "\u001b[1;32m~\\Anaconda3\\lib\\site-packages\\pydub\\utils.py\u001b[0m in \u001b[0;36mmediainfo_json\u001b[1;34m(filepath, read_ahead_limit)\u001b[0m\n\u001b[0;32m    272\u001b[0m \u001b[1;33m\u001b[0m\u001b[0m\n\u001b[0;32m    273\u001b[0m     \u001b[0mcommand\u001b[0m \u001b[1;33m=\u001b[0m \u001b[1;33m[\u001b[0m\u001b[0mprober\u001b[0m\u001b[1;33m,\u001b[0m \u001b[1;34m'-of'\u001b[0m\u001b[1;33m,\u001b[0m \u001b[1;34m'json'\u001b[0m\u001b[1;33m]\u001b[0m \u001b[1;33m+\u001b[0m \u001b[0mcommand_args\u001b[0m\u001b[1;33m\u001b[0m\u001b[1;33m\u001b[0m\u001b[0m\n\u001b[1;32m--> 274\u001b[1;33m     \u001b[0mres\u001b[0m \u001b[1;33m=\u001b[0m \u001b[0mPopen\u001b[0m\u001b[1;33m(\u001b[0m\u001b[0mcommand\u001b[0m\u001b[1;33m,\u001b[0m \u001b[0mstdin\u001b[0m\u001b[1;33m=\u001b[0m\u001b[0mstdin_parameter\u001b[0m\u001b[1;33m,\u001b[0m \u001b[0mstdout\u001b[0m\u001b[1;33m=\u001b[0m\u001b[0mPIPE\u001b[0m\u001b[1;33m,\u001b[0m \u001b[0mstderr\u001b[0m\u001b[1;33m=\u001b[0m\u001b[0mPIPE\u001b[0m\u001b[1;33m)\u001b[0m\u001b[1;33m\u001b[0m\u001b[1;33m\u001b[0m\u001b[0m\n\u001b[0m\u001b[0;32m    275\u001b[0m     \u001b[0moutput\u001b[0m\u001b[1;33m,\u001b[0m \u001b[0mstderr\u001b[0m \u001b[1;33m=\u001b[0m \u001b[0mres\u001b[0m\u001b[1;33m.\u001b[0m\u001b[0mcommunicate\u001b[0m\u001b[1;33m(\u001b[0m\u001b[0minput\u001b[0m\u001b[1;33m=\u001b[0m\u001b[0mstdin_data\u001b[0m\u001b[1;33m)\u001b[0m\u001b[1;33m\u001b[0m\u001b[1;33m\u001b[0m\u001b[0m\n\u001b[0;32m    276\u001b[0m     \u001b[0moutput\u001b[0m \u001b[1;33m=\u001b[0m \u001b[0moutput\u001b[0m\u001b[1;33m.\u001b[0m\u001b[0mdecode\u001b[0m\u001b[1;33m(\u001b[0m\u001b[1;34m\"utf-8\"\u001b[0m\u001b[1;33m,\u001b[0m \u001b[1;34m'ignore'\u001b[0m\u001b[1;33m)\u001b[0m\u001b[1;33m\u001b[0m\u001b[1;33m\u001b[0m\u001b[0m\n",
      "\u001b[1;32m~\\Anaconda3\\lib\\subprocess.py\u001b[0m in \u001b[0;36m__init__\u001b[1;34m(self, args, bufsize, executable, stdin, stdout, stderr, preexec_fn, close_fds, shell, cwd, env, universal_newlines, startupinfo, creationflags, restore_signals, start_new_session, pass_fds, encoding, errors, text)\u001b[0m\n\u001b[0;32m    773\u001b[0m                                 \u001b[0mc2pread\u001b[0m\u001b[1;33m,\u001b[0m \u001b[0mc2pwrite\u001b[0m\u001b[1;33m,\u001b[0m\u001b[1;33m\u001b[0m\u001b[1;33m\u001b[0m\u001b[0m\n\u001b[0;32m    774\u001b[0m                                 \u001b[0merrread\u001b[0m\u001b[1;33m,\u001b[0m \u001b[0merrwrite\u001b[0m\u001b[1;33m,\u001b[0m\u001b[1;33m\u001b[0m\u001b[1;33m\u001b[0m\u001b[0m\n\u001b[1;32m--> 775\u001b[1;33m                                 restore_signals, start_new_session)\n\u001b[0m\u001b[0;32m    776\u001b[0m         \u001b[1;32mexcept\u001b[0m\u001b[1;33m:\u001b[0m\u001b[1;33m\u001b[0m\u001b[1;33m\u001b[0m\u001b[0m\n\u001b[0;32m    777\u001b[0m             \u001b[1;31m# Cleanup if the child failed starting.\u001b[0m\u001b[1;33m\u001b[0m\u001b[1;33m\u001b[0m\u001b[1;33m\u001b[0m\u001b[0m\n",
      "\u001b[1;32m~\\Anaconda3\\lib\\subprocess.py\u001b[0m in \u001b[0;36m_execute_child\u001b[1;34m(self, args, executable, preexec_fn, close_fds, pass_fds, cwd, env, startupinfo, creationflags, shell, p2cread, p2cwrite, c2pread, c2pwrite, errread, errwrite, unused_restore_signals, unused_start_new_session)\u001b[0m\n\u001b[0;32m   1176\u001b[0m                                          \u001b[0menv\u001b[0m\u001b[1;33m,\u001b[0m\u001b[1;33m\u001b[0m\u001b[1;33m\u001b[0m\u001b[0m\n\u001b[0;32m   1177\u001b[0m                                          \u001b[0mos\u001b[0m\u001b[1;33m.\u001b[0m\u001b[0mfspath\u001b[0m\u001b[1;33m(\u001b[0m\u001b[0mcwd\u001b[0m\u001b[1;33m)\u001b[0m \u001b[1;32mif\u001b[0m \u001b[0mcwd\u001b[0m \u001b[1;32mis\u001b[0m \u001b[1;32mnot\u001b[0m \u001b[1;32mNone\u001b[0m \u001b[1;32melse\u001b[0m \u001b[1;32mNone\u001b[0m\u001b[1;33m,\u001b[0m\u001b[1;33m\u001b[0m\u001b[1;33m\u001b[0m\u001b[0m\n\u001b[1;32m-> 1178\u001b[1;33m                                          startupinfo)\n\u001b[0m\u001b[0;32m   1179\u001b[0m             \u001b[1;32mfinally\u001b[0m\u001b[1;33m:\u001b[0m\u001b[1;33m\u001b[0m\u001b[1;33m\u001b[0m\u001b[0m\n\u001b[0;32m   1180\u001b[0m                 \u001b[1;31m# Child is launched. Close the parent's copy of those pipe\u001b[0m\u001b[1;33m\u001b[0m\u001b[1;33m\u001b[0m\u001b[1;33m\u001b[0m\u001b[0m\n",
      "\u001b[1;31mFileNotFoundError\u001b[0m: [WinError 2] The system cannot find the file specified"
     ]
    }
   ],
   "source": [
    "from pydub import AudioSegment\n",
    "\n",
    "src=\"F:\\\\Sem-5\\\\SGP\\\\Test\\\\Saibon.mp3\"\n",
    "dest=\"F:\\\\Sem-5\\\\SGP\\\\Test\\\\song1.wav\"\n",
    "\n",
    "sound=AudioSegment.from_mp3(src)\n",
    "sound.export(dest,format=\"wav\")"
   ]
  },
  {
   "cell_type": "code",
   "execution_count": 46,
   "metadata": {},
   "outputs": [
    {
     "name": "stdout",
     "output_type": "stream",
     "text": [
      "Collecting pydub\n",
      "  Downloading https://files.pythonhosted.org/packages/7b/d1/fbfa79371a8cd9bb15c2e3c480d7e6e340ed5cc55005174e16f48418333a/pydub-0.24.1-py2.py3-none-any.whl\n",
      "Installing collected packages: pydub\n",
      "Successfully installed pydub-0.24.1\n"
     ]
    }
   ],
   "source": [
    "!pip install pydub"
   ]
  },
  {
   "cell_type": "code",
   "execution_count": null,
   "metadata": {},
   "outputs": [],
   "source": []
  }
 ],
 "metadata": {
  "colab": {
   "collapsed_sections": [],
   "name": "music_genere_classification(1).ipynb",
   "provenance": []
  },
  "kernelspec": {
   "display_name": "Python 3",
   "language": "python",
   "name": "python3"
  },
  "language_info": {
   "codemirror_mode": {
    "name": "ipython",
    "version": 3
   },
   "file_extension": ".py",
   "mimetype": "text/x-python",
   "name": "python",
   "nbconvert_exporter": "python",
   "pygments_lexer": "ipython3",
   "version": "3.7.4"
  }
 },
 "nbformat": 4,
 "nbformat_minor": 1
}
