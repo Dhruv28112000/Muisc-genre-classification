{
 "cells": [
  {
   "cell_type": "code",
   "execution_count": 1,
   "metadata": {
    "id": "2OY0Yh0MYOJP"
   },
   "outputs": [],
   "source": [
    "import librosa\n",
    "import librosa.display\n",
    "import matplotlib.pyplot as plt\n",
    "import numpy as np\n",
    "import os\n",
    "import pathlib\n",
    "from PIL import Image\n",
    "import csv\n",
    "\n",
    "import pandas as pd\n",
    "\n",
    "\n",
    "from sklearn.model_selection import train_test_split,cross_val_score\n",
    "from sklearn.preprocessing import LabelEncoder, StandardScaler\n",
    "\n",
    "\n",
    "import tensorflow.keras as keras\n",
    "\n",
    "import warnings\n",
    "warnings.filterwarnings('ignore')\n",
    "\n"
   ]
  },
  {
   "cell_type": "code",
   "execution_count": 2,
   "metadata": {
    "colab": {
     "base_uri": "https://localhost:8080/",
     "height": 439
    },
    "id": "6l__OB4FrBqd",
    "outputId": "26e7480e-95b4-456c-bc07-27df40c4d164"
   },
   "outputs": [
    {
     "data": {
      "text/html": [
       "<div>\n",
       "<style scoped>\n",
       "    .dataframe tbody tr th:only-of-type {\n",
       "        vertical-align: middle;\n",
       "    }\n",
       "\n",
       "    .dataframe tbody tr th {\n",
       "        vertical-align: top;\n",
       "    }\n",
       "\n",
       "    .dataframe thead th {\n",
       "        text-align: right;\n",
       "    }\n",
       "</style>\n",
       "<table border=\"1\" class=\"dataframe\">\n",
       "  <thead>\n",
       "    <tr style=\"text-align: right;\">\n",
       "      <th></th>\n",
       "      <th>File-name</th>\n",
       "      <th>chroma_shft</th>\n",
       "      <th>rmse</th>\n",
       "      <th>spec_cent</th>\n",
       "      <th>spec_bw</th>\n",
       "      <th>rolloff</th>\n",
       "      <th>zcr</th>\n",
       "      <th>MFCC--1</th>\n",
       "      <th>MFCC--2</th>\n",
       "      <th>MFCC--3</th>\n",
       "      <th>...</th>\n",
       "      <th>MFCC--12</th>\n",
       "      <th>MFCC--13</th>\n",
       "      <th>MFCC--14</th>\n",
       "      <th>MFCC--15</th>\n",
       "      <th>MFCC--16</th>\n",
       "      <th>MFCC--17</th>\n",
       "      <th>MFCC--18</th>\n",
       "      <th>MFCC--19</th>\n",
       "      <th>MFCC--20</th>\n",
       "      <th>Lable</th>\n",
       "    </tr>\n",
       "  </thead>\n",
       "  <tbody>\n",
       "    <tr>\n",
       "      <td>0</td>\n",
       "      <td>rock.00008.wav</td>\n",
       "      <td>0.408748</td>\n",
       "      <td>0.260914</td>\n",
       "      <td>1717.312205</td>\n",
       "      <td>1842.500561</td>\n",
       "      <td>3362.721333</td>\n",
       "      <td>0.084981</td>\n",
       "      <td>-14.910254</td>\n",
       "      <td>138.420124</td>\n",
       "      <td>-41.889428</td>\n",
       "      <td>...</td>\n",
       "      <td>12.247996</td>\n",
       "      <td>-5.819694</td>\n",
       "      <td>9.968250</td>\n",
       "      <td>-3.163116</td>\n",
       "      <td>1.976028</td>\n",
       "      <td>-6.923686</td>\n",
       "      <td>3.121398</td>\n",
       "      <td>-2.987225</td>\n",
       "      <td>-6.677925</td>\n",
       "      <td>Rock</td>\n",
       "    </tr>\n",
       "    <tr>\n",
       "      <td>1</td>\n",
       "      <td>rock.00001.wav</td>\n",
       "      <td>0.365525</td>\n",
       "      <td>0.180543</td>\n",
       "      <td>1529.345464</td>\n",
       "      <td>1845.423388</td>\n",
       "      <td>3271.663550</td>\n",
       "      <td>0.054982</td>\n",
       "      <td>-111.136301</td>\n",
       "      <td>134.159482</td>\n",
       "      <td>-24.647956</td>\n",
       "      <td>...</td>\n",
       "      <td>9.939369</td>\n",
       "      <td>-4.665001</td>\n",
       "      <td>3.626334</td>\n",
       "      <td>-5.541119</td>\n",
       "      <td>3.364801</td>\n",
       "      <td>-4.942521</td>\n",
       "      <td>-1.472867</td>\n",
       "      <td>0.100885</td>\n",
       "      <td>-5.332559</td>\n",
       "      <td>Rock</td>\n",
       "    </tr>\n",
       "    <tr>\n",
       "      <td>2</td>\n",
       "      <td>rock.00005.wav</td>\n",
       "      <td>0.376780</td>\n",
       "      <td>0.203785</td>\n",
       "      <td>1542.205910</td>\n",
       "      <td>1591.924670</td>\n",
       "      <td>2870.199311</td>\n",
       "      <td>0.077020</td>\n",
       "      <td>-62.348380</td>\n",
       "      <td>153.770773</td>\n",
       "      <td>-55.112845</td>\n",
       "      <td>...</td>\n",
       "      <td>7.204514</td>\n",
       "      <td>-2.524919</td>\n",
       "      <td>4.834071</td>\n",
       "      <td>-6.272217</td>\n",
       "      <td>-0.725831</td>\n",
       "      <td>-2.277204</td>\n",
       "      <td>-5.243365</td>\n",
       "      <td>-5.218907</td>\n",
       "      <td>-6.279709</td>\n",
       "      <td>Rock</td>\n",
       "    </tr>\n",
       "    <tr>\n",
       "      <td>3</td>\n",
       "      <td>rock.00006.wav</td>\n",
       "      <td>0.344472</td>\n",
       "      <td>0.180163</td>\n",
       "      <td>1675.475369</td>\n",
       "      <td>1653.422860</td>\n",
       "      <td>3253.563659</td>\n",
       "      <td>0.087294</td>\n",
       "      <td>-98.356322</td>\n",
       "      <td>136.611573</td>\n",
       "      <td>-46.700574</td>\n",
       "      <td>...</td>\n",
       "      <td>2.945863</td>\n",
       "      <td>-12.509212</td>\n",
       "      <td>0.091337</td>\n",
       "      <td>-0.774780</td>\n",
       "      <td>-5.700102</td>\n",
       "      <td>-8.630916</td>\n",
       "      <td>-1.903803</td>\n",
       "      <td>-2.196753</td>\n",
       "      <td>-3.395148</td>\n",
       "      <td>Rock</td>\n",
       "    </tr>\n",
       "    <tr>\n",
       "      <td>4</td>\n",
       "      <td>rock.00003.wav</td>\n",
       "      <td>0.380017</td>\n",
       "      <td>0.151226</td>\n",
       "      <td>1421.568971</td>\n",
       "      <td>1902.883344</td>\n",
       "      <td>3042.739934</td>\n",
       "      <td>0.043097</td>\n",
       "      <td>-156.602967</td>\n",
       "      <td>130.686506</td>\n",
       "      <td>-1.457021</td>\n",
       "      <td>...</td>\n",
       "      <td>11.535877</td>\n",
       "      <td>-3.217205</td>\n",
       "      <td>5.065080</td>\n",
       "      <td>-1.784673</td>\n",
       "      <td>3.535590</td>\n",
       "      <td>-2.447573</td>\n",
       "      <td>-0.717627</td>\n",
       "      <td>-1.413266</td>\n",
       "      <td>0.637624</td>\n",
       "      <td>Rock</td>\n",
       "    </tr>\n",
       "    <tr>\n",
       "      <td>...</td>\n",
       "      <td>...</td>\n",
       "      <td>...</td>\n",
       "      <td>...</td>\n",
       "      <td>...</td>\n",
       "      <td>...</td>\n",
       "      <td>...</td>\n",
       "      <td>...</td>\n",
       "      <td>...</td>\n",
       "      <td>...</td>\n",
       "      <td>...</td>\n",
       "      <td>...</td>\n",
       "      <td>...</td>\n",
       "      <td>...</td>\n",
       "      <td>...</td>\n",
       "      <td>...</td>\n",
       "      <td>...</td>\n",
       "      <td>...</td>\n",
       "      <td>...</td>\n",
       "      <td>...</td>\n",
       "      <td>...</td>\n",
       "      <td>...</td>\n",
       "    </tr>\n",
       "    <tr>\n",
       "      <td>295</td>\n",
       "      <td>pop.00095.wav</td>\n",
       "      <td>0.365712</td>\n",
       "      <td>0.303920</td>\n",
       "      <td>3046.148817</td>\n",
       "      <td>3306.480614</td>\n",
       "      <td>7384.647013</td>\n",
       "      <td>0.106394</td>\n",
       "      <td>-36.622723</td>\n",
       "      <td>73.082171</td>\n",
       "      <td>39.133504</td>\n",
       "      <td>...</td>\n",
       "      <td>-3.155387</td>\n",
       "      <td>-5.774647</td>\n",
       "      <td>-7.681010</td>\n",
       "      <td>-7.607766</td>\n",
       "      <td>-6.850216</td>\n",
       "      <td>-6.112240</td>\n",
       "      <td>-1.564934</td>\n",
       "      <td>2.133322</td>\n",
       "      <td>-1.562207</td>\n",
       "      <td>Pop</td>\n",
       "    </tr>\n",
       "    <tr>\n",
       "      <td>296</td>\n",
       "      <td>pop.00098.wav</td>\n",
       "      <td>0.399895</td>\n",
       "      <td>0.213083</td>\n",
       "      <td>3634.050584</td>\n",
       "      <td>3134.249724</td>\n",
       "      <td>7534.687772</td>\n",
       "      <td>0.183106</td>\n",
       "      <td>-26.902570</td>\n",
       "      <td>46.710707</td>\n",
       "      <td>8.701760</td>\n",
       "      <td>...</td>\n",
       "      <td>1.253731</td>\n",
       "      <td>3.836709</td>\n",
       "      <td>4.690396</td>\n",
       "      <td>1.714553</td>\n",
       "      <td>-0.980313</td>\n",
       "      <td>-1.300124</td>\n",
       "      <td>-2.687255</td>\n",
       "      <td>-1.269861</td>\n",
       "      <td>-2.485296</td>\n",
       "      <td>Pop</td>\n",
       "    </tr>\n",
       "    <tr>\n",
       "      <td>297</td>\n",
       "      <td>pop.00096.wav</td>\n",
       "      <td>0.339957</td>\n",
       "      <td>0.251243</td>\n",
       "      <td>3126.533643</td>\n",
       "      <td>3162.743738</td>\n",
       "      <td>6931.233088</td>\n",
       "      <td>0.105346</td>\n",
       "      <td>-59.099176</td>\n",
       "      <td>60.976773</td>\n",
       "      <td>27.745595</td>\n",
       "      <td>...</td>\n",
       "      <td>-2.403196</td>\n",
       "      <td>-4.513487</td>\n",
       "      <td>3.468001</td>\n",
       "      <td>2.026163</td>\n",
       "      <td>3.719552</td>\n",
       "      <td>2.489373</td>\n",
       "      <td>1.276359</td>\n",
       "      <td>3.131913</td>\n",
       "      <td>1.647612</td>\n",
       "      <td>Pop</td>\n",
       "    </tr>\n",
       "    <tr>\n",
       "      <td>298</td>\n",
       "      <td>pop.00091.wav</td>\n",
       "      <td>0.424473</td>\n",
       "      <td>0.265422</td>\n",
       "      <td>3696.225140</td>\n",
       "      <td>3246.695112</td>\n",
       "      <td>7871.035738</td>\n",
       "      <td>0.166830</td>\n",
       "      <td>-8.384624</td>\n",
       "      <td>41.998152</td>\n",
       "      <td>8.295316</td>\n",
       "      <td>...</td>\n",
       "      <td>-0.656881</td>\n",
       "      <td>-2.429781</td>\n",
       "      <td>-1.472319</td>\n",
       "      <td>-3.762977</td>\n",
       "      <td>-1.658407</td>\n",
       "      <td>-2.379022</td>\n",
       "      <td>0.052522</td>\n",
       "      <td>-0.989721</td>\n",
       "      <td>-2.601742</td>\n",
       "      <td>Pop</td>\n",
       "    </tr>\n",
       "    <tr>\n",
       "      <td>299</td>\n",
       "      <td>pop.00094.wav</td>\n",
       "      <td>0.333196</td>\n",
       "      <td>0.198670</td>\n",
       "      <td>2806.247388</td>\n",
       "      <td>2857.714955</td>\n",
       "      <td>6101.779770</td>\n",
       "      <td>0.128548</td>\n",
       "      <td>-42.237700</td>\n",
       "      <td>82.181453</td>\n",
       "      <td>-2.252060</td>\n",
       "      <td>...</td>\n",
       "      <td>-3.169998</td>\n",
       "      <td>-2.949469</td>\n",
       "      <td>3.594148</td>\n",
       "      <td>-0.082776</td>\n",
       "      <td>1.582507</td>\n",
       "      <td>0.848486</td>\n",
       "      <td>-1.226169</td>\n",
       "      <td>2.545904</td>\n",
       "      <td>0.784718</td>\n",
       "      <td>Pop</td>\n",
       "    </tr>\n",
       "  </tbody>\n",
       "</table>\n",
       "<p>300 rows × 28 columns</p>\n",
       "</div>"
      ],
      "text/plain": [
       "          File-name  chroma_shft      rmse    spec_cent      spec_bw  \\\n",
       "0    rock.00008.wav     0.408748  0.260914  1717.312205  1842.500561   \n",
       "1    rock.00001.wav     0.365525  0.180543  1529.345464  1845.423388   \n",
       "2    rock.00005.wav     0.376780  0.203785  1542.205910  1591.924670   \n",
       "3    rock.00006.wav     0.344472  0.180163  1675.475369  1653.422860   \n",
       "4    rock.00003.wav     0.380017  0.151226  1421.568971  1902.883344   \n",
       "..              ...          ...       ...          ...          ...   \n",
       "295   pop.00095.wav     0.365712  0.303920  3046.148817  3306.480614   \n",
       "296   pop.00098.wav     0.399895  0.213083  3634.050584  3134.249724   \n",
       "297   pop.00096.wav     0.339957  0.251243  3126.533643  3162.743738   \n",
       "298   pop.00091.wav     0.424473  0.265422  3696.225140  3246.695112   \n",
       "299   pop.00094.wav     0.333196  0.198670  2806.247388  2857.714955   \n",
       "\n",
       "         rolloff       zcr     MFCC--1     MFCC--2    MFCC--3  ...   MFCC--12  \\\n",
       "0    3362.721333  0.084981  -14.910254  138.420124 -41.889428  ...  12.247996   \n",
       "1    3271.663550  0.054982 -111.136301  134.159482 -24.647956  ...   9.939369   \n",
       "2    2870.199311  0.077020  -62.348380  153.770773 -55.112845  ...   7.204514   \n",
       "3    3253.563659  0.087294  -98.356322  136.611573 -46.700574  ...   2.945863   \n",
       "4    3042.739934  0.043097 -156.602967  130.686506  -1.457021  ...  11.535877   \n",
       "..           ...       ...         ...         ...        ...  ...        ...   \n",
       "295  7384.647013  0.106394  -36.622723   73.082171  39.133504  ...  -3.155387   \n",
       "296  7534.687772  0.183106  -26.902570   46.710707   8.701760  ...   1.253731   \n",
       "297  6931.233088  0.105346  -59.099176   60.976773  27.745595  ...  -2.403196   \n",
       "298  7871.035738  0.166830   -8.384624   41.998152   8.295316  ...  -0.656881   \n",
       "299  6101.779770  0.128548  -42.237700   82.181453  -2.252060  ...  -3.169998   \n",
       "\n",
       "      MFCC--13  MFCC--14  MFCC--15  MFCC--16  MFCC--17  MFCC--18  MFCC--19  \\\n",
       "0    -5.819694  9.968250 -3.163116  1.976028 -6.923686  3.121398 -2.987225   \n",
       "1    -4.665001  3.626334 -5.541119  3.364801 -4.942521 -1.472867  0.100885   \n",
       "2    -2.524919  4.834071 -6.272217 -0.725831 -2.277204 -5.243365 -5.218907   \n",
       "3   -12.509212  0.091337 -0.774780 -5.700102 -8.630916 -1.903803 -2.196753   \n",
       "4    -3.217205  5.065080 -1.784673  3.535590 -2.447573 -0.717627 -1.413266   \n",
       "..         ...       ...       ...       ...       ...       ...       ...   \n",
       "295  -5.774647 -7.681010 -7.607766 -6.850216 -6.112240 -1.564934  2.133322   \n",
       "296   3.836709  4.690396  1.714553 -0.980313 -1.300124 -2.687255 -1.269861   \n",
       "297  -4.513487  3.468001  2.026163  3.719552  2.489373  1.276359  3.131913   \n",
       "298  -2.429781 -1.472319 -3.762977 -1.658407 -2.379022  0.052522 -0.989721   \n",
       "299  -2.949469  3.594148 -0.082776  1.582507  0.848486 -1.226169  2.545904   \n",
       "\n",
       "     MFCC--20  Lable  \n",
       "0   -6.677925   Rock  \n",
       "1   -5.332559   Rock  \n",
       "2   -6.279709   Rock  \n",
       "3   -3.395148   Rock  \n",
       "4    0.637624   Rock  \n",
       "..        ...    ...  \n",
       "295 -1.562207    Pop  \n",
       "296 -2.485296    Pop  \n",
       "297  1.647612    Pop  \n",
       "298 -2.601742    Pop  \n",
       "299  0.784718    Pop  \n",
       "\n",
       "[300 rows x 28 columns]"
      ]
     },
     "execution_count": 2,
     "metadata": {},
     "output_type": "execute_result"
    }
   ],
   "source": [
    "data=pd.read_csv('F:\\Sem-5\\SGP\\source\\data2.csv')\n",
    "\n",
    "data.head(300)"
   ]
  },
  {
   "cell_type": "code",
   "execution_count": 3,
   "metadata": {
    "colab": {
     "base_uri": "https://localhost:8080/",
     "height": 34
    },
    "id": "VYJw8XP6sfem",
    "outputId": "cc49ca8b-a6dd-4bd5-bd0b-f06b2e8fa237"
   },
   "outputs": [
    {
     "data": {
      "text/plain": [
       "(999, 28)"
      ]
     },
     "execution_count": 3,
     "metadata": {},
     "output_type": "execute_result"
    }
   ],
   "source": [
    "data.shape"
   ]
  },
  {
   "cell_type": "code",
   "execution_count": 4,
   "metadata": {
    "id": "oR2Scld0_scJ"
   },
   "outputs": [],
   "source": [
    "y=data.iloc[:,-1].values\n",
    "le=LabelEncoder()\n",
    "y=le.fit_transform(y)"
   ]
  },
  {
   "cell_type": "code",
   "execution_count": 5,
   "metadata": {
    "colab": {
     "base_uri": "https://localhost:8080/",
     "height": 34
    },
    "id": "VF1iiLuwEImP",
    "outputId": "303b8530-0feb-4e1a-cde2-2bbdbadd4a9a"
   },
   "outputs": [
    {
     "name": "stdout",
     "output_type": "stream",
     "text": [
      "4\n"
     ]
    }
   ],
   "source": [
    "print(y[500])\n",
    "\n"
   ]
  },
  {
   "cell_type": "code",
   "execution_count": 6,
   "metadata": {
    "colab": {
     "base_uri": "https://localhost:8080/",
     "height": 224
    },
    "id": "nbj3YhePjzSf",
    "outputId": "7a4b4261-f3e1-49d8-a570-e327bd7f0747"
   },
   "outputs": [
    {
     "data": {
      "text/html": [
       "<div>\n",
       "<style scoped>\n",
       "    .dataframe tbody tr th:only-of-type {\n",
       "        vertical-align: middle;\n",
       "    }\n",
       "\n",
       "    .dataframe tbody tr th {\n",
       "        vertical-align: top;\n",
       "    }\n",
       "\n",
       "    .dataframe thead th {\n",
       "        text-align: right;\n",
       "    }\n",
       "</style>\n",
       "<table border=\"1\" class=\"dataframe\">\n",
       "  <thead>\n",
       "    <tr style=\"text-align: right;\">\n",
       "      <th></th>\n",
       "      <th>File-name</th>\n",
       "      <th>chroma_shft</th>\n",
       "      <th>rmse</th>\n",
       "      <th>spec_cent</th>\n",
       "      <th>spec_bw</th>\n",
       "      <th>rolloff</th>\n",
       "      <th>zcr</th>\n",
       "      <th>MFCC--1</th>\n",
       "      <th>MFCC--2</th>\n",
       "      <th>MFCC--3</th>\n",
       "      <th>...</th>\n",
       "      <th>MFCC--12</th>\n",
       "      <th>MFCC--13</th>\n",
       "      <th>MFCC--14</th>\n",
       "      <th>MFCC--15</th>\n",
       "      <th>MFCC--16</th>\n",
       "      <th>MFCC--17</th>\n",
       "      <th>MFCC--18</th>\n",
       "      <th>MFCC--19</th>\n",
       "      <th>MFCC--20</th>\n",
       "      <th>Lable</th>\n",
       "    </tr>\n",
       "  </thead>\n",
       "  <tbody>\n",
       "    <tr>\n",
       "      <td>899</td>\n",
       "      <td>blues.00000.wav</td>\n",
       "      <td>0.349943</td>\n",
       "      <td>0.130225</td>\n",
       "      <td>1784.420446</td>\n",
       "      <td>2002.650192</td>\n",
       "      <td>3806.485316</td>\n",
       "      <td>0.083066</td>\n",
       "      <td>-113.596742</td>\n",
       "      <td>121.557302</td>\n",
       "      <td>-19.158825</td>\n",
       "      <td>...</td>\n",
       "      <td>8.810668</td>\n",
       "      <td>-3.667367</td>\n",
       "      <td>5.751690</td>\n",
       "      <td>-5.162761</td>\n",
       "      <td>0.750947</td>\n",
       "      <td>-1.691937</td>\n",
       "      <td>-0.409954</td>\n",
       "      <td>-2.300208</td>\n",
       "      <td>1.219928</td>\n",
       "      <td>Blues</td>\n",
       "    </tr>\n",
       "    <tr>\n",
       "      <td>900</td>\n",
       "      <td>blues.00004.wav</td>\n",
       "      <td>0.308590</td>\n",
       "      <td>0.091563</td>\n",
       "      <td>1835.494603</td>\n",
       "      <td>1748.362448</td>\n",
       "      <td>3580.945013</td>\n",
       "      <td>0.101500</td>\n",
       "      <td>-160.266031</td>\n",
       "      <td>126.198800</td>\n",
       "      <td>-35.605448</td>\n",
       "      <td>...</td>\n",
       "      <td>-2.806385</td>\n",
       "      <td>-6.934122</td>\n",
       "      <td>-7.558619</td>\n",
       "      <td>-9.173552</td>\n",
       "      <td>-4.512166</td>\n",
       "      <td>-5.453538</td>\n",
       "      <td>-0.924162</td>\n",
       "      <td>-4.409333</td>\n",
       "      <td>-11.703781</td>\n",
       "      <td>Blues</td>\n",
       "    </tr>\n",
       "    <tr>\n",
       "      <td>901</td>\n",
       "      <td>blues.00007.wav</td>\n",
       "      <td>0.307921</td>\n",
       "      <td>0.131785</td>\n",
       "      <td>1451.754147</td>\n",
       "      <td>1577.369917</td>\n",
       "      <td>2955.348796</td>\n",
       "      <td>0.061435</td>\n",
       "      <td>-179.395447</td>\n",
       "      <td>136.459244</td>\n",
       "      <td>-26.656359</td>\n",
       "      <td>...</td>\n",
       "      <td>-6.954827</td>\n",
       "      <td>-3.544535</td>\n",
       "      <td>-8.051242</td>\n",
       "      <td>-8.959537</td>\n",
       "      <td>-8.424337</td>\n",
       "      <td>-10.558885</td>\n",
       "      <td>-10.788159</td>\n",
       "      <td>-4.693749</td>\n",
       "      <td>-8.638613</td>\n",
       "      <td>Blues</td>\n",
       "    </tr>\n",
       "    <tr>\n",
       "      <td>902</td>\n",
       "      <td>blues.00002.wav</td>\n",
       "      <td>0.363603</td>\n",
       "      <td>0.175573</td>\n",
       "      <td>1552.481958</td>\n",
       "      <td>1747.165985</td>\n",
       "      <td>3040.514948</td>\n",
       "      <td>0.076301</td>\n",
       "      <td>-90.754394</td>\n",
       "      <td>140.459907</td>\n",
       "      <td>-29.109965</td>\n",
       "      <td>...</td>\n",
       "      <td>5.789265</td>\n",
       "      <td>-8.905224</td>\n",
       "      <td>-1.083720</td>\n",
       "      <td>-9.218359</td>\n",
       "      <td>2.455805</td>\n",
       "      <td>-7.726901</td>\n",
       "      <td>-1.815724</td>\n",
       "      <td>-3.433434</td>\n",
       "      <td>-2.226821</td>\n",
       "      <td>Blues</td>\n",
       "    </tr>\n",
       "    <tr>\n",
       "      <td>903</td>\n",
       "      <td>blues.00001.wav</td>\n",
       "      <td>0.340983</td>\n",
       "      <td>0.095918</td>\n",
       "      <td>1529.835316</td>\n",
       "      <td>2038.617579</td>\n",
       "      <td>3548.820207</td>\n",
       "      <td>0.056044</td>\n",
       "      <td>-207.556796</td>\n",
       "      <td>124.006717</td>\n",
       "      <td>8.930562</td>\n",
       "      <td>...</td>\n",
       "      <td>5.376802</td>\n",
       "      <td>-2.239119</td>\n",
       "      <td>4.216963</td>\n",
       "      <td>-6.012273</td>\n",
       "      <td>0.936109</td>\n",
       "      <td>-0.716537</td>\n",
       "      <td>0.293875</td>\n",
       "      <td>-0.287431</td>\n",
       "      <td>0.531573</td>\n",
       "      <td>Blues</td>\n",
       "    </tr>\n",
       "    <tr>\n",
       "      <td>...</td>\n",
       "      <td>...</td>\n",
       "      <td>...</td>\n",
       "      <td>...</td>\n",
       "      <td>...</td>\n",
       "      <td>...</td>\n",
       "      <td>...</td>\n",
       "      <td>...</td>\n",
       "      <td>...</td>\n",
       "      <td>...</td>\n",
       "      <td>...</td>\n",
       "      <td>...</td>\n",
       "      <td>...</td>\n",
       "      <td>...</td>\n",
       "      <td>...</td>\n",
       "      <td>...</td>\n",
       "      <td>...</td>\n",
       "      <td>...</td>\n",
       "      <td>...</td>\n",
       "      <td>...</td>\n",
       "      <td>...</td>\n",
       "      <td>...</td>\n",
       "    </tr>\n",
       "    <tr>\n",
       "      <td>994</td>\n",
       "      <td>blues.00098.wav</td>\n",
       "      <td>0.442972</td>\n",
       "      <td>0.125422</td>\n",
       "      <td>2310.280604</td>\n",
       "      <td>2206.710936</td>\n",
       "      <td>4829.320798</td>\n",
       "      <td>0.128426</td>\n",
       "      <td>-90.677485</td>\n",
       "      <td>100.093133</td>\n",
       "      <td>-23.916267</td>\n",
       "      <td>...</td>\n",
       "      <td>12.988067</td>\n",
       "      <td>-11.415392</td>\n",
       "      <td>2.906069</td>\n",
       "      <td>-12.012914</td>\n",
       "      <td>4.822585</td>\n",
       "      <td>-11.156674</td>\n",
       "      <td>1.159210</td>\n",
       "      <td>-3.913956</td>\n",
       "      <td>3.250427</td>\n",
       "      <td>Blues</td>\n",
       "    </tr>\n",
       "    <tr>\n",
       "      <td>995</td>\n",
       "      <td>blues.00097.wav</td>\n",
       "      <td>0.375158</td>\n",
       "      <td>0.198282</td>\n",
       "      <td>1236.574280</td>\n",
       "      <td>1602.309124</td>\n",
       "      <td>2604.150920</td>\n",
       "      <td>0.044626</td>\n",
       "      <td>-148.639173</td>\n",
       "      <td>145.746311</td>\n",
       "      <td>-9.363639</td>\n",
       "      <td>...</td>\n",
       "      <td>3.230693</td>\n",
       "      <td>-0.667060</td>\n",
       "      <td>-0.727791</td>\n",
       "      <td>-6.821160</td>\n",
       "      <td>-3.942547</td>\n",
       "      <td>-15.739370</td>\n",
       "      <td>-5.604688</td>\n",
       "      <td>-5.802770</td>\n",
       "      <td>-0.048729</td>\n",
       "      <td>Blues</td>\n",
       "    </tr>\n",
       "    <tr>\n",
       "      <td>996</td>\n",
       "      <td>blues.00095.wav</td>\n",
       "      <td>0.369973</td>\n",
       "      <td>0.187148</td>\n",
       "      <td>1388.394749</td>\n",
       "      <td>1772.854380</td>\n",
       "      <td>2754.525010</td>\n",
       "      <td>0.057147</td>\n",
       "      <td>-130.553972</td>\n",
       "      <td>139.977099</td>\n",
       "      <td>-1.269146</td>\n",
       "      <td>...</td>\n",
       "      <td>1.611758</td>\n",
       "      <td>-6.628307</td>\n",
       "      <td>4.952240</td>\n",
       "      <td>-1.633326</td>\n",
       "      <td>0.956659</td>\n",
       "      <td>-4.840757</td>\n",
       "      <td>-5.966955</td>\n",
       "      <td>-2.782187</td>\n",
       "      <td>-6.494001</td>\n",
       "      <td>Blues</td>\n",
       "    </tr>\n",
       "    <tr>\n",
       "      <td>997</td>\n",
       "      <td>blues.00094.wav</td>\n",
       "      <td>0.376687</td>\n",
       "      <td>0.141018</td>\n",
       "      <td>1239.337228</td>\n",
       "      <td>1659.466470</td>\n",
       "      <td>2517.618110</td>\n",
       "      <td>0.050908</td>\n",
       "      <td>-206.278431</td>\n",
       "      <td>126.627468</td>\n",
       "      <td>10.585205</td>\n",
       "      <td>...</td>\n",
       "      <td>3.659409</td>\n",
       "      <td>-1.448481</td>\n",
       "      <td>-1.695150</td>\n",
       "      <td>-7.157464</td>\n",
       "      <td>1.171114</td>\n",
       "      <td>-6.221975</td>\n",
       "      <td>0.600703</td>\n",
       "      <td>-1.605095</td>\n",
       "      <td>-0.528774</td>\n",
       "      <td>Blues</td>\n",
       "    </tr>\n",
       "    <tr>\n",
       "      <td>998</td>\n",
       "      <td>blues.00096.wav</td>\n",
       "      <td>0.260574</td>\n",
       "      <td>0.051349</td>\n",
       "      <td>1132.340629</td>\n",
       "      <td>1582.492047</td>\n",
       "      <td>2065.479177</td>\n",
       "      <td>0.048314</td>\n",
       "      <td>-314.582809</td>\n",
       "      <td>139.926741</td>\n",
       "      <td>11.865851</td>\n",
       "      <td>...</td>\n",
       "      <td>2.077480</td>\n",
       "      <td>-11.442501</td>\n",
       "      <td>-9.504390</td>\n",
       "      <td>-15.185495</td>\n",
       "      <td>-9.355572</td>\n",
       "      <td>-5.672771</td>\n",
       "      <td>1.564772</td>\n",
       "      <td>0.890936</td>\n",
       "      <td>-7.960376</td>\n",
       "      <td>Blues</td>\n",
       "    </tr>\n",
       "  </tbody>\n",
       "</table>\n",
       "<p>100 rows × 28 columns</p>\n",
       "</div>"
      ],
      "text/plain": [
       "           File-name  chroma_shft      rmse    spec_cent      spec_bw  \\\n",
       "899  blues.00000.wav     0.349943  0.130225  1784.420446  2002.650192   \n",
       "900  blues.00004.wav     0.308590  0.091563  1835.494603  1748.362448   \n",
       "901  blues.00007.wav     0.307921  0.131785  1451.754147  1577.369917   \n",
       "902  blues.00002.wav     0.363603  0.175573  1552.481958  1747.165985   \n",
       "903  blues.00001.wav     0.340983  0.095918  1529.835316  2038.617579   \n",
       "..               ...          ...       ...          ...          ...   \n",
       "994  blues.00098.wav     0.442972  0.125422  2310.280604  2206.710936   \n",
       "995  blues.00097.wav     0.375158  0.198282  1236.574280  1602.309124   \n",
       "996  blues.00095.wav     0.369973  0.187148  1388.394749  1772.854380   \n",
       "997  blues.00094.wav     0.376687  0.141018  1239.337228  1659.466470   \n",
       "998  blues.00096.wav     0.260574  0.051349  1132.340629  1582.492047   \n",
       "\n",
       "         rolloff       zcr     MFCC--1     MFCC--2    MFCC--3  ...   MFCC--12  \\\n",
       "899  3806.485316  0.083066 -113.596742  121.557302 -19.158825  ...   8.810668   \n",
       "900  3580.945013  0.101500 -160.266031  126.198800 -35.605448  ...  -2.806385   \n",
       "901  2955.348796  0.061435 -179.395447  136.459244 -26.656359  ...  -6.954827   \n",
       "902  3040.514948  0.076301  -90.754394  140.459907 -29.109965  ...   5.789265   \n",
       "903  3548.820207  0.056044 -207.556796  124.006717   8.930562  ...   5.376802   \n",
       "..           ...       ...         ...         ...        ...  ...        ...   \n",
       "994  4829.320798  0.128426  -90.677485  100.093133 -23.916267  ...  12.988067   \n",
       "995  2604.150920  0.044626 -148.639173  145.746311  -9.363639  ...   3.230693   \n",
       "996  2754.525010  0.057147 -130.553972  139.977099  -1.269146  ...   1.611758   \n",
       "997  2517.618110  0.050908 -206.278431  126.627468  10.585205  ...   3.659409   \n",
       "998  2065.479177  0.048314 -314.582809  139.926741  11.865851  ...   2.077480   \n",
       "\n",
       "      MFCC--13  MFCC--14   MFCC--15  MFCC--16   MFCC--17   MFCC--18  MFCC--19  \\\n",
       "899  -3.667367  5.751690  -5.162761  0.750947  -1.691937  -0.409954 -2.300208   \n",
       "900  -6.934122 -7.558619  -9.173552 -4.512166  -5.453538  -0.924162 -4.409333   \n",
       "901  -3.544535 -8.051242  -8.959537 -8.424337 -10.558885 -10.788159 -4.693749   \n",
       "902  -8.905224 -1.083720  -9.218359  2.455805  -7.726901  -1.815724 -3.433434   \n",
       "903  -2.239119  4.216963  -6.012273  0.936109  -0.716537   0.293875 -0.287431   \n",
       "..         ...       ...        ...       ...        ...        ...       ...   \n",
       "994 -11.415392  2.906069 -12.012914  4.822585 -11.156674   1.159210 -3.913956   \n",
       "995  -0.667060 -0.727791  -6.821160 -3.942547 -15.739370  -5.604688 -5.802770   \n",
       "996  -6.628307  4.952240  -1.633326  0.956659  -4.840757  -5.966955 -2.782187   \n",
       "997  -1.448481 -1.695150  -7.157464  1.171114  -6.221975   0.600703 -1.605095   \n",
       "998 -11.442501 -9.504390 -15.185495 -9.355572  -5.672771   1.564772  0.890936   \n",
       "\n",
       "      MFCC--20  Lable  \n",
       "899   1.219928  Blues  \n",
       "900 -11.703781  Blues  \n",
       "901  -8.638613  Blues  \n",
       "902  -2.226821  Blues  \n",
       "903   0.531573  Blues  \n",
       "..         ...    ...  \n",
       "994   3.250427  Blues  \n",
       "995  -0.048729  Blues  \n",
       "996  -6.494001  Blues  \n",
       "997  -0.528774  Blues  \n",
       "998  -7.960376  Blues  \n",
       "\n",
       "[100 rows x 28 columns]"
      ]
     },
     "execution_count": 6,
     "metadata": {},
     "output_type": "execute_result"
    }
   ],
   "source": [
    "data.tail(100)"
   ]
  },
  {
   "cell_type": "code",
   "execution_count": 7,
   "metadata": {
    "colab": {
     "base_uri": "https://localhost:8080/"
    },
    "id": "XKAoL4OZEyzs",
    "outputId": "6ac4364a-aa1c-4adb-fbfc-414f9ce013dd"
   },
   "outputs": [
    {
     "name": "stdout",
     "output_type": "stream",
     "text": [
      "[[ 0.36718559  1.97962866 -0.67767556 ...  0.67519091 -0.17548743\n",
      "  -1.45493329]\n",
      " [-0.16222343  0.75590734 -0.9402859  ... -0.51241416  0.6467968\n",
      "  -1.10435347]\n",
      " [-0.02436844  1.10977802 -0.92231843 ... -1.48707773 -0.76972713\n",
      "  -1.35116472]\n",
      " ...\n",
      " [-0.10774666  0.85647708 -1.13720964 ... -1.67412392 -0.12089117\n",
      "  -1.40700574]\n",
      " [-0.02550897  0.15409888 -1.34545949 ...  0.0235979   0.19253815\n",
      "   0.14743171]\n",
      " [-1.44769992 -1.21118362 -1.49494558 ...  0.27280724  0.85716693\n",
      "  -1.78911837]]\n",
      "(999, 26)\n"
     ]
    }
   ],
   "source": [
    "x=data.iloc[:,1:-1].values\n",
    "sc=StandardScaler()\n",
    "\n",
    "x=sc.fit_transform(x)\n",
    "\n",
    "print(x)\n",
    "print(x.shape)"
   ]
  },
  {
   "cell_type": "code",
   "execution_count": 8,
   "metadata": {
    "colab": {
     "base_uri": "https://localhost:8080/",
     "height": 52
    },
    "id": "Rrnkk1PgF306",
    "outputId": "aa9b4880-90ea-4674-c08a-8f34723bf91c"
   },
   "outputs": [
    {
     "data": {
      "text/plain": [
       "'x_train= np.reshape(x_train, ((-1, 599, 20, 1)))\\nx_test= np.reshape(x_test, ((-1, 250, 20, 1)))\\nx_validation= np.reshape(x_validation, ((-1, 150, 20, 1)))'"
      ]
     },
     "execution_count": 8,
     "metadata": {},
     "output_type": "execute_result"
    }
   ],
   "source": [
    "x_train,x_test,y_train,y_test=train_test_split(x,y,test_size=0.2,random_state=1)\n",
    "\n",
    "\n",
    "x_train,x_validation,y_train,y_validation=train_test_split(x_train,y_train,test_size=0.125,random_state=1)\n",
    "\n",
    "\n",
    "\n",
    "\n",
    "\n",
    "'''x_train= np.reshape(x_train, ((-1, 599, 20, 1)))\n",
    "x_test= np.reshape(x_test, ((-1, 250, 20, 1)))\n",
    "x_validation= np.reshape(x_validation, ((-1, 150, 20, 1)))'''\n",
    "\n"
   ]
  },
  {
   "cell_type": "code",
   "execution_count": 9,
   "metadata": {
    "colab": {
     "base_uri": "https://localhost:8080/",
     "height": 68
    },
    "id": "Bzc4pi28UJer",
    "outputId": "cc0daaba-b733-4809-c8c3-2d8aa5eeb4ed"
   },
   "outputs": [
    {
     "name": "stdout",
     "output_type": "stream",
     "text": [
      "699\n",
      "(100, 26)\n",
      "(200, 26)\n"
     ]
    }
   ],
   "source": [
    "print(x_train.shape[0])\n",
    "print(x_validation.shape)\n",
    "print(x_test.shape)\n",
    "\n",
    "\n",
    "##input_siz=(x_train.shape[1],x_train.shape[2],1)\n",
    "\n",
    "\n",
    "\n"
   ]
  },
  {
   "cell_type": "code",
   "execution_count": 10,
   "metadata": {
    "id": "8uYGt880MYvt"
   },
   "outputs": [],
   "source": [
    "#BUILDING THE CNN\n",
    "\n",
    "model=keras.Sequential()\n",
    "\n",
    "\n",
    "#layer 1\n",
    "##model.add(keras.layers.Conv2D(32, (3, 3), activation='relu', input_shape=input_siz))\n",
    "#model.add(keras.layers.MaxPooling2D((3, 3), strides=(2, 2), padding='same'))\n",
    "#model.add(keras.layers.BatchNormalization())\n",
    "\n",
    "\n",
    "\n",
    "#layer 2\n",
    "'''model.add(keras.layers.Conv2D(32, (3, 3), activation='relu'))\n",
    "model.add(keras.layers.MaxPooling2D((3, 3), strides=(2, 2), padding='same'))\n",
    "model.add(keras.layers.BatchNormalization())\n",
    "\n",
    "\n",
    "\n",
    "#layer 3\n",
    "model.add(keras.layers.Conv2D(32, (2, 2), activation='relu'))\n",
    "model.add(keras.layers.MaxPooling2D((2, 2), strides=(2, 2), padding='same'))\n",
    "model.add(keras.layers.BatchNormalization())\n",
    "\n",
    "#flatten\n",
    "model.add(keras.layers.Flatten())\n",
    "model.add(keras.layers.Dense(64, activation='relu'))\n",
    "model.add(keras.layers.Dropout(0.3))\n",
    "\n",
    "# output layer\n",
    "model.add(keras.layers.Dense(10, activation='softmax'))'''\n",
    "##model.add(keras.layers.Flatten(input_shape=(x_train.shape[1],)))\n",
    "model.add(keras.layers.Dense(512, activation='relu', kernel_regularizer=keras.regularizers.l2(0.001),input_shape=(x_train.shape[1],)))\n",
    "model.add(keras.layers.Dropout(0.3))\n",
    "\n",
    "model.add(keras.layers.Dense(256, activation='relu', kernel_regularizer=keras.regularizers.l2(0.001)))\n",
    "model.add(keras.layers.Dropout(0.3))\n",
    "\n",
    "\n",
    "model.add(keras.layers.Dense(128, activation='relu', kernel_regularizer=keras.regularizers.l2(0.001)))\n",
    "model.add(keras.layers.Dropout(0.3))\n",
    "\n",
    "\n",
    "model.add(keras.layers.Dense(64, activation='relu', kernel_regularizer=keras.regularizers.l2(0.001)))\n",
    "model.add(keras.layers.Dropout(0.3))\n",
    "\n",
    "\n",
    "model.add(keras.layers.Dense(10, activation='softmax'))\n"
   ]
  },
  {
   "cell_type": "code",
   "execution_count": 11,
   "metadata": {
    "colab": {
     "base_uri": "https://localhost:8080/"
    },
    "id": "Q4tJ8fBchpOB",
    "outputId": "3734e421-13fa-4123-80cb-db111014ad8d"
   },
   "outputs": [
    {
     "name": "stdout",
     "output_type": "stream",
     "text": [
      "Model: \"sequential\"\n",
      "_________________________________________________________________\n",
      "Layer (type)                 Output Shape              Param #   \n",
      "=================================================================\n",
      "dense (Dense)                (None, 512)               13824     \n",
      "_________________________________________________________________\n",
      "dropout (Dropout)            (None, 512)               0         \n",
      "_________________________________________________________________\n",
      "dense_1 (Dense)              (None, 256)               131328    \n",
      "_________________________________________________________________\n",
      "dropout_1 (Dropout)          (None, 256)               0         \n",
      "_________________________________________________________________\n",
      "dense_2 (Dense)              (None, 128)               32896     \n",
      "_________________________________________________________________\n",
      "dropout_2 (Dropout)          (None, 128)               0         \n",
      "_________________________________________________________________\n",
      "dense_3 (Dense)              (None, 64)                8256      \n",
      "_________________________________________________________________\n",
      "dropout_3 (Dropout)          (None, 64)                0         \n",
      "_________________________________________________________________\n",
      "dense_4 (Dense)              (None, 10)                650       \n",
      "=================================================================\n",
      "Total params: 186,954\n",
      "Trainable params: 186,954\n",
      "Non-trainable params: 0\n",
      "_________________________________________________________________\n"
     ]
    }
   ],
   "source": [
    "#compiling the model\n",
    "model.compile(optimizer='adam',\n",
    "              loss='sparse_categorical_crossentropy',\n",
    "              metrics=['accuracy'])\n",
    "model.summary()\n",
    "\n"
   ]
  },
  {
   "cell_type": "code",
   "execution_count": 12,
   "metadata": {
    "colab": {
     "base_uri": "https://localhost:8080/"
    },
    "id": "rjlRDUETl35h",
    "outputId": "b76d7b1d-ab54-414f-f4ff-3110da380738"
   },
   "outputs": [
    {
     "name": "stdout",
     "output_type": "stream",
     "text": [
      "Epoch 1/200\n",
      "3/3 [==============================] - ETA: 0s - loss: 2.9778 - accuracy: 0.12 - 0s 119ms/step - loss: 2.9399 - accuracy: 0.1488 - val_loss: 2.8014 - val_accuracy: 0.2800\n",
      "Epoch 2/200\n",
      "3/3 [==============================] - ETA: 0s - loss: 2.8281 - accuracy: 0.19 - ETA: 0s - loss: 2.7792 - accuracy: 0.24 - 0s 40ms/step - loss: 2.7792 - accuracy: 0.2432 - val_loss: 2.7057 - val_accuracy: 0.2800\n",
      "Epoch 3/200\n",
      "3/3 [==============================] - ETA: 0s - loss: 2.7042 - accuracy: 0.33 - 0s 26ms/step - loss: 2.6791 - accuracy: 0.3033 - val_loss: 2.6135 - val_accuracy: 0.2700\n",
      "Epoch 4/200\n",
      "3/3 [==============================] - ETA: 0s - loss: 2.5220 - accuracy: 0.39 - 0s 23ms/step - loss: 2.5627 - accuracy: 0.3348 - val_loss: 2.5306 - val_accuracy: 0.2800\n",
      "Epoch 5/200\n",
      "3/3 [==============================] - ETA: 0s - loss: 2.4471 - accuracy: 0.38 - 0s 45ms/step - loss: 2.4814 - accuracy: 0.3605 - val_loss: 2.4369 - val_accuracy: 0.2800\n",
      "Epoch 6/200\n",
      "3/3 [==============================] - ETA: 0s - loss: 2.4303 - accuracy: 0.35 - 0s 29ms/step - loss: 2.4197 - accuracy: 0.3562 - val_loss: 2.3640 - val_accuracy: 0.3200\n",
      "Epoch 7/200\n",
      "3/3 [==============================] - ETA: 0s - loss: 2.3480 - accuracy: 0.35 - 0s 25ms/step - loss: 2.3650 - accuracy: 0.3648 - val_loss: 2.3199 - val_accuracy: 0.3300\n",
      "Epoch 8/200\n",
      "3/3 [==============================] - ETA: 0s - loss: 2.3130 - accuracy: 0.33 - 0s 26ms/step - loss: 2.2934 - accuracy: 0.3748 - val_loss: 2.2874 - val_accuracy: 0.3500\n",
      "Epoch 9/200\n",
      "3/3 [==============================] - ETA: 0s - loss: 2.1962 - accuracy: 0.42 - 0s 30ms/step - loss: 2.2503 - accuracy: 0.3991 - val_loss: 2.2374 - val_accuracy: 0.3800\n",
      "Epoch 10/200\n",
      "3/3 [==============================] - ETA: 0s - loss: 2.1159 - accuracy: 0.44 - 0s 27ms/step - loss: 2.1692 - accuracy: 0.4349 - val_loss: 2.1968 - val_accuracy: 0.4300\n",
      "Epoch 11/200\n",
      "3/3 [==============================] - ETA: 0s - loss: 2.1417 - accuracy: 0.44 - 0s 32ms/step - loss: 2.1444 - accuracy: 0.4320 - val_loss: 2.1549 - val_accuracy: 0.4200\n",
      "Epoch 12/200\n",
      "3/3 [==============================] - ETA: 0s - loss: 2.0999 - accuracy: 0.47 - 0s 27ms/step - loss: 2.1039 - accuracy: 0.4506 - val_loss: 2.1154 - val_accuracy: 0.4100\n",
      "Epoch 13/200\n",
      "3/3 [==============================] - ETA: 0s - loss: 2.0748 - accuracy: 0.46 - 0s 25ms/step - loss: 2.0227 - accuracy: 0.4850 - val_loss: 2.0762 - val_accuracy: 0.4300\n",
      "Epoch 14/200\n",
      "3/3 [==============================] - ETA: 0s - loss: 1.9972 - accuracy: 0.47 - 0s 26ms/step - loss: 1.9571 - accuracy: 0.5036 - val_loss: 2.0362 - val_accuracy: 0.4400\n",
      "Epoch 15/200\n",
      "3/3 [==============================] - ETA: 0s - loss: 1.9845 - accuracy: 0.48 - 0s 25ms/step - loss: 1.9472 - accuracy: 0.5021 - val_loss: 2.0110 - val_accuracy: 0.5000\n",
      "Epoch 16/200\n",
      "3/3 [==============================] - ETA: 0s - loss: 1.8946 - accuracy: 0.50 - 0s 27ms/step - loss: 1.9459 - accuracy: 0.4907 - val_loss: 1.9948 - val_accuracy: 0.5100\n",
      "Epoch 17/200\n",
      "3/3 [==============================] - ETA: 0s - loss: 1.8694 - accuracy: 0.51 - 0s 23ms/step - loss: 1.8731 - accuracy: 0.5107 - val_loss: 1.9671 - val_accuracy: 0.5100\n",
      "Epoch 18/200\n",
      "3/3 [==============================] - ETA: 0s - loss: 1.9633 - accuracy: 0.51 - 0s 24ms/step - loss: 1.8738 - accuracy: 0.5136 - val_loss: 1.9318 - val_accuracy: 0.5200\n",
      "Epoch 19/200\n",
      "3/3 [==============================] - ETA: 0s - loss: 1.8158 - accuracy: 0.56 - 0s 33ms/step - loss: 1.8426 - accuracy: 0.5479 - val_loss: 1.8900 - val_accuracy: 0.5100\n",
      "Epoch 20/200\n",
      "3/3 [==============================] - ETA: 0s - loss: 1.7953 - accuracy: 0.55 - 0s 26ms/step - loss: 1.8091 - accuracy: 0.5594 - val_loss: 1.8717 - val_accuracy: 0.5000\n",
      "Epoch 21/200\n",
      "3/3 [==============================] - ETA: 0s - loss: 1.8093 - accuracy: 0.57 - 0s 25ms/step - loss: 1.7731 - accuracy: 0.5622 - val_loss: 1.8673 - val_accuracy: 0.5100\n",
      "Epoch 22/200\n",
      "3/3 [==============================] - ETA: 0s - loss: 1.7196 - accuracy: 0.57 - 0s 27ms/step - loss: 1.7371 - accuracy: 0.5894 - val_loss: 1.8727 - val_accuracy: 0.5000\n",
      "Epoch 23/200\n",
      "3/3 [==============================] - ETA: 0s - loss: 1.7488 - accuracy: 0.56 - 0s 32ms/step - loss: 1.6835 - accuracy: 0.5851 - val_loss: 1.8508 - val_accuracy: 0.5000\n",
      "Epoch 24/200\n",
      "3/3 [==============================] - ETA: 0s - loss: 1.8037 - accuracy: 0.55 - 0s 28ms/step - loss: 1.7251 - accuracy: 0.5694 - val_loss: 1.8163 - val_accuracy: 0.5100\n",
      "Epoch 25/200\n",
      "3/3 [==============================] - ETA: 0s - loss: 1.6347 - accuracy: 0.59 - ETA: 0s - loss: 1.6553 - accuracy: 0.59 - 0s 31ms/step - loss: 1.6553 - accuracy: 0.5994 - val_loss: 1.8013 - val_accuracy: 0.5100\n",
      "Epoch 26/200\n",
      "3/3 [==============================] - ETA: 0s - loss: 1.6763 - accuracy: 0.60 - 0s 30ms/step - loss: 1.6672 - accuracy: 0.6037 - val_loss: 1.7836 - val_accuracy: 0.5100\n",
      "Epoch 27/200\n",
      "3/3 [==============================] - ETA: 0s - loss: 1.6585 - accuracy: 0.60 - 0s 23ms/step - loss: 1.6170 - accuracy: 0.6137 - val_loss: 1.7462 - val_accuracy: 0.5300\n",
      "Epoch 28/200\n",
      "3/3 [==============================] - ETA: 0s - loss: 1.6361 - accuracy: 0.60 - 0s 27ms/step - loss: 1.5523 - accuracy: 0.6609 - val_loss: 1.7390 - val_accuracy: 0.5300\n",
      "Epoch 29/200\n",
      "3/3 [==============================] - ETA: 0s - loss: 1.5029 - accuracy: 0.66 - 0s 26ms/step - loss: 1.5616 - accuracy: 0.6237 - val_loss: 1.7628 - val_accuracy: 0.4900\n",
      "Epoch 30/200\n",
      "3/3 [==============================] - ETA: 0s - loss: 1.4595 - accuracy: 0.67 - 0s 22ms/step - loss: 1.5171 - accuracy: 0.6581 - val_loss: 1.7321 - val_accuracy: 0.5000\n",
      "Epoch 31/200\n",
      "3/3 [==============================] - ETA: 0s - loss: 1.4340 - accuracy: 0.68 - 0s 32ms/step - loss: 1.4888 - accuracy: 0.6552 - val_loss: 1.7114 - val_accuracy: 0.5200\n",
      "Epoch 32/200\n",
      "3/3 [==============================] - ETA: 0s - loss: 1.5324 - accuracy: 0.66 - 0s 25ms/step - loss: 1.4736 - accuracy: 0.6710 - val_loss: 1.7032 - val_accuracy: 0.5700\n",
      "Epoch 33/200\n",
      "3/3 [==============================] - ETA: 0s - loss: 1.4121 - accuracy: 0.69 - 0s 23ms/step - loss: 1.4451 - accuracy: 0.6881 - val_loss: 1.7081 - val_accuracy: 0.5500\n",
      "Epoch 34/200\n",
      "3/3 [==============================] - ETA: 0s - loss: 1.4901 - accuracy: 0.61 - 0s 23ms/step - loss: 1.4340 - accuracy: 0.6595 - val_loss: 1.7135 - val_accuracy: 0.5300\n",
      "Epoch 35/200\n",
      "3/3 [==============================] - ETA: 0s - loss: 1.4227 - accuracy: 0.67 - 0s 23ms/step - loss: 1.4323 - accuracy: 0.6667 - val_loss: 1.6758 - val_accuracy: 0.5100\n",
      "Epoch 36/200\n",
      "3/3 [==============================] - ETA: 0s - loss: 1.3533 - accuracy: 0.72 - 0s 28ms/step - loss: 1.4004 - accuracy: 0.6853 - val_loss: 1.6488 - val_accuracy: 0.5400\n",
      "Epoch 37/200\n",
      "3/3 [==============================] - ETA: 0s - loss: 1.3810 - accuracy: 0.67 - 0s 25ms/step - loss: 1.3661 - accuracy: 0.6953 - val_loss: 1.6596 - val_accuracy: 0.5300\n",
      "Epoch 38/200\n",
      "3/3 [==============================] - ETA: 0s - loss: 1.4370 - accuracy: 0.70 - 0s 32ms/step - loss: 1.3592 - accuracy: 0.6996 - val_loss: 1.6602 - val_accuracy: 0.5400\n",
      "Epoch 39/200\n",
      "3/3 [==============================] - ETA: 0s - loss: 1.4064 - accuracy: 0.68 - 0s 29ms/step - loss: 1.3509 - accuracy: 0.6924 - val_loss: 1.6434 - val_accuracy: 0.5500\n",
      "Epoch 40/200\n",
      "3/3 [==============================] - ETA: 0s - loss: 1.3096 - accuracy: 0.71 - 0s 31ms/step - loss: 1.3391 - accuracy: 0.7139 - val_loss: 1.6262 - val_accuracy: 0.5600\n",
      "Epoch 41/200\n",
      "3/3 [==============================] - ETA: 0s - loss: 1.3587 - accuracy: 0.66 - 0s 23ms/step - loss: 1.3397 - accuracy: 0.6910 - val_loss: 1.6115 - val_accuracy: 0.5600\n",
      "Epoch 42/200\n",
      "3/3 [==============================] - ETA: 0s - loss: 1.2315 - accuracy: 0.76 - 0s 25ms/step - loss: 1.2516 - accuracy: 0.7411 - val_loss: 1.6153 - val_accuracy: 0.5700\n",
      "Epoch 43/200\n",
      "3/3 [==============================] - ETA: 0s - loss: 1.2490 - accuracy: 0.73 - 0s 24ms/step - loss: 1.2308 - accuracy: 0.7439 - val_loss: 1.6407 - val_accuracy: 0.5700\n",
      "Epoch 44/200\n",
      "3/3 [==============================] - ETA: 0s - loss: 1.1638 - accuracy: 0.78 - 0s 21ms/step - loss: 1.2032 - accuracy: 0.7639 - val_loss: 1.6182 - val_accuracy: 0.5900\n",
      "Epoch 45/200\n"
     ]
    },
    {
     "name": "stdout",
     "output_type": "stream",
     "text": [
      "3/3 [==============================] - ETA: 0s - loss: 1.1909 - accuracy: 0.75 - ETA: 0s - loss: 1.2789 - accuracy: 0.71 - 0s 29ms/step - loss: 1.2789 - accuracy: 0.7182 - val_loss: 1.6151 - val_accuracy: 0.6000\n",
      "Epoch 46/200\n",
      "3/3 [==============================] - ETA: 0s - loss: 1.2119 - accuracy: 0.74 - 0s 21ms/step - loss: 1.1955 - accuracy: 0.7468 - val_loss: 1.6213 - val_accuracy: 0.5800\n",
      "Epoch 47/200\n",
      "3/3 [==============================] - ETA: 0s - loss: 1.2018 - accuracy: 0.76 - 0s 24ms/step - loss: 1.1837 - accuracy: 0.7639 - val_loss: 1.6623 - val_accuracy: 0.6000\n",
      "Epoch 48/200\n",
      "3/3 [==============================] - ETA: 0s - loss: 1.2086 - accuracy: 0.75 - 0s 24ms/step - loss: 1.1924 - accuracy: 0.7496 - val_loss: 1.6440 - val_accuracy: 0.5900\n",
      "Epoch 49/200\n",
      "3/3 [==============================] - ETA: 0s - loss: 1.2137 - accuracy: 0.73 - ETA: 0s - loss: 1.1790 - accuracy: 0.74 - 0s 38ms/step - loss: 1.1790 - accuracy: 0.7454 - val_loss: 1.5826 - val_accuracy: 0.6000\n",
      "Epoch 50/200\n",
      "3/3 [==============================] - ETA: 0s - loss: 1.1745 - accuracy: 0.77 - 0s 25ms/step - loss: 1.1427 - accuracy: 0.7754 - val_loss: 1.5863 - val_accuracy: 0.6100\n",
      "Epoch 51/200\n",
      "3/3 [==============================] - ETA: 0s - loss: 1.1025 - accuracy: 0.81 - 0s 23ms/step - loss: 1.1132 - accuracy: 0.7926 - val_loss: 1.6067 - val_accuracy: 0.5800\n",
      "Epoch 52/200\n",
      "3/3 [==============================] - ETA: 0s - loss: 1.0158 - accuracy: 0.82 - 0s 30ms/step - loss: 1.0761 - accuracy: 0.7926 - val_loss: 1.6245 - val_accuracy: 0.5900\n",
      "Epoch 53/200\n",
      "3/3 [==============================] - ETA: 0s - loss: 1.1189 - accuracy: 0.80 - 0s 39ms/step - loss: 1.1396 - accuracy: 0.7797 - val_loss: 1.5993 - val_accuracy: 0.6100\n",
      "Epoch 54/200\n",
      "3/3 [==============================] - ETA: 0s - loss: 1.0668 - accuracy: 0.79 - ETA: 0s - loss: 1.0681 - accuracy: 0.79 - 0s 38ms/step - loss: 1.0681 - accuracy: 0.7940 - val_loss: 1.6049 - val_accuracy: 0.6000\n",
      "Epoch 55/200\n",
      "3/3 [==============================] - ETA: 0s - loss: 1.0447 - accuracy: 0.80 - 0s 33ms/step - loss: 1.0744 - accuracy: 0.8011 - val_loss: 1.6252 - val_accuracy: 0.6000\n",
      "Epoch 56/200\n",
      "3/3 [==============================] - ETA: 0s - loss: 1.1363 - accuracy: 0.75 - ETA: 0s - loss: 1.0636 - accuracy: 0.79 - 0s 36ms/step - loss: 1.0636 - accuracy: 0.7940 - val_loss: 1.6466 - val_accuracy: 0.5900\n",
      "Epoch 57/200\n",
      "3/3 [==============================] - ETA: 0s - loss: 1.0101 - accuracy: 0.80 - ETA: 0s - loss: 1.0641 - accuracy: 0.78 - 0s 38ms/step - loss: 1.0641 - accuracy: 0.7883 - val_loss: 1.6235 - val_accuracy: 0.6100\n",
      "Epoch 58/200\n",
      "3/3 [==============================] - ETA: 0s - loss: 1.0375 - accuracy: 0.79 - 0s 35ms/step - loss: 0.9976 - accuracy: 0.8169 - val_loss: 1.5945 - val_accuracy: 0.6100\n",
      "Epoch 59/200\n",
      "3/3 [==============================] - ETA: 0s - loss: 1.0228 - accuracy: 0.78 - ETA: 0s - loss: 1.0053 - accuracy: 0.80 - 0s 41ms/step - loss: 1.0053 - accuracy: 0.8097 - val_loss: 1.5990 - val_accuracy: 0.6300\n",
      "Epoch 60/200\n",
      "3/3 [==============================] - ETA: 0s - loss: 1.0080 - accuracy: 0.81 - ETA: 0s - loss: 0.9970 - accuracy: 0.82 - 0s 40ms/step - loss: 0.9970 - accuracy: 0.8269 - val_loss: 1.6521 - val_accuracy: 0.6000\n",
      "Epoch 61/200\n",
      "3/3 [==============================] - ETA: 0s - loss: 1.0253 - accuracy: 0.81 - 0s 31ms/step - loss: 1.0171 - accuracy: 0.8069 - val_loss: 1.6574 - val_accuracy: 0.6000\n",
      "Epoch 62/200\n",
      "3/3 [==============================] - ETA: 0s - loss: 1.0290 - accuracy: 0.80 - ETA: 0s - loss: 1.0103 - accuracy: 0.81 - 0s 38ms/step - loss: 1.0103 - accuracy: 0.8155 - val_loss: 1.6324 - val_accuracy: 0.5900\n",
      "Epoch 63/200\n",
      "3/3 [==============================] - ETA: 0s - loss: 1.0032 - accuracy: 0.79 - 0s 33ms/step - loss: 0.9462 - accuracy: 0.8326 - val_loss: 1.6050 - val_accuracy: 0.6200\n",
      "Epoch 64/200\n",
      "3/3 [==============================] - ETA: 0s - loss: 0.8745 - accuracy: 0.88 - 0s 31ms/step - loss: 0.9335 - accuracy: 0.8383 - val_loss: 1.6662 - val_accuracy: 0.6200\n",
      "Epoch 65/200\n",
      "3/3 [==============================] - ETA: 0s - loss: 0.9945 - accuracy: 0.81 - 0s 31ms/step - loss: 0.9797 - accuracy: 0.8140 - val_loss: 1.6610 - val_accuracy: 0.6100\n",
      "Epoch 66/200\n",
      "3/3 [==============================] - ETA: 0s - loss: 0.9453 - accuracy: 0.85 - 0s 28ms/step - loss: 0.9216 - accuracy: 0.8426 - val_loss: 1.6734 - val_accuracy: 0.5900\n",
      "Epoch 67/200\n",
      "3/3 [==============================] - ETA: 0s - loss: 0.9640 - accuracy: 0.81 - 0s 28ms/step - loss: 0.9112 - accuracy: 0.8455 - val_loss: 1.6829 - val_accuracy: 0.6100\n",
      "Epoch 68/200\n",
      "3/3 [==============================] - ETA: 0s - loss: 0.9760 - accuracy: 0.80 - 0s 28ms/step - loss: 0.9550 - accuracy: 0.8283 - val_loss: 1.7002 - val_accuracy: 0.6100\n",
      "Epoch 69/200\n",
      "3/3 [==============================] - ETA: 0s - loss: 0.9099 - accuracy: 0.85 - 0s 30ms/step - loss: 0.9048 - accuracy: 0.8598 - val_loss: 1.7149 - val_accuracy: 0.5900\n",
      "Epoch 70/200\n",
      "3/3 [==============================] - ETA: 0s - loss: 0.8537 - accuracy: 0.86 - ETA: 0s - loss: 0.8885 - accuracy: 0.85 - 0s 37ms/step - loss: 0.8885 - accuracy: 0.8584 - val_loss: 1.6606 - val_accuracy: 0.6300\n",
      "Epoch 71/200\n",
      "3/3 [==============================] - ETA: 0s - loss: 0.8128 - accuracy: 0.88 - 0s 32ms/step - loss: 0.8916 - accuracy: 0.8555 - val_loss: 1.6689 - val_accuracy: 0.6400\n",
      "Epoch 72/200\n",
      "3/3 [==============================] - ETA: 0s - loss: 0.9172 - accuracy: 0.83 - 0s 25ms/step - loss: 0.9267 - accuracy: 0.8412 - val_loss: 1.6756 - val_accuracy: 0.6400\n",
      "Epoch 73/200\n",
      "3/3 [==============================] - ETA: 0s - loss: 0.9088 - accuracy: 0.82 - 0s 28ms/step - loss: 0.8826 - accuracy: 0.8512 - val_loss: 1.6809 - val_accuracy: 0.6000\n",
      "Epoch 74/200\n",
      "3/3 [==============================] - ETA: 0s - loss: 0.9603 - accuracy: 0.82 - ETA: 0s - loss: 0.8952 - accuracy: 0.84 - 0s 44ms/step - loss: 0.8952 - accuracy: 0.8426 - val_loss: 1.5970 - val_accuracy: 0.5900\n",
      "Epoch 75/200\n",
      "3/3 [==============================] - ETA: 0s - loss: 0.8221 - accuracy: 0.85 - 0s 28ms/step - loss: 0.8653 - accuracy: 0.8670 - val_loss: 1.5698 - val_accuracy: 0.6300\n",
      "Epoch 76/200\n",
      "3/3 [==============================] - ETA: 0s - loss: 0.8629 - accuracy: 0.86 - 0s 30ms/step - loss: 0.8609 - accuracy: 0.8655 - val_loss: 1.5611 - val_accuracy: 0.6200\n",
      "Epoch 77/200\n",
      "3/3 [==============================] - ETA: 0s - loss: 0.8496 - accuracy: 0.87 - 0s 31ms/step - loss: 0.8368 - accuracy: 0.8784 - val_loss: 1.5772 - val_accuracy: 0.6200\n",
      "Epoch 78/200\n",
      "3/3 [==============================] - ETA: 0s - loss: 0.7823 - accuracy: 0.90 - 0s 29ms/step - loss: 0.8490 - accuracy: 0.8770 - val_loss: 1.5986 - val_accuracy: 0.5800\n",
      "Epoch 79/200\n",
      "3/3 [==============================] - ETA: 0s - loss: 0.8506 - accuracy: 0.86 - 0s 34ms/step - loss: 0.8264 - accuracy: 0.8770 - val_loss: 1.5659 - val_accuracy: 0.6200\n",
      "Epoch 80/200\n",
      "3/3 [==============================] - ETA: 0s - loss: 0.7509 - accuracy: 0.92 - 0s 28ms/step - loss: 0.8316 - accuracy: 0.8698 - val_loss: 1.5850 - val_accuracy: 0.6200\n",
      "Epoch 81/200\n",
      "3/3 [==============================] - ETA: 0s - loss: 0.8030 - accuracy: 0.87 - 0s 31ms/step - loss: 0.7912 - accuracy: 0.8970 - val_loss: 1.5860 - val_accuracy: 0.6200\n",
      "Epoch 82/200\n",
      "3/3 [==============================] - ETA: 0s - loss: 0.7900 - accuracy: 0.89 - 0s 30ms/step - loss: 0.8122 - accuracy: 0.8755 - val_loss: 1.6153 - val_accuracy: 0.6100\n",
      "Epoch 83/200\n",
      "3/3 [==============================] - ETA: 0s - loss: 0.8415 - accuracy: 0.85 - 0s 26ms/step - loss: 0.8420 - accuracy: 0.8612 - val_loss: 1.6340 - val_accuracy: 0.6200\n",
      "Epoch 84/200\n",
      "3/3 [==============================] - ETA: 0s - loss: 0.8347 - accuracy: 0.87 - 0s 25ms/step - loss: 0.8199 - accuracy: 0.8727 - val_loss: 1.6588 - val_accuracy: 0.6200\n",
      "Epoch 85/200\n",
      "3/3 [==============================] - ETA: 0s - loss: 0.8212 - accuracy: 0.87 - ETA: 0s - loss: 0.7819 - accuracy: 0.89 - 0s 40ms/step - loss: 0.7819 - accuracy: 0.8913 - val_loss: 1.6797 - val_accuracy: 0.5900\n",
      "Epoch 86/200\n",
      "3/3 [==============================] - ETA: 0s - loss: 0.8072 - accuracy: 0.90 - 0s 27ms/step - loss: 0.8021 - accuracy: 0.8898 - val_loss: 1.6460 - val_accuracy: 0.6100\n",
      "Epoch 87/200\n"
     ]
    },
    {
     "name": "stdout",
     "output_type": "stream",
     "text": [
      "3/3 [==============================] - ETA: 0s - loss: 0.7430 - accuracy: 0.91 - ETA: 0s - loss: 0.7534 - accuracy: 0.90 - 0s 35ms/step - loss: 0.7534 - accuracy: 0.9070 - val_loss: 1.5771 - val_accuracy: 0.6200\n",
      "Epoch 88/200\n",
      "3/3 [==============================] - ETA: 0s - loss: 0.7476 - accuracy: 0.91 - 0s 44ms/step - loss: 0.7390 - accuracy: 0.8970 - val_loss: 1.5509 - val_accuracy: 0.6100\n",
      "Epoch 89/200\n",
      "3/3 [==============================] - ETA: 0s - loss: 0.7658 - accuracy: 0.90 - 0s 26ms/step - loss: 0.7502 - accuracy: 0.9142 - val_loss: 1.5940 - val_accuracy: 0.6300\n",
      "Epoch 90/200\n",
      "3/3 [==============================] - ETA: 0s - loss: 0.7513 - accuracy: 0.88 - 0s 31ms/step - loss: 0.7518 - accuracy: 0.9013 - val_loss: 1.6685 - val_accuracy: 0.6300\n",
      "Epoch 91/200\n",
      "3/3 [==============================] - ETA: 0s - loss: 0.7372 - accuracy: 0.91 - 0s 31ms/step - loss: 0.7343 - accuracy: 0.9084 - val_loss: 1.7129 - val_accuracy: 0.6000\n",
      "Epoch 92/200\n",
      "3/3 [==============================] - ETA: 0s - loss: 0.7067 - accuracy: 0.91 - 0s 31ms/step - loss: 0.7173 - accuracy: 0.9084 - val_loss: 1.7537 - val_accuracy: 0.6100\n",
      "Epoch 93/200\n",
      "3/3 [==============================] - ETA: 0s - loss: 0.7645 - accuracy: 0.89 - 0s 33ms/step - loss: 0.7509 - accuracy: 0.9041 - val_loss: 1.6534 - val_accuracy: 0.6100\n",
      "Epoch 94/200\n",
      "3/3 [==============================] - ETA: 0s - loss: 0.7197 - accuracy: 0.91 - 0s 26ms/step - loss: 0.7199 - accuracy: 0.9041 - val_loss: 1.6110 - val_accuracy: 0.6400\n",
      "Epoch 95/200\n",
      "3/3 [==============================] - ETA: 0s - loss: 0.7806 - accuracy: 0.87 - ETA: 0s - loss: 0.7287 - accuracy: 0.90 - 0s 35ms/step - loss: 0.7287 - accuracy: 0.9099 - val_loss: 1.6202 - val_accuracy: 0.6500\n",
      "Epoch 96/200\n",
      "3/3 [==============================] - ETA: 0s - loss: 0.6966 - accuracy: 0.92 - 0s 28ms/step - loss: 0.6827 - accuracy: 0.9285 - val_loss: 1.6670 - val_accuracy: 0.6400\n",
      "Epoch 97/200\n",
      "3/3 [==============================] - ETA: 0s - loss: 0.7059 - accuracy: 0.92 - 0s 31ms/step - loss: 0.7056 - accuracy: 0.9213 - val_loss: 1.7260 - val_accuracy: 0.6100\n",
      "Epoch 98/200\n",
      "3/3 [==============================] - ETA: 0s - loss: 0.7239 - accuracy: 0.91 - 0s 35ms/step - loss: 0.6990 - accuracy: 0.9227 - val_loss: 1.7075 - val_accuracy: 0.6100\n",
      "Epoch 99/200\n",
      "3/3 [==============================] - ETA: 0s - loss: 0.6394 - accuracy: 0.92 - 0s 32ms/step - loss: 0.6771 - accuracy: 0.9170 - val_loss: 1.7318 - val_accuracy: 0.6100\n",
      "Epoch 100/200\n",
      "3/3 [==============================] - ETA: 0s - loss: 0.6716 - accuracy: 0.91 - 0s 51ms/step - loss: 0.6945 - accuracy: 0.9070 - val_loss: 1.7670 - val_accuracy: 0.6300\n",
      "Epoch 101/200\n",
      "3/3 [==============================] - ETA: 0s - loss: 0.6999 - accuracy: 0.92 - 0s 29ms/step - loss: 0.6905 - accuracy: 0.9227 - val_loss: 1.7598 - val_accuracy: 0.6300\n",
      "Epoch 102/200\n",
      "3/3 [==============================] - ETA: 0s - loss: 0.7150 - accuracy: 0.89 - 0s 27ms/step - loss: 0.7185 - accuracy: 0.8970 - val_loss: 1.7160 - val_accuracy: 0.6200\n",
      "Epoch 103/200\n",
      "3/3 [==============================] - ETA: 0s - loss: 0.7076 - accuracy: 0.89 - 0s 25ms/step - loss: 0.6888 - accuracy: 0.9070 - val_loss: 1.7078 - val_accuracy: 0.6100\n",
      "Epoch 104/200\n",
      "3/3 [==============================] - ETA: 0s - loss: 0.7182 - accuracy: 0.88 - 0s 29ms/step - loss: 0.6914 - accuracy: 0.9056 - val_loss: 1.7442 - val_accuracy: 0.6000\n",
      "Epoch 105/200\n",
      "3/3 [==============================] - ETA: 0s - loss: 0.6429 - accuracy: 0.94 - 0s 31ms/step - loss: 0.6725 - accuracy: 0.9170 - val_loss: 1.7442 - val_accuracy: 0.6000\n",
      "Epoch 106/200\n",
      "3/3 [==============================] - ETA: 0s - loss: 0.6898 - accuracy: 0.92 - 0s 34ms/step - loss: 0.6693 - accuracy: 0.9242 - val_loss: 1.7467 - val_accuracy: 0.5900\n",
      "Epoch 107/200\n",
      "3/3 [==============================] - ETA: 0s - loss: 0.6521 - accuracy: 0.93 - 0s 39ms/step - loss: 0.6543 - accuracy: 0.9356 - val_loss: 1.7315 - val_accuracy: 0.6300\n",
      "Epoch 108/200\n",
      "3/3 [==============================] - ETA: 0s - loss: 0.6308 - accuracy: 0.93 - 0s 34ms/step - loss: 0.6555 - accuracy: 0.9328 - val_loss: 1.7453 - val_accuracy: 0.6300\n",
      "Epoch 109/200\n",
      "3/3 [==============================] - ETA: 0s - loss: 0.6579 - accuracy: 0.91 - 0s 31ms/step - loss: 0.6350 - accuracy: 0.9270 - val_loss: 1.7967 - val_accuracy: 0.6200\n",
      "Epoch 110/200\n",
      "3/3 [==============================] - ETA: 0s - loss: 0.6078 - accuracy: 0.94 - 0s 30ms/step - loss: 0.6512 - accuracy: 0.9356 - val_loss: 1.7913 - val_accuracy: 0.6200\n",
      "Epoch 111/200\n",
      "3/3 [==============================] - ETA: 0s - loss: 0.6432 - accuracy: 0.92 - ETA: 0s - loss: 0.6306 - accuracy: 0.93 - 0s 38ms/step - loss: 0.6306 - accuracy: 0.9342 - val_loss: 1.7836 - val_accuracy: 0.6100\n",
      "Epoch 112/200\n",
      "3/3 [==============================] - ETA: 0s - loss: 0.6437 - accuracy: 0.93 - 0s 30ms/step - loss: 0.6424 - accuracy: 0.9328 - val_loss: 1.7765 - val_accuracy: 0.6100\n",
      "Epoch 113/200\n",
      "3/3 [==============================] - ETA: 0s - loss: 0.5714 - accuracy: 0.96 - 0s 29ms/step - loss: 0.5954 - accuracy: 0.9528 - val_loss: 1.7872 - val_accuracy: 0.6100\n",
      "Epoch 114/200\n",
      "3/3 [==============================] - ETA: 0s - loss: 0.6482 - accuracy: 0.92 - 0s 29ms/step - loss: 0.6592 - accuracy: 0.9270 - val_loss: 1.7823 - val_accuracy: 0.6400\n",
      "Epoch 115/200\n",
      "3/3 [==============================] - ETA: 0s - loss: 0.6399 - accuracy: 0.92 - 0s 32ms/step - loss: 0.6350 - accuracy: 0.9227 - val_loss: 1.7663 - val_accuracy: 0.6400\n",
      "Epoch 116/200\n",
      "3/3 [==============================] - ETA: 0s - loss: 0.5591 - accuracy: 0.96 - 0s 28ms/step - loss: 0.6034 - accuracy: 0.9542 - val_loss: 1.7725 - val_accuracy: 0.6200\n",
      "Epoch 117/200\n",
      "3/3 [==============================] - ETA: 0s - loss: 0.5997 - accuracy: 0.94 - 0s 32ms/step - loss: 0.6082 - accuracy: 0.9385 - val_loss: 1.7258 - val_accuracy: 0.6200\n",
      "Epoch 118/200\n",
      "3/3 [==============================] - ETA: 0s - loss: 0.6698 - accuracy: 0.89 - 0s 29ms/step - loss: 0.6642 - accuracy: 0.9084 - val_loss: 1.7192 - val_accuracy: 0.6200\n",
      "Epoch 119/200\n",
      "3/3 [==============================] - ETA: 0s - loss: 0.6568 - accuracy: 0.92 - 0s 28ms/step - loss: 0.6398 - accuracy: 0.9356 - val_loss: 1.7293 - val_accuracy: 0.6500\n",
      "Epoch 120/200\n",
      "3/3 [==============================] - ETA: 0s - loss: 0.6684 - accuracy: 0.91 - ETA: 0s - loss: 0.6275 - accuracy: 0.92 - 0s 36ms/step - loss: 0.6275 - accuracy: 0.9270 - val_loss: 1.7041 - val_accuracy: 0.6400\n",
      "Epoch 121/200\n",
      "3/3 [==============================] - ETA: 0s - loss: 0.6196 - accuracy: 0.94 - 0s 28ms/step - loss: 0.6012 - accuracy: 0.9485 - val_loss: 1.7094 - val_accuracy: 0.6400\n",
      "Epoch 122/200\n",
      "3/3 [==============================] - ETA: 0s - loss: 0.5860 - accuracy: 0.93 - 0s 29ms/step - loss: 0.6147 - accuracy: 0.9328 - val_loss: 1.7533 - val_accuracy: 0.6300\n",
      "Epoch 123/200\n",
      "3/3 [==============================] - ETA: 0s - loss: 0.5718 - accuracy: 0.95 - 0s 50ms/step - loss: 0.5920 - accuracy: 0.9428 - val_loss: 1.7832 - val_accuracy: 0.6300\n",
      "Epoch 124/200\n",
      "3/3 [==============================] - ETA: 0s - loss: 0.5756 - accuracy: 0.95 - ETA: 0s - loss: 0.5991 - accuracy: 0.94 - 0s 58ms/step - loss: 0.5991 - accuracy: 0.9413 - val_loss: 1.7345 - val_accuracy: 0.6400\n",
      "Epoch 125/200\n",
      "3/3 [==============================] - ETA: 0s - loss: 0.5988 - accuracy: 0.92 - ETA: 0s - loss: 0.5844 - accuracy: 0.93 - 0s 40ms/step - loss: 0.5844 - accuracy: 0.9399 - val_loss: 1.6580 - val_accuracy: 0.6500\n",
      "Epoch 126/200\n",
      "3/3 [==============================] - ETA: 0s - loss: 0.6227 - accuracy: 0.92 - ETA: 0s - loss: 0.6014 - accuracy: 0.94 - 0s 38ms/step - loss: 0.6014 - accuracy: 0.9428 - val_loss: 1.6716 - val_accuracy: 0.6400\n",
      "Epoch 127/200\n",
      "3/3 [==============================] - ETA: 0s - loss: 0.5352 - accuracy: 0.94 - 0s 31ms/step - loss: 0.5643 - accuracy: 0.9428 - val_loss: 1.7359 - val_accuracy: 0.6400\n",
      "Epoch 128/200\n",
      "3/3 [==============================] - ETA: 0s - loss: 0.5877 - accuracy: 0.95 - ETA: 0s - loss: 0.5874 - accuracy: 0.95 - 0s 39ms/step - loss: 0.5874 - accuracy: 0.9528 - val_loss: 1.7855 - val_accuracy: 0.6200\n",
      "Epoch 129/200\n",
      "3/3 [==============================] - ETA: 0s - loss: 0.5753 - accuracy: 0.93 - 0s 28ms/step - loss: 0.5778 - accuracy: 0.9371 - val_loss: 1.7542 - val_accuracy: 0.6100\n"
     ]
    },
    {
     "name": "stdout",
     "output_type": "stream",
     "text": [
      "Epoch 130/200\n",
      "3/3 [==============================] - ETA: 0s - loss: 0.5811 - accuracy: 0.96 - 0s 30ms/step - loss: 0.5847 - accuracy: 0.9514 - val_loss: 1.7148 - val_accuracy: 0.6300\n",
      "Epoch 131/200\n",
      "3/3 [==============================] - ETA: 0s - loss: 0.5819 - accuracy: 0.94 - 0s 27ms/step - loss: 0.5779 - accuracy: 0.9514 - val_loss: 1.7508 - val_accuracy: 0.6500\n",
      "Epoch 132/200\n",
      "3/3 [==============================] - ETA: 0s - loss: 0.5606 - accuracy: 0.94 - 0s 27ms/step - loss: 0.5399 - accuracy: 0.9585 - val_loss: 1.8081 - val_accuracy: 0.6300\n",
      "Epoch 133/200\n",
      "3/3 [==============================] - ETA: 0s - loss: 0.5407 - accuracy: 0.96 - 0s 27ms/step - loss: 0.5485 - accuracy: 0.9599 - val_loss: 1.8120 - val_accuracy: 0.6300\n",
      "Epoch 134/200\n",
      "3/3 [==============================] - ETA: 0s - loss: 0.6051 - accuracy: 0.92 - 0s 27ms/step - loss: 0.5700 - accuracy: 0.9514 - val_loss: 1.7277 - val_accuracy: 0.6400\n",
      "Epoch 135/200\n",
      "3/3 [==============================] - ETA: 0s - loss: 0.5412 - accuracy: 0.96 - 0s 39ms/step - loss: 0.5652 - accuracy: 0.9542 - val_loss: 1.7003 - val_accuracy: 0.6500\n",
      "Epoch 136/200\n",
      "3/3 [==============================] - ETA: 0s - loss: 0.5716 - accuracy: 0.94 - ETA: 0s - loss: 0.5413 - accuracy: 0.95 - 0s 47ms/step - loss: 0.5413 - accuracy: 0.9557 - val_loss: 1.7361 - val_accuracy: 0.6400\n",
      "Epoch 137/200\n",
      "3/3 [==============================] - ETA: 0s - loss: 0.5772 - accuracy: 0.95 - ETA: 0s - loss: 0.5747 - accuracy: 0.95 - 0s 46ms/step - loss: 0.5747 - accuracy: 0.9528 - val_loss: 1.8154 - val_accuracy: 0.6200\n",
      "Epoch 138/200\n",
      "3/3 [==============================] - ETA: 0s - loss: 0.5103 - accuracy: 0.97 - 0s 35ms/step - loss: 0.5406 - accuracy: 0.9571 - val_loss: 1.8838 - val_accuracy: 0.6100\n",
      "Epoch 139/200\n",
      "3/3 [==============================] - ETA: 0s - loss: 0.5261 - accuracy: 0.97 - 0s 31ms/step - loss: 0.5349 - accuracy: 0.9642 - val_loss: 1.9077 - val_accuracy: 0.6100\n",
      "Epoch 140/200\n",
      "3/3 [==============================] - ETA: 0s - loss: 0.5514 - accuracy: 0.95 - ETA: 0s - loss: 0.5454 - accuracy: 0.95 - 0s 40ms/step - loss: 0.5454 - accuracy: 0.9542 - val_loss: 1.9522 - val_accuracy: 0.6000\n",
      "Epoch 141/200\n",
      "3/3 [==============================] - ETA: 0s - loss: 0.5235 - accuracy: 0.97 - 0s 30ms/step - loss: 0.5374 - accuracy: 0.9671 - val_loss: 1.9655 - val_accuracy: 0.5900\n",
      "Epoch 142/200\n",
      "3/3 [==============================] - ETA: 0s - loss: 0.5355 - accuracy: 0.95 - 0s 28ms/step - loss: 0.5501 - accuracy: 0.9456 - val_loss: 1.8163 - val_accuracy: 0.6200\n",
      "Epoch 143/200\n",
      "3/3 [==============================] - ETA: 0s - loss: 0.5577 - accuracy: 0.94 - ETA: 0s - loss: 0.5530 - accuracy: 0.95 - 0s 40ms/step - loss: 0.5530 - accuracy: 0.9514 - val_loss: 1.7145 - val_accuracy: 0.6400\n",
      "Epoch 144/200\n",
      "3/3 [==============================] - ETA: 0s - loss: 0.5350 - accuracy: 0.97 - ETA: 0s - loss: 0.5334 - accuracy: 0.96 - 0s 38ms/step - loss: 0.5334 - accuracy: 0.9685 - val_loss: 1.7675 - val_accuracy: 0.6500\n",
      "Epoch 145/200\n",
      "3/3 [==============================] - ETA: 0s - loss: 0.5481 - accuracy: 0.94 - 0s 27ms/step - loss: 0.5354 - accuracy: 0.9528 - val_loss: 1.8274 - val_accuracy: 0.6400\n",
      "Epoch 146/200\n",
      "3/3 [==============================] - ETA: 0s - loss: 0.5043 - accuracy: 0.96 - 0s 24ms/step - loss: 0.5230 - accuracy: 0.9542 - val_loss: 1.8315 - val_accuracy: 0.6400\n",
      "Epoch 147/200\n",
      "3/3 [==============================] - ETA: 0s - loss: 0.5438 - accuracy: 0.95 - 0s 28ms/step - loss: 0.5328 - accuracy: 0.9599 - val_loss: 1.7815 - val_accuracy: 0.6300\n",
      "Epoch 148/200\n",
      "3/3 [==============================] - ETA: 0s - loss: 0.5112 - accuracy: 0.96 - 0s 25ms/step - loss: 0.5200 - accuracy: 0.9614 - val_loss: 1.7488 - val_accuracy: 0.6100\n",
      "Epoch 149/200\n",
      "3/3 [==============================] - ETA: 0s - loss: 0.5084 - accuracy: 0.97 - 0s 29ms/step - loss: 0.5301 - accuracy: 0.9671 - val_loss: 1.7945 - val_accuracy: 0.6100\n",
      "Epoch 150/200\n",
      "3/3 [==============================] - ETA: 0s - loss: 0.5583 - accuracy: 0.92 - 0s 28ms/step - loss: 0.5284 - accuracy: 0.9528 - val_loss: 1.8485 - val_accuracy: 0.6300\n",
      "Epoch 151/200\n",
      "3/3 [==============================] - ETA: 0s - loss: 0.5169 - accuracy: 0.95 - 0s 30ms/step - loss: 0.5075 - accuracy: 0.9628 - val_loss: 1.8527 - val_accuracy: 0.6300\n",
      "Epoch 152/200\n",
      "3/3 [==============================] - ETA: 0s - loss: 0.4883 - accuracy: 0.97 - 0s 28ms/step - loss: 0.5253 - accuracy: 0.9557 - val_loss: 1.8480 - val_accuracy: 0.6400\n",
      "Epoch 153/200\n",
      "3/3 [==============================] - ETA: 0s - loss: 0.4888 - accuracy: 0.97 - 0s 30ms/step - loss: 0.5140 - accuracy: 0.9700 - val_loss: 1.8566 - val_accuracy: 0.6400\n",
      "Epoch 154/200\n",
      "3/3 [==============================] - ETA: 0s - loss: 0.5163 - accuracy: 0.95 - 0s 28ms/step - loss: 0.5154 - accuracy: 0.9585 - val_loss: 1.8463 - val_accuracy: 0.6300\n",
      "Epoch 155/200\n",
      "3/3 [==============================] - ETA: 0s - loss: 0.4966 - accuracy: 0.97 - 0s 31ms/step - loss: 0.5088 - accuracy: 0.9657 - val_loss: 1.8555 - val_accuracy: 0.6300\n",
      "Epoch 156/200\n",
      "3/3 [==============================] - ETA: 0s - loss: 0.4780 - accuracy: 0.97 - 0s 28ms/step - loss: 0.5133 - accuracy: 0.9528 - val_loss: 1.8740 - val_accuracy: 0.6400\n",
      "Epoch 157/200\n",
      "3/3 [==============================] - ETA: 0s - loss: 0.5228 - accuracy: 0.95 - 0s 27ms/step - loss: 0.4970 - accuracy: 0.9685 - val_loss: 1.8994 - val_accuracy: 0.6200\n",
      "Epoch 158/200\n",
      "3/3 [==============================] - ETA: 0s - loss: 0.4929 - accuracy: 0.96 - 0s 27ms/step - loss: 0.4939 - accuracy: 0.9599 - val_loss: 1.9549 - val_accuracy: 0.6200\n",
      "Epoch 159/200\n",
      "3/3 [==============================] - ETA: 0s - loss: 0.5040 - accuracy: 0.96 - 0s 38ms/step - loss: 0.4993 - accuracy: 0.9671 - val_loss: 2.0292 - val_accuracy: 0.6100\n",
      "Epoch 160/200\n",
      "3/3 [==============================] - ETA: 0s - loss: 0.5241 - accuracy: 0.96 - 0s 27ms/step - loss: 0.4944 - accuracy: 0.9771 - val_loss: 2.0400 - val_accuracy: 0.6000\n",
      "Epoch 161/200\n",
      "3/3 [==============================] - ETA: 0s - loss: 0.5242 - accuracy: 0.96 - 0s 29ms/step - loss: 0.4945 - accuracy: 0.9757 - val_loss: 1.9760 - val_accuracy: 0.6000\n",
      "Epoch 162/200\n",
      "3/3 [==============================] - ETA: 0s - loss: 0.4623 - accuracy: 0.97 - 0s 26ms/step - loss: 0.4793 - accuracy: 0.9714 - val_loss: 1.9253 - val_accuracy: 0.6400\n",
      "Epoch 163/200\n",
      "3/3 [==============================] - ETA: 0s - loss: 0.4772 - accuracy: 0.96 - 0s 25ms/step - loss: 0.4754 - accuracy: 0.9714 - val_loss: 1.9078 - val_accuracy: 0.6400\n",
      "Epoch 164/200\n",
      "3/3 [==============================] - ETA: 0s - loss: 0.4730 - accuracy: 0.98 - ETA: 0s - loss: 0.4624 - accuracy: 0.97 - 0s 35ms/step - loss: 0.4624 - accuracy: 0.9771 - val_loss: 1.8950 - val_accuracy: 0.6300\n",
      "Epoch 165/200\n",
      "3/3 [==============================] - ETA: 0s - loss: 0.5127 - accuracy: 0.96 - ETA: 0s - loss: 0.4901 - accuracy: 0.97 - 0s 35ms/step - loss: 0.4901 - accuracy: 0.9714 - val_loss: 1.9249 - val_accuracy: 0.6400\n",
      "Epoch 166/200\n",
      "3/3 [==============================] - ETA: 0s - loss: 0.5178 - accuracy: 0.96 - 0s 26ms/step - loss: 0.5093 - accuracy: 0.9585 - val_loss: 1.9107 - val_accuracy: 0.6000\n",
      "Epoch 167/200\n",
      "3/3 [==============================] - ETA: 0s - loss: 0.5046 - accuracy: 0.95 - 0s 28ms/step - loss: 0.4756 - accuracy: 0.9728 - val_loss: 1.9292 - val_accuracy: 0.6000\n",
      "Epoch 168/200\n",
      "3/3 [==============================] - ETA: 0s - loss: 0.4738 - accuracy: 0.96 - 0s 23ms/step - loss: 0.4591 - accuracy: 0.9757 - val_loss: 1.9120 - val_accuracy: 0.6100\n",
      "Epoch 169/200\n",
      "3/3 [==============================] - ETA: 0s - loss: 0.4989 - accuracy: 0.96 - 0s 28ms/step - loss: 0.4809 - accuracy: 0.9728 - val_loss: 1.8907 - val_accuracy: 0.6400\n",
      "Epoch 170/200\n",
      "3/3 [==============================] - ETA: 0s - loss: 0.4403 - accuracy: 0.98 - 0s 23ms/step - loss: 0.4781 - accuracy: 0.9700 - val_loss: 1.8455 - val_accuracy: 0.6400\n",
      "Epoch 171/200\n",
      "3/3 [==============================] - ETA: 0s - loss: 0.4557 - accuracy: 0.98 - 0s 24ms/step - loss: 0.4639 - accuracy: 0.9771 - val_loss: 1.8457 - val_accuracy: 0.6300\n",
      "Epoch 172/200\n",
      "3/3 [==============================] - ETA: 0s - loss: 0.4598 - accuracy: 0.97 - 0s 29ms/step - loss: 0.4569 - accuracy: 0.9742 - val_loss: 1.8683 - val_accuracy: 0.6200\n"
     ]
    },
    {
     "name": "stdout",
     "output_type": "stream",
     "text": [
      "Epoch 173/200\n",
      "3/3 [==============================] - ETA: 0s - loss: 0.4801 - accuracy: 0.96 - ETA: 0s - loss: 0.4827 - accuracy: 0.96 - 0s 34ms/step - loss: 0.4827 - accuracy: 0.9628 - val_loss: 1.9403 - val_accuracy: 0.6200\n",
      "Epoch 174/200\n",
      "3/3 [==============================] - ETA: 0s - loss: 0.4737 - accuracy: 0.96 - 0s 27ms/step - loss: 0.4800 - accuracy: 0.9742 - val_loss: 1.9921 - val_accuracy: 0.6200\n",
      "Epoch 175/200\n",
      "3/3 [==============================] - ETA: 0s - loss: 0.4569 - accuracy: 0.97 - ETA: 0s - loss: 0.4696 - accuracy: 0.97 - 0s 36ms/step - loss: 0.4696 - accuracy: 0.9700 - val_loss: 1.9700 - val_accuracy: 0.6300\n",
      "Epoch 176/200\n",
      "3/3 [==============================] - ETA: 0s - loss: 0.4874 - accuracy: 0.96 - ETA: 0s - loss: 0.4754 - accuracy: 0.96 - 0s 45ms/step - loss: 0.4754 - accuracy: 0.9642 - val_loss: 1.9414 - val_accuracy: 0.6300\n",
      "Epoch 177/200\n",
      "3/3 [==============================] - ETA: 0s - loss: 0.4673 - accuracy: 0.96 - 0s 26ms/step - loss: 0.4598 - accuracy: 0.9714 - val_loss: 1.9438 - val_accuracy: 0.6100\n",
      "Epoch 178/200\n",
      "3/3 [==============================] - ETA: 0s - loss: 0.4933 - accuracy: 0.94 - ETA: 0s - loss: 0.4977 - accuracy: 0.94 - 0s 42ms/step - loss: 0.5059 - accuracy: 0.9499 - val_loss: 1.9005 - val_accuracy: 0.6100\n",
      "Epoch 179/200\n",
      "3/3 [==============================] - ETA: 0s - loss: 0.4458 - accuracy: 0.99 - 0s 35ms/step - loss: 0.4618 - accuracy: 0.9757 - val_loss: 1.9043 - val_accuracy: 0.6200\n",
      "Epoch 180/200\n",
      "3/3 [==============================] - ETA: 0s - loss: 0.4669 - accuracy: 0.97 - 0s 28ms/step - loss: 0.4474 - accuracy: 0.9857 - val_loss: 1.9140 - val_accuracy: 0.6100\n",
      "Epoch 181/200\n",
      "3/3 [==============================] - ETA: 0s - loss: 0.4666 - accuracy: 0.97 - 0s 26ms/step - loss: 0.4516 - accuracy: 0.9785 - val_loss: 1.9451 - val_accuracy: 0.5900\n",
      "Epoch 182/200\n",
      "3/3 [==============================] - ETA: 0s - loss: 0.4216 - accuracy: 0.97 - 0s 30ms/step - loss: 0.4534 - accuracy: 0.9742 - val_loss: 1.9860 - val_accuracy: 0.6000\n",
      "Epoch 183/200\n",
      "3/3 [==============================] - ETA: 0s - loss: 0.4470 - accuracy: 0.97 - 0s 29ms/step - loss: 0.4472 - accuracy: 0.9785 - val_loss: 1.9655 - val_accuracy: 0.6000\n",
      "Epoch 184/200\n",
      "3/3 [==============================] - ETA: 0s - loss: 0.4680 - accuracy: 0.96 - ETA: 0s - loss: 0.4739 - accuracy: 0.96 - 0s 41ms/step - loss: 0.4739 - accuracy: 0.9614 - val_loss: 1.9219 - val_accuracy: 0.6100\n",
      "Epoch 185/200\n",
      "3/3 [==============================] - ETA: 0s - loss: 0.4328 - accuracy: 0.98 - 0s 28ms/step - loss: 0.4420 - accuracy: 0.9828 - val_loss: 1.8840 - val_accuracy: 0.6100\n",
      "Epoch 186/200\n",
      "3/3 [==============================] - ETA: 0s - loss: 0.4823 - accuracy: 0.96 - 0s 27ms/step - loss: 0.4569 - accuracy: 0.9685 - val_loss: 1.8980 - val_accuracy: 0.6100\n",
      "Epoch 187/200\n",
      "3/3 [==============================] - ETA: 0s - loss: 0.4532 - accuracy: 0.97 - ETA: 0s - loss: 0.4369 - accuracy: 0.98 - 0s 47ms/step - loss: 0.4369 - accuracy: 0.9814 - val_loss: 1.9488 - val_accuracy: 0.6200\n",
      "Epoch 188/200\n",
      "3/3 [==============================] - ETA: 0s - loss: 0.4449 - accuracy: 0.96 - 0s 31ms/step - loss: 0.4451 - accuracy: 0.9757 - val_loss: 1.9599 - val_accuracy: 0.6200\n",
      "Epoch 189/200\n",
      "3/3 [==============================] - ETA: 0s - loss: 0.4462 - accuracy: 0.98 - 0s 32ms/step - loss: 0.4278 - accuracy: 0.9886 - val_loss: 1.9695 - val_accuracy: 0.6300\n",
      "Epoch 190/200\n",
      "3/3 [==============================] - ETA: 0s - loss: 0.4566 - accuracy: 0.96 - 0s 28ms/step - loss: 0.4544 - accuracy: 0.9671 - val_loss: 1.9843 - val_accuracy: 0.6300\n",
      "Epoch 191/200\n",
      "3/3 [==============================] - ETA: 0s - loss: 0.4141 - accuracy: 0.98 - 0s 29ms/step - loss: 0.4337 - accuracy: 0.9771 - val_loss: 1.9480 - val_accuracy: 0.6400\n",
      "Epoch 192/200\n",
      "3/3 [==============================] - ETA: 0s - loss: 0.4374 - accuracy: 0.97 - 0s 28ms/step - loss: 0.4320 - accuracy: 0.9814 - val_loss: 1.9122 - val_accuracy: 0.6500\n",
      "Epoch 193/200\n",
      "3/3 [==============================] - ETA: 0s - loss: 0.4654 - accuracy: 0.96 - ETA: 0s - loss: 0.4540 - accuracy: 0.97 - 0s 38ms/step - loss: 0.4540 - accuracy: 0.9728 - val_loss: 1.9003 - val_accuracy: 0.6500\n",
      "Epoch 194/200\n",
      "3/3 [==============================] - ETA: 0s - loss: 0.4206 - accuracy: 0.97 - 0s 33ms/step - loss: 0.4485 - accuracy: 0.9642 - val_loss: 1.8886 - val_accuracy: 0.6400\n",
      "Epoch 195/200\n",
      "3/3 [==============================] - ETA: 0s - loss: 0.4259 - accuracy: 0.98 - ETA: 0s - loss: 0.4319 - accuracy: 0.98 - 0s 46ms/step - loss: 0.4319 - accuracy: 0.9800 - val_loss: 1.9257 - val_accuracy: 0.6200\n",
      "Epoch 196/200\n",
      "3/3 [==============================] - ETA: 0s - loss: 0.4193 - accuracy: 0.98 - 0s 32ms/step - loss: 0.4341 - accuracy: 0.9800 - val_loss: 1.9479 - val_accuracy: 0.6200\n",
      "Epoch 197/200\n",
      "3/3 [==============================] - ETA: 0s - loss: 0.4408 - accuracy: 0.98 - ETA: 0s - loss: 0.4298 - accuracy: 0.98 - 0s 40ms/step - loss: 0.4298 - accuracy: 0.9800 - val_loss: 1.8975 - val_accuracy: 0.6400\n",
      "Epoch 198/200\n",
      "3/3 [==============================] - ETA: 0s - loss: 0.4245 - accuracy: 0.98 - ETA: 0s - loss: 0.4225 - accuracy: 0.98 - 0s 41ms/step - loss: 0.4225 - accuracy: 0.9828 - val_loss: 1.8536 - val_accuracy: 0.6400\n",
      "Epoch 199/200\n",
      "3/3 [==============================] - ETA: 0s - loss: 0.4199 - accuracy: 0.98 - 0s 45ms/step - loss: 0.4334 - accuracy: 0.9714 - val_loss: 1.8991 - val_accuracy: 0.6300\n",
      "Epoch 200/200\n",
      "3/3 [==============================] - ETA: 0s - loss: 0.4314 - accuracy: 0.97 - 0s 37ms/step - loss: 0.4465 - accuracy: 0.9657 - val_loss: 1.9815 - val_accuracy: 0.6100\n"
     ]
    }
   ],
   "source": [
    "#train the CNN\n",
    "\n",
    "history = model.fit(x_train, y_train, validation_data=(x_validation, y_validation), batch_size=256, epochs=200)\n",
    "\n",
    "\n"
   ]
  },
  {
   "cell_type": "code",
   "execution_count": 13,
   "metadata": {
    "colab": {
     "base_uri": "https://localhost:8080/"
    },
    "id": "PeezYCa_j8Ug",
    "outputId": "24500ad4-7a5a-4602-ce23-0b19ab0490ce"
   },
   "outputs": [
    {
     "name": "stdout",
     "output_type": "stream",
     "text": [
      "7/7 [==============================] - ETA: 0s - loss: 1.1913 - accuracy: 0.78 - 0s 6ms/step - loss: 1.6006 - accuracy: 0.7150\n",
      "0.7149999737739563\n"
     ]
    }
   ],
   "source": [
    "test_error,test_accuracy=model.evaluate(x_test,y_test)\n",
    "print(test_accuracy)"
   ]
  },
  {
   "cell_type": "code",
   "execution_count": 14,
   "metadata": {},
   "outputs": [
    {
     "name": "stdout",
     "output_type": "stream",
     "text": [
      "0.7149999737739563\n"
     ]
    }
   ],
   "source": [
    "print(test_accuracy)"
   ]
  },
  {
   "cell_type": "code",
   "execution_count": 15,
   "metadata": {
    "colab": {
     "base_uri": "https://localhost:8080/"
    },
    "id": "DHiQW7CcMtjw",
    "outputId": "365f6f52-4acf-4570-a44d-45b8fff2e03c"
   },
   "outputs": [
    {
     "name": "stdout",
     "output_type": "stream",
     "text": [
      "7/7 [==============================] - ETA: 0s - loss: 1.1913 - accuracy: 0.78 - 0s 4ms/step - loss: 1.6006 - accuracy: 0.7150\n"
     ]
    }
   ],
   "source": [
    "results = model.evaluate(x_test, y_test)\n"
   ]
  },
  {
   "cell_type": "code",
   "execution_count": 16,
   "metadata": {},
   "outputs": [
    {
     "name": "stdout",
     "output_type": "stream",
     "text": [
      "[1.6005964279174805, 0.7149999737739563]\n"
     ]
    }
   ],
   "source": [
    "print(results)"
   ]
  },
  {
   "cell_type": "code",
   "execution_count": 17,
   "metadata": {},
   "outputs": [
    {
     "data": {
      "image/png": "[encoded data removed]",
      "text/plain": [
       "<Figure size 432x288 with 1 Axes>"
      ]
     },
     "metadata": {
      "needs_background": "light"
     },
     "output_type": "display_data"
    }
   ],
   "source": [
    "plt.plot(history.history['accuracy'])\n",
    "plt.plot(history.history['val_accuracy'])\n",
    "plt.title(\"Model Accuracy\")\n",
    "plt.ylabel(\"Accuracy\")\n",
    "plt.xlabel(\"Epochs\")\n",
    "plt.legend([\"train\",\"test\"],loc=\"lower right\")\n",
    "plt.show()"
   ]
  },
  {
   "cell_type": "code",
   "execution_count": 18,
   "metadata": {},
   "outputs": [
    {
     "data": {
      "image/png": "[encoded data removed]",
      "text/plain": [
       "<Figure size 432x288 with 1 Axes>"
      ]
     },
     "metadata": {
      "needs_background": "light"
     },
     "output_type": "display_data"
    }
   ],
   "source": [
    "plt.plot(history.history['loss'])\n",
    "plt.plot(history.history['val_loss'])\n",
    "plt.title(\"Model Loss\")\n",
    "plt.ylabel(\"Loss\")\n",
    "plt.xlabel(\"Epochs\")\n",
    "plt.legend([\"train\",\"test\"],loc=\"lower right\")\n",
    "plt.show()"
   ]
  },
  {
   "cell_type": "code",
   "execution_count": 58,
   "metadata": {
    "scrolled": true
   },
   "outputs": [],
   "source": [
    "model.save(\"F:\\\\Sem-5\\\\SGP\\\\source\\\\my_model2.h5\")\n"
   ]
  },
  {
   "cell_type": "code",
   "execution_count": 97,
   "metadata": {},
   "outputs": [
    {
     "ename": "TypeError",
     "evalue": "can't pickle _thread.RLock objects",
     "output_type": "error",
     "traceback": [
      "\u001b[1;31m---------------------------------------------------------------------------\u001b[0m",
      "\u001b[1;31mTypeError\u001b[0m                                 Traceback (most recent call last)",
      "\u001b[1;32m<ipython-input-97-289eb414ff36>\u001b[0m in \u001b[0;36m<module>\u001b[1;34m\u001b[0m\n\u001b[0;32m      1\u001b[0m \u001b[1;32mimport\u001b[0m \u001b[0mpickle\u001b[0m\u001b[1;33m\u001b[0m\u001b[1;33m\u001b[0m\u001b[0m\n\u001b[0;32m      2\u001b[0m \u001b[1;32mwith\u001b[0m \u001b[0mopen\u001b[0m\u001b[1;33m(\u001b[0m\u001b[1;34m'F:\\\\Sem-5\\\\SGP\\\\source\\\\my_model3.pkl'\u001b[0m\u001b[1;33m,\u001b[0m \u001b[1;34m'wb'\u001b[0m\u001b[1;33m)\u001b[0m \u001b[1;32mas\u001b[0m \u001b[0mfid\u001b[0m\u001b[1;33m:\u001b[0m\u001b[1;33m\u001b[0m\u001b[1;33m\u001b[0m\u001b[0m\n\u001b[1;32m----> 3\u001b[1;33m     \u001b[0mpickle\u001b[0m\u001b[1;33m.\u001b[0m\u001b[0mdump\u001b[0m\u001b[1;33m(\u001b[0m\u001b[0mmodel\u001b[0m\u001b[1;33m,\u001b[0m \u001b[0mfid\u001b[0m\u001b[1;33m)\u001b[0m\u001b[1;33m\u001b[0m\u001b[1;33m\u001b[0m\u001b[0m\n\u001b[0m",
      "\u001b[1;31mTypeError\u001b[0m: can't pickle _thread.RLock objects"
     ]
    }
   ],
   "source": [
    "import pickle\n",
    "with open('F:\\\\Sem-5\\\\SGP\\\\source\\\\my_model3.pkl', 'wb') as fid:\n",
    "    pickle.dump(model, fid)"
   ]
  },
  {
   "cell_type": "code",
   "execution_count": 18,
   "metadata": {},
   "outputs": [
    {
     "name": "stdout",
     "output_type": "stream",
     "text": [
      "Model: \"sequential\"\n",
      "_________________________________________________________________\n",
      "Layer (type)                 Output Shape              Param #   \n",
      "=================================================================\n",
      "dense (Dense)                (None, 512)               13824     \n",
      "_________________________________________________________________\n",
      "dense_1 (Dense)              (None, 256)               131328    \n",
      "_________________________________________________________________\n",
      "dense_2 (Dense)              (None, 128)               32896     \n",
      "_________________________________________________________________\n",
      "dense_3 (Dense)              (None, 64)                8256      \n",
      "_________________________________________________________________\n",
      "dense_4 (Dense)              (None, 10)                650       \n",
      "=================================================================\n",
      "Total params: 186,954\n",
      "Trainable params: 186,954\n",
      "Non-trainable params: 0\n",
      "_________________________________________________________________\n"
     ]
    }
   ],
   "source": [
    "model=keras.models.load_model('F:\\\\Sem-5\\\\SGP\\\\source\\\\my_model2.h5')\n",
    "model.summary()\n"
   ]
  },
  {
   "cell_type": "code",
   "execution_count": 19,
   "metadata": {},
   "outputs": [
    {
     "name": "stdout",
     "output_type": "stream",
     "text": [
      "7/7 [==============================] - ETA: 0s - loss: 0.9670 - accuracy: 0.18 - 0s 3ms/step - loss: 1.5423 - accuracy: 0.1200\n"
     ]
    }
   ],
   "source": [
    "stfl_results = model.evaluate(x_test, y_test)"
   ]
  },
  {
   "cell_type": "code",
   "execution_count": 16,
   "metadata": {
    "colab": {
     "base_uri": "https://localhost:8080/",
     "height": 153
    },
    "id": "CZ6IdDliO7qi",
    "outputId": "09bd8872-2e2b-4314-d2ce-cb19544bf0f4",
    "scrolled": true
   },
   "outputs": [
    {
     "name": "stdout",
     "output_type": "stream",
     "text": [
      "[ 1.36845703  1.99251098  0.7079924   0.50941625  0.7763657   0.50071345\n",
      "  1.32529262 -0.56007946  0.01889495  0.98855615 -1.11029317  1.46404319\n",
      " -1.46507038  1.21952488 -0.93193225  0.85497715 -0.59818026  1.41959715\n",
      " -0.53184807  1.13026475 -0.33417671  2.55602716  0.05912829  1.4804646\n",
      " -0.06807845  0.31600732]\n",
      "[array([ 1.36845703,  1.99251098,  0.7079924 ,  0.50941625,  0.7763657 ,\n",
      "        0.50071345,  1.32529262, -0.56007946,  0.01889495,  0.98855615,\n",
      "       -1.11029317,  1.46404319, -1.46507038,  1.21952488, -0.93193225,\n",
      "        0.85497715, -0.59818026,  1.41959715, -0.53184807,  1.13026475,\n",
      "       -0.33417671,  2.55602716,  0.05912829,  1.4804646 , -0.06807845,\n",
      "        0.31600732])]\n"
     ]
    }
   ],
   "source": [
    "print(x_test[0.\n",
    "\n",
    "p=[x_test[0]]\n",
    "\n",
    "print(p)"
   ]
  },
  {
   "cell_type": "code",
   "execution_count": 17,
   "metadata": {
    "colab": {
     "base_uri": "https://localhost:8080/",
     "height": 119
    },
    "id": "X5re1W5P0gU2",
    "outputId": "9b7b8ff5-632e-46f3-8441-f971ad9997bc"
   },
   "outputs": [
    {
     "name": "stdout",
     "output_type": "stream",
     "text": [
      "[[ 1.32529262 -0.56007946  0.01889495  0.98855615 -1.11029317  1.46404319\n",
      "  -1.46507038  1.21952488 -0.93193225  0.85497715 -0.59818026  1.41959715\n",
      "  -0.53184807  1.13026475 -0.33417671  2.55602716  0.05912829  1.4804646\n",
      "  -0.06807845  0.31600732]]\n",
      "1\n",
      "(1, 20)\n"
     ]
    }
   ],
   "source": [
    "intz=[[ 1.32529262, -0.56007946,  0.01889495,  0.98855615, -1.11029317,\n",
    "        1.46404319, -1.46507038,  1.21952488, -0.93193225,  0.85497715,\n",
    "       -0.59818026,  1.41959715, -0.53184807,  1.13026475, -0.33417671,\n",
    "        2.55602716,  0.05912829,  1.4804646 , -0.06807845,  0.31600732]]\n",
    "a=np.array(intz)\n",
    "print(a)\n",
    "print(len(intz))\n",
    "print(a.shape)"
   ]
  },
  {
   "cell_type": "code",
   "execution_count": null,
   "metadata": {},
   "outputs": [],
   "source": []
  },
  {
   "cell_type": "code",
   "execution_count": 27,
   "metadata": {
    "colab": {
     "base_uri": "https://localhost:8080/"
    },
    "id": "cr4jeEo0iqlm",
    "outputId": "5b1a258a-9ff7-43c5-e51d-0c32635b79c5"
   },
   "outputs": [
    {
     "name": "stdout",
     "output_type": "stream",
     "text": [
      "(1, 26)\n",
      "[[-1.22962211 -0.81895141 -1.40257078 -1.27145623 -1.33102626 -1.23643636\n",
      "  -1.40013894  0.29433228  0.83235931  0.89693713  1.576993   -0.59222752\n",
      "   1.39887731 -0.74196651  0.84750119 -0.69258869  1.49798063 -1.15860228\n",
      "   1.03910902  0.1814579   1.4880026   0.46799179 -0.12270291 -0.00328123\n",
      "   2.19680333  1.12287617]]\n",
      "The genre for this song is Blues\n"
     ]
    },
    {
     "data": {
      "image/png": "[encoded data removed]",
      "text/plain": [
       "<Figure size 720x432 with 1 Axes>"
      ]
     },
     "metadata": {
      "needs_background": "light"
     },
     "output_type": "display_data"
    }
   ],
   "source": [
    "from sklearn.preprocessing import StandardScaler\n",
    "q=StandardScaler()\n",
    "dhruv=q.fit(x)\n",
    "\n",
    "new_song='F:\\\\Sem-5\\\\SGP\\\\Data\\\\genres_original\\\\blues\\\\blues.00026.wav'\n",
    "new_signal,sr=librosa.load(new_song,duration=60)\n",
    "f1 = librosa.feature.mfcc(new_signal,sr=sr)\n",
    "f2 = librosa.feature.rms(y=new_signal)\n",
    "f3 = librosa.feature.spectral_centroid(y=new_signal, sr=sr)\n",
    "f4 = librosa.feature.spectral_bandwidth(y=new_signal, sr=sr)\n",
    "f5 = librosa.feature.spectral_rolloff(y=new_signal, sr=sr)\n",
    "f6 = librosa.feature.zero_crossing_rate(new_signal)\n",
    "f7 = librosa.feature.chroma_stft(y=new_signal, sr=sr)\n",
    "\n",
    "##print(mfccs)\n",
    "##print(mfccs.shape)\n",
    "\n",
    "##librosa.display.specshow(mfccs, sr=sr,x_axis='time')\n",
    "##plt.xlabel(\"Time\") \n",
    "##plt.ylabel(\"MFCC\")\n",
    "##plt.colorbar()\n",
    "##plt.show()\n",
    "new=[]\n",
    "new.append(np.mean(f7))\n",
    "new.append(np.mean(f2))\n",
    "new.append(np.mean(f3))\n",
    "new.append(np.mean(f4))\n",
    "new.append(np.mean(f5))\n",
    "new.append(np.mean(f6))\n",
    "\n",
    "\n",
    "\n",
    "for e in f1:\n",
    "  new.append(np.mean(e))\n",
    "\n",
    "##print(to)\n",
    "final_new=[new]\n",
    "##print(arr)\n",
    "#print(final_new)\n",
    "#abcd=q.fit_transform(final_new)\n",
    "final_new=np.array(final_new)\n",
    "final_pree= model.predict(sc.transform(final_new))\n",
    "##print(predictions.shape)\n",
    "#print(abcd)\n",
    "#print(abc)\n",
    "print(final_new.shape)\n",
    "print(sc.transform(final_new))\n",
    "r=np.argmax(final_pree)\n",
    "#print(final_pre)\n",
    "#print(r)\n",
    "if r==0:\n",
    "  print(\"The genre for this song is Blues\")\n",
    "elif r==1:\n",
    "  print(\"The genere for this song is Classical\")\n",
    "elif r==2:\n",
    "  print(\"The genere for this song is Country\")\n",
    "elif r==3:\n",
    "  print(\"The genere for this song is Disco\")\n",
    "elif r==4:\n",
    "  print(\"The genere for this song is HipHop\")\n",
    "elif r==5:\n",
    "  print(\"The genere for this song is Jazz\")\n",
    "elif r==6:\n",
    "  print(\"The genere for this song is Mental\")\n",
    "elif r==7:\n",
    "  print(\"The genere for this song is Pop\")\n",
    "elif r==8:\n",
    "  print(\"The genere for this song is Reggae\")\n",
    "elif r==9:\n",
    "  print(\"The genere for this song is Rock\")\n",
    "tags = ['Blues', 'Classical', 'Country', 'Disco', 'HipHop', 'Jazz', 'Mental', 'Pop', 'Reggae', 'Rock']\n",
    "tags = np.array(tags)\n",
    "\n",
    "colors = ['b','g','c','r','m','k','y','#ff1122','#5511ff','#44ff22']\n",
    "fig, ax = plt.subplots()\n",
    "index = np.arange(tags.shape[0])\n",
    "opacity = 1\n",
    "bar_width = 0.2\n",
    "mean=final_pree.flatten() \n",
    "#for g in rini_array1.flatten() ange(0, tags.shape[0]):\n",
    "plt.bar(x=index, height=mean, width=bar_width, alpha=opacity, color=colors)\n",
    "plt.rcParams[\"figure.figsize\"] = (10, 6)\n",
    "\n",
    "plt.xlabel('Genres')\n",
    "plt.ylabel('Percentage')\n",
    "plt.title('Scores by genre')\n",
    "plt.xticks(index + bar_width / 2, tags)\n",
    "plt.tight_layout()\n",
    "fig.autofmt_xdate()\n",
    "\n",
    "xq=plt.show()\n"
   ]
  },
  {
   "cell_type": "code",
   "execution_count": 63,
   "metadata": {},
   "outputs": [
    {
     "ename": "ValueError",
     "evalue": "Expected 2D array, got 1D array instead:\narray=[8.9392155e-01 7.6334300e-07 1.3850715e-04 3.6226543e-06 3.9992632e-05\n 1.4229045e-05 9.3497194e-02 4.5904436e-08 1.5636053e-04 1.2227795e-02].\nReshape your data either using array.reshape(-1, 1) if your data has a single feature or array.reshape(1, -1) if it contains a single sample.",
     "output_type": "error",
     "traceback": [
      "\u001b[1;31m---------------------------------------------------------------------------\u001b[0m",
      "\u001b[1;31mValueError\u001b[0m                                Traceback (most recent call last)",
      "\u001b[1;32m<ipython-input-63-fdf73dd3b5da>\u001b[0m in \u001b[0;36m<module>\u001b[1;34m\u001b[0m\n\u001b[1;32m----> 1\u001b[1;33m \u001b[0mprint\u001b[0m\u001b[1;33m(\u001b[0m\u001b[0msc\u001b[0m\u001b[1;33m.\u001b[0m\u001b[0mtransform\u001b[0m\u001b[1;33m(\u001b[0m\u001b[0mmean\u001b[0m\u001b[1;33m)\u001b[0m\u001b[1;33m)\u001b[0m\u001b[1;33m\u001b[0m\u001b[1;33m\u001b[0m\u001b[0m\n\u001b[0m",
      "\u001b[1;32m~\\Anaconda3\\lib\\site-packages\\sklearn\\preprocessing\\data.py\u001b[0m in \u001b[0;36mtransform\u001b[1;34m(self, X, copy)\u001b[0m\n\u001b[0;32m    756\u001b[0m         X = check_array(X, accept_sparse='csr', copy=copy,\n\u001b[0;32m    757\u001b[0m                         \u001b[0mestimator\u001b[0m\u001b[1;33m=\u001b[0m\u001b[0mself\u001b[0m\u001b[1;33m,\u001b[0m \u001b[0mdtype\u001b[0m\u001b[1;33m=\u001b[0m\u001b[0mFLOAT_DTYPES\u001b[0m\u001b[1;33m,\u001b[0m\u001b[1;33m\u001b[0m\u001b[1;33m\u001b[0m\u001b[0m\n\u001b[1;32m--> 758\u001b[1;33m                         force_all_finite='allow-nan')\n\u001b[0m\u001b[0;32m    759\u001b[0m \u001b[1;33m\u001b[0m\u001b[0m\n\u001b[0;32m    760\u001b[0m         \u001b[1;32mif\u001b[0m \u001b[0msparse\u001b[0m\u001b[1;33m.\u001b[0m\u001b[0missparse\u001b[0m\u001b[1;33m(\u001b[0m\u001b[0mX\u001b[0m\u001b[1;33m)\u001b[0m\u001b[1;33m:\u001b[0m\u001b[1;33m\u001b[0m\u001b[1;33m\u001b[0m\u001b[0m\n",
      "\u001b[1;32m~\\Anaconda3\\lib\\site-packages\\sklearn\\utils\\validation.py\u001b[0m in \u001b[0;36mcheck_array\u001b[1;34m(array, accept_sparse, accept_large_sparse, dtype, order, copy, force_all_finite, ensure_2d, allow_nd, ensure_min_samples, ensure_min_features, warn_on_dtype, estimator)\u001b[0m\n\u001b[0;32m    519\u001b[0m                     \u001b[1;34m\"Reshape your data either using array.reshape(-1, 1) if \"\u001b[0m\u001b[1;33m\u001b[0m\u001b[1;33m\u001b[0m\u001b[0m\n\u001b[0;32m    520\u001b[0m                     \u001b[1;34m\"your data has a single feature or array.reshape(1, -1) \"\u001b[0m\u001b[1;33m\u001b[0m\u001b[1;33m\u001b[0m\u001b[0m\n\u001b[1;32m--> 521\u001b[1;33m                     \"if it contains a single sample.\".format(array))\n\u001b[0m\u001b[0;32m    522\u001b[0m \u001b[1;33m\u001b[0m\u001b[0m\n\u001b[0;32m    523\u001b[0m         \u001b[1;31m# in the future np.flexible dtypes will be handled like object dtypes\u001b[0m\u001b[1;33m\u001b[0m\u001b[1;33m\u001b[0m\u001b[1;33m\u001b[0m\u001b[0m\n",
      "\u001b[1;31mValueError\u001b[0m: Expected 2D array, got 1D array instead:\narray=[8.9392155e-01 7.6334300e-07 1.3850715e-04 3.6226543e-06 3.9992632e-05\n 1.4229045e-05 9.3497194e-02 4.5904436e-08 1.5636053e-04 1.2227795e-02].\nReshape your data either using array.reshape(-1, 1) if your data has a single feature or array.reshape(1, -1) if it contains a single sample."
     ]
    }
   ],
   "source": []
  },
  {
   "cell_type": "code",
   "execution_count": 66,
   "metadata": {
    "colab": {
     "base_uri": "https://localhost:8080/"
    },
    "id": "rGxbaO74pkGf",
    "outputId": "e1c59970-4c4f-4fdc-b59e-0803787c1a82"
   },
   "outputs": [
    {
     "name": "stdout",
     "output_type": "stream",
     "text": [
      "[3.0959552e-02 9.6213451e-05 1.5980161e-03 7.2204566e-06 4.3926738e-02\n",
      " 1.4207023e-06 9.2332429e-01 8.0238993e-07 4.3627701e-06 8.1381419e-05]\n",
      "(200, 26)\n",
      "4\n",
      "4\n"
     ]
    }
   ],
   "source": [
    "xy = stfl.predict(x_test)\n",
    "##print(predictions.shape)\n",
    "print(x[0])\n",
    "print(x_test.shape)\n",
    "\n",
    "result=np.argmax(xy[46])\n",
    "print(result)\n",
    "print(y_test[46])"
   ]
  },
  {
   "cell_type": "code",
   "execution_count": 21,
   "metadata": {
    "colab": {
     "base_uri": "https://localhost:8080/",
     "height": 85
    },
    "id": "DfpXAcmvDgJK",
    "outputId": "02127d12-7a37-4f5b-9ee9-fc31b78a1410"
   },
   "outputs": [
    {
     "name": "stdout",
     "output_type": "stream",
     "text": [
      "[-1.14932676 -0.36938858 -1.29362571 -1.27794991 -1.3368958  -1.24743132\n",
      " -0.53818708  1.31463079 -0.43809375 -0.34768262 -0.45459152  0.09148493\n",
      "  0.44185904 -0.27077315  0.04985323 -0.20879338  0.13097113 -0.15225097\n",
      "  0.3170161   1.07836792  0.73226117 -0.69215043  1.55899013  0.09146922\n",
      "  1.02429022  0.22407785]\n"
     ]
    }
   ],
   "source": [
    "print(x_train[0])"
   ]
  },
  {
   "cell_type": "code",
   "execution_count": 22,
   "metadata": {},
   "outputs": [
    {
     "name": "stdout",
     "output_type": "stream",
     "text": [
      "rock.00008.wav\n",
      "5.135138930501756\n"
     ]
    },
    {
     "data": {
      "text/plain": [
       "(20,)"
      ]
     },
     "execution_count": 22,
     "metadata": {},
     "output_type": "execute_result"
    }
   ],
   "source": [
    "new_arr=data.iloc[:,7:-1].values\n",
    "new_lable=data.iloc[:,0:1].values\n",
    "a=new_arr.mean(axis=1)\n",
    "print(new_lable[0][0])\n",
    "print(a[0])\n",
    "new_arr[0].shape"
   ]
  },
  {
   "cell_type": "code",
   "execution_count": null,
   "metadata": {},
   "outputs": [],
   "source": [
    "head=[\"File-Name\",\"Rating\"]\n",
    "with open('data3.csv','w',newline='') as files:\n",
    "    thewriter=csv.writer(files)\n",
    "\n",
    "    thewriter.writerow(head)\n",
    "for i in range(0,999):\n",
    "    row=[]\n",
    "    row.append(new_lable[i][0])\n",
    "    row.append(a[i])\n",
    "    \n",
    "    with open('data3.csv','a',newline='') as files:\n",
    "        writer=csv.writer(files)\n",
    "        writer.writerow(row)\n"
   ]
  },
  {
   "cell_type": "code",
   "execution_count": null,
   "metadata": {},
   "outputs": [],
   "source": [
    "new_data2=pd.DataFrame(data.groupby(\"File-name\") [\"new_arr\"])\n",
    "new_data2"
   ]
  },
  {
   "cell_type": "code",
   "execution_count": null,
   "metadata": {},
   "outputs": [],
   "source": [
    "new_data=pd.DataFrame(data.groupby('File-name')[\"zcr\"].mean())\n",
    "new_data"
   ]
  },
  {
   "cell_type": "code",
   "execution_count": 23,
   "metadata": {},
   "outputs": [
    {
     "data": {
      "text/html": [
       "<div>\n",
       "<style scoped>\n",
       "    .dataframe tbody tr th:only-of-type {\n",
       "        vertical-align: middle;\n",
       "    }\n",
       "\n",
       "    .dataframe tbody tr th {\n",
       "        vertical-align: top;\n",
       "    }\n",
       "\n",
       "    .dataframe thead th {\n",
       "        text-align: right;\n",
       "    }\n",
       "</style>\n",
       "<table border=\"1\" class=\"dataframe\">\n",
       "  <thead>\n",
       "    <tr style=\"text-align: right;\">\n",
       "      <th></th>\n",
       "      <th>File-Name</th>\n",
       "      <th>Rating</th>\n",
       "    </tr>\n",
       "  </thead>\n",
       "  <tbody>\n",
       "    <tr>\n",
       "      <td>0</td>\n",
       "      <td>rock.00008.wav</td>\n",
       "      <td>5.135139</td>\n",
       "    </tr>\n",
       "    <tr>\n",
       "      <td>1</td>\n",
       "      <td>rock.00001.wav</td>\n",
       "      <td>2.734301</td>\n",
       "    </tr>\n",
       "    <tr>\n",
       "      <td>2</td>\n",
       "      <td>rock.00005.wav</td>\n",
       "      <td>1.876016</td>\n",
       "    </tr>\n",
       "    <tr>\n",
       "      <td>3</td>\n",
       "      <td>rock.00006.wav</td>\n",
       "      <td>-0.998976</td>\n",
       "    </tr>\n",
       "    <tr>\n",
       "      <td>4</td>\n",
       "      <td>rock.00003.wav</td>\n",
       "      <td>3.532988</td>\n",
       "    </tr>\n",
       "  </tbody>\n",
       "</table>\n",
       "</div>"
      ],
      "text/plain": [
       "        File-Name    Rating\n",
       "0  rock.00008.wav  5.135139\n",
       "1  rock.00001.wav  2.734301\n",
       "2  rock.00005.wav  1.876016\n",
       "3  rock.00006.wav -0.998976\n",
       "4  rock.00003.wav  3.532988"
      ]
     },
     "execution_count": 23,
     "metadata": {},
     "output_type": "execute_result"
    }
   ],
   "source": [
    "data2=pd.read_csv('F:\\Sem-5\\SGP\\source\\data3.csv')\n",
    "data2.head()"
   ]
  },
  {
   "cell_type": "code",
   "execution_count": 25,
   "metadata": {},
   "outputs": [
    {
     "data": {
      "text/html": [
       "<div>\n",
       "<style scoped>\n",
       "    .dataframe tbody tr th:only-of-type {\n",
       "        vertical-align: middle;\n",
       "    }\n",
       "\n",
       "    .dataframe tbody tr th {\n",
       "        vertical-align: top;\n",
       "    }\n",
       "\n",
       "    .dataframe thead th {\n",
       "        text-align: right;\n",
       "    }\n",
       "</style>\n",
       "<table border=\"1\" class=\"dataframe\">\n",
       "  <thead>\n",
       "    <tr style=\"text-align: right;\">\n",
       "      <th></th>\n",
       "      <th>Rating</th>\n",
       "    </tr>\n",
       "    <tr>\n",
       "      <th>File-Name</th>\n",
       "      <th></th>\n",
       "    </tr>\n",
       "  </thead>\n",
       "  <tbody>\n",
       "    <tr>\n",
       "      <td>blues.00000.wav</td>\n",
       "      <td>1.935690</td>\n",
       "    </tr>\n",
       "    <tr>\n",
       "      <td>blues.00001.wav</td>\n",
       "      <td>-0.058070</td>\n",
       "    </tr>\n",
       "    <tr>\n",
       "      <td>blues.00002.wav</td>\n",
       "      <td>1.033480</td>\n",
       "    </tr>\n",
       "    <tr>\n",
       "      <td>blues.00003.wav</td>\n",
       "      <td>0.078957</td>\n",
       "    </tr>\n",
       "    <tr>\n",
       "      <td>blues.00004.wav</td>\n",
       "      <td>-8.457873</td>\n",
       "    </tr>\n",
       "    <tr>\n",
       "      <td>...</td>\n",
       "      <td>...</td>\n",
       "    </tr>\n",
       "    <tr>\n",
       "      <td>rock.00095.wav</td>\n",
       "      <td>-1.728487</td>\n",
       "    </tr>\n",
       "    <tr>\n",
       "      <td>rock.00096.wav</td>\n",
       "      <td>-1.764581</td>\n",
       "    </tr>\n",
       "    <tr>\n",
       "      <td>rock.00097.wav</td>\n",
       "      <td>-2.667840</td>\n",
       "    </tr>\n",
       "    <tr>\n",
       "      <td>rock.00098.wav</td>\n",
       "      <td>-2.238661</td>\n",
       "    </tr>\n",
       "    <tr>\n",
       "      <td>rock.00099.wav</td>\n",
       "      <td>-3.199672</td>\n",
       "    </tr>\n",
       "  </tbody>\n",
       "</table>\n",
       "<p>999 rows × 1 columns</p>\n",
       "</div>"
      ],
      "text/plain": [
       "                   Rating\n",
       "File-Name                \n",
       "blues.00000.wav  1.935690\n",
       "blues.00001.wav -0.058070\n",
       "blues.00002.wav  1.033480\n",
       "blues.00003.wav  0.078957\n",
       "blues.00004.wav -8.457873\n",
       "...                   ...\n",
       "rock.00095.wav  -1.728487\n",
       "rock.00096.wav  -1.764581\n",
       "rock.00097.wav  -2.667840\n",
       "rock.00098.wav  -2.238661\n",
       "rock.00099.wav  -3.199672\n",
       "\n",
       "[999 rows x 1 columns]"
      ]
     },
     "execution_count": 25,
     "metadata": {},
     "output_type": "execute_result"
    }
   ],
   "source": [
    "new_data3=pd.DataFrame(data2.groupby(\"File-Name\") [\"Rating\"].mean())\n",
    "new_data3"
   ]
  },
  {
   "cell_type": "code",
   "execution_count": 29,
   "metadata": {},
   "outputs": [
    {
     "name": "stdout",
     "output_type": "stream",
     "text": [
      "blues.00000.wav\n"
     ]
    },
    {
     "ename": "AttributeError",
     "evalue": "'str' object has no attribute '_get_numeric_data'",
     "output_type": "error",
     "traceback": [
      "\u001b[1;31m---------------------------------------------------------------------------\u001b[0m",
      "\u001b[1;31mAttributeError\u001b[0m                            Traceback (most recent call last)",
      "\u001b[1;32m<ipython-input-29-121824f911b9>\u001b[0m in \u001b[0;36m<module>\u001b[1;34m\u001b[0m\n\u001b[0;32m      3\u001b[0m \u001b[1;33m\u001b[0m\u001b[0m\n\u001b[0;32m      4\u001b[0m \u001b[1;33m\u001b[0m\u001b[0m\n\u001b[1;32m----> 5\u001b[1;33m \u001b[0msimilar\u001b[0m\u001b[1;33m=\u001b[0m\u001b[0mnew_data3\u001b[0m\u001b[1;33m.\u001b[0m\u001b[0mcorrwith\u001b[0m\u001b[1;33m(\u001b[0m\u001b[0mquery_index1\u001b[0m\u001b[1;33m)\u001b[0m\u001b[1;33m\u001b[0m\u001b[1;33m\u001b[0m\u001b[0m\n\u001b[0m",
      "\u001b[1;32m~\\Anaconda3\\lib\\site-packages\\pandas\\core\\frame.py\u001b[0m in \u001b[0;36mcorrwith\u001b[1;34m(self, other, axis, drop, method)\u001b[0m\n\u001b[0;32m   7682\u001b[0m             \u001b[1;32mreturn\u001b[0m \u001b[0mthis\u001b[0m\u001b[1;33m.\u001b[0m\u001b[0mapply\u001b[0m\u001b[1;33m(\u001b[0m\u001b[1;32mlambda\u001b[0m \u001b[0mx\u001b[0m\u001b[1;33m:\u001b[0m \u001b[0mother\u001b[0m\u001b[1;33m.\u001b[0m\u001b[0mcorr\u001b[0m\u001b[1;33m(\u001b[0m\u001b[0mx\u001b[0m\u001b[1;33m,\u001b[0m \u001b[0mmethod\u001b[0m\u001b[1;33m=\u001b[0m\u001b[0mmethod\u001b[0m\u001b[1;33m)\u001b[0m\u001b[1;33m,\u001b[0m \u001b[0maxis\u001b[0m\u001b[1;33m=\u001b[0m\u001b[0maxis\u001b[0m\u001b[1;33m)\u001b[0m\u001b[1;33m\u001b[0m\u001b[1;33m\u001b[0m\u001b[0m\n\u001b[0;32m   7683\u001b[0m \u001b[1;33m\u001b[0m\u001b[0m\n\u001b[1;32m-> 7684\u001b[1;33m         \u001b[0mother\u001b[0m \u001b[1;33m=\u001b[0m \u001b[0mother\u001b[0m\u001b[1;33m.\u001b[0m\u001b[0m_get_numeric_data\u001b[0m\u001b[1;33m(\u001b[0m\u001b[1;33m)\u001b[0m\u001b[1;33m\u001b[0m\u001b[1;33m\u001b[0m\u001b[0m\n\u001b[0m\u001b[0;32m   7685\u001b[0m         \u001b[0mleft\u001b[0m\u001b[1;33m,\u001b[0m \u001b[0mright\u001b[0m \u001b[1;33m=\u001b[0m \u001b[0mthis\u001b[0m\u001b[1;33m.\u001b[0m\u001b[0malign\u001b[0m\u001b[1;33m(\u001b[0m\u001b[0mother\u001b[0m\u001b[1;33m,\u001b[0m \u001b[0mjoin\u001b[0m\u001b[1;33m=\u001b[0m\u001b[1;34m\"inner\"\u001b[0m\u001b[1;33m,\u001b[0m \u001b[0mcopy\u001b[0m\u001b[1;33m=\u001b[0m\u001b[1;32mFalse\u001b[0m\u001b[1;33m)\u001b[0m\u001b[1;33m\u001b[0m\u001b[1;33m\u001b[0m\u001b[0m\n\u001b[0;32m   7686\u001b[0m \u001b[1;33m\u001b[0m\u001b[0m\n",
      "\u001b[1;31mAttributeError\u001b[0m: 'str' object has no attribute '_get_numeric_data'"
     ]
    }
   ],
   "source": [
    "query_index1 =new_data3.index[0]\n",
    "print(query_index1)\n",
    "\n",
    "\n",
    "similar=new_data3.corrwith(query_index1)"
   ]
  },
  {
   "cell_type": "code",
   "execution_count": 27,
   "metadata": {},
   "outputs": [
    {
     "data": {
      "text/plain": [
       "NearestNeighbors(algorithm='brute', leaf_size=30, metric='cosine',\n",
       "                 metric_params=None, n_jobs=None, n_neighbors=5, p=2,\n",
       "                 radius=1.0)"
      ]
     },
     "execution_count": 27,
     "metadata": {},
     "output_type": "execute_result"
    }
   ],
   "source": [
    "from scipy.sparse import csr_matrix\n",
    "\n",
    "final = csr_matrix(new_data3.values)\n",
    "\n",
    "from sklearn.neighbors import NearestNeighbors\n",
    "\n",
    "\n",
    "model_knn = NearestNeighbors(metric = 'cosine', algorithm = 'brute')\n",
    "model_knn.fit(final)"
   ]
  },
  {
   "cell_type": "code",
   "execution_count": 31,
   "metadata": {},
   "outputs": [
    {
     "data": {
      "text/plain": [
       "array([[6.06585448]])"
      ]
     },
     "execution_count": 31,
     "metadata": {},
     "output_type": "execute_result"
    }
   ],
   "source": [
    "(new_data3.iloc[query_index,:].values.reshape(1, -1))"
   ]
  },
  {
   "cell_type": "code",
   "execution_count": 40,
   "metadata": {},
   "outputs": [
    {
     "name": "stdout",
     "output_type": "stream",
     "text": [
      "902\n"
     ]
    }
   ],
   "source": [
    "query_index = np.random.choice(new_data3.shape[0])\n",
    "print(query_index)\n",
    "distances, indices = model_knn.kneighbors(new_data3.iloc[query_index,:].values.reshape(1, -1), n_neighbors = 5)"
   ]
  },
  {
   "cell_type": "code",
   "execution_count": 65,
   "metadata": {},
   "outputs": [
    {
     "data": {
      "text/plain": [
       "'hiphop.00015.wav'"
      ]
     },
     "execution_count": 65,
     "metadata": {},
     "output_type": "execute_result"
    }
   ],
   "source": [
    "new_data3.iloc[query_index,:].values\n",
    "len(distances.flatten())\n",
    "new_data3.index[indices.flatten()[i]]"
   ]
  },
  {
   "cell_type": "code",
   "execution_count": 42,
   "metadata": {},
   "outputs": [
    {
     "name": "stdout",
     "output_type": "stream",
     "text": [
      "[[0. 0. 0. 0. 0.]]\n",
      "[[416 414 417 419 415]]\n"
     ]
    }
   ],
   "source": [
    "print(distances)\n",
    "print(indices)\n"
   ]
  },
  {
   "cell_type": "code",
   "execution_count": 43,
   "metadata": {},
   "outputs": [
    {
     "name": "stdout",
     "output_type": "stream",
     "text": [
      "Recommendations for rock.00003.wav:\n",
      "\n",
      "1: hiphop.00014.wav, with distance of 0.0:\n",
      "2: hiphop.00017.wav, with distance of 0.0:\n",
      "3: hiphop.00019.wav, with distance of 0.0:\n",
      "4: hiphop.00015.wav, with distance of 0.0:\n"
     ]
    }
   ],
   "source": [
    "for i in range(0, len(distances.flatten())):\n",
    "    if i == 0:\n",
    "        print('Recommendations for {0}:\\n'.format(new_data3.index[query_index]))\n",
    "    else:\n",
    "        print('{0}: {1}, with distance of {2}:'.format(i, new_data3.index[indices.flatten()[i]], distances.flatten()[i]))"
   ]
  },
  {
   "cell_type": "code",
   "execution_count": 60,
   "metadata": {},
   "outputs": [
    {
     "ename": "FileNotFoundError",
     "evalue": "[WinError 2] The system cannot find the file specified",
     "output_type": "error",
     "traceback": [
      "\u001b[1;31m---------------------------------------------------------------------------\u001b[0m",
      "\u001b[1;31mFileNotFoundError\u001b[0m                         Traceback (most recent call last)",
      "\u001b[1;32m<ipython-input-60-b64402408f11>\u001b[0m in \u001b[0;36m<module>\u001b[1;34m\u001b[0m\n\u001b[0;32m      4\u001b[0m \u001b[0mdest\u001b[0m\u001b[1;33m=\u001b[0m\u001b[1;34m\"F:\\\\Sem-5\\\\SGP\\\\Test\\\\song1.wav\"\u001b[0m\u001b[1;33m\u001b[0m\u001b[1;33m\u001b[0m\u001b[0m\n\u001b[0;32m      5\u001b[0m \u001b[1;33m\u001b[0m\u001b[0m\n\u001b[1;32m----> 6\u001b[1;33m \u001b[0msound\u001b[0m\u001b[1;33m=\u001b[0m\u001b[0mAudioSegment\u001b[0m\u001b[1;33m.\u001b[0m\u001b[0mfrom_mp3\u001b[0m\u001b[1;33m(\u001b[0m\u001b[0msrc\u001b[0m\u001b[1;33m)\u001b[0m\u001b[1;33m\u001b[0m\u001b[1;33m\u001b[0m\u001b[0m\n\u001b[0m\u001b[0;32m      7\u001b[0m \u001b[0msound\u001b[0m\u001b[1;33m.\u001b[0m\u001b[0mexport\u001b[0m\u001b[1;33m(\u001b[0m\u001b[0mdest\u001b[0m\u001b[1;33m,\u001b[0m\u001b[0mformat\u001b[0m\u001b[1;33m=\u001b[0m\u001b[1;34m\"wav\"\u001b[0m\u001b[1;33m)\u001b[0m\u001b[1;33m\u001b[0m\u001b[1;33m\u001b[0m\u001b[0m\n",
      "\u001b[1;32m~\\Anaconda3\\lib\\site-packages\\pydub\\audio_segment.py\u001b[0m in \u001b[0;36mfrom_mp3\u001b[1;34m(cls, file, parameters)\u001b[0m\n\u001b[0;32m    736\u001b[0m     \u001b[1;33m@\u001b[0m\u001b[0mclassmethod\u001b[0m\u001b[1;33m\u001b[0m\u001b[1;33m\u001b[0m\u001b[0m\n\u001b[0;32m    737\u001b[0m     \u001b[1;32mdef\u001b[0m \u001b[0mfrom_mp3\u001b[0m\u001b[1;33m(\u001b[0m\u001b[0mcls\u001b[0m\u001b[1;33m,\u001b[0m \u001b[0mfile\u001b[0m\u001b[1;33m,\u001b[0m \u001b[0mparameters\u001b[0m\u001b[1;33m=\u001b[0m\u001b[1;32mNone\u001b[0m\u001b[1;33m)\u001b[0m\u001b[1;33m:\u001b[0m\u001b[1;33m\u001b[0m\u001b[1;33m\u001b[0m\u001b[0m\n\u001b[1;32m--> 738\u001b[1;33m         \u001b[1;32mreturn\u001b[0m \u001b[0mcls\u001b[0m\u001b[1;33m.\u001b[0m\u001b[0mfrom_file\u001b[0m\u001b[1;33m(\u001b[0m\u001b[0mfile\u001b[0m\u001b[1;33m,\u001b[0m \u001b[1;34m'mp3'\u001b[0m\u001b[1;33m,\u001b[0m \u001b[0mparameters\u001b[0m\u001b[1;33m=\u001b[0m\u001b[0mparameters\u001b[0m\u001b[1;33m)\u001b[0m\u001b[1;33m\u001b[0m\u001b[1;33m\u001b[0m\u001b[0m\n\u001b[0m\u001b[0;32m    739\u001b[0m \u001b[1;33m\u001b[0m\u001b[0m\n\u001b[0;32m    740\u001b[0m     \u001b[1;33m@\u001b[0m\u001b[0mclassmethod\u001b[0m\u001b[1;33m\u001b[0m\u001b[1;33m\u001b[0m\u001b[0m\n",
      "\u001b[1;32m~\\Anaconda3\\lib\\site-packages\\pydub\\audio_segment.py\u001b[0m in \u001b[0;36mfrom_file\u001b[1;34m(cls, file, format, codec, parameters, **kwargs)\u001b[0m\n\u001b[0;32m    683\u001b[0m             \u001b[0minfo\u001b[0m \u001b[1;33m=\u001b[0m \u001b[1;32mNone\u001b[0m\u001b[1;33m\u001b[0m\u001b[1;33m\u001b[0m\u001b[0m\n\u001b[0;32m    684\u001b[0m         \u001b[1;32melse\u001b[0m\u001b[1;33m:\u001b[0m\u001b[1;33m\u001b[0m\u001b[1;33m\u001b[0m\u001b[0m\n\u001b[1;32m--> 685\u001b[1;33m             \u001b[0minfo\u001b[0m \u001b[1;33m=\u001b[0m \u001b[0mmediainfo_json\u001b[0m\u001b[1;33m(\u001b[0m\u001b[0morig_file\u001b[0m\u001b[1;33m,\u001b[0m \u001b[0mread_ahead_limit\u001b[0m\u001b[1;33m=\u001b[0m\u001b[0mread_ahead_limit\u001b[0m\u001b[1;33m)\u001b[0m\u001b[1;33m\u001b[0m\u001b[1;33m\u001b[0m\u001b[0m\n\u001b[0m\u001b[0;32m    686\u001b[0m         \u001b[1;32mif\u001b[0m \u001b[0minfo\u001b[0m\u001b[1;33m:\u001b[0m\u001b[1;33m\u001b[0m\u001b[1;33m\u001b[0m\u001b[0m\n\u001b[0;32m    687\u001b[0m             audio_streams = [x for x in info['streams']\n",
      "\u001b[1;32m~\\Anaconda3\\lib\\site-packages\\pydub\\utils.py\u001b[0m in \u001b[0;36mmediainfo_json\u001b[1;34m(filepath, read_ahead_limit)\u001b[0m\n\u001b[0;32m    272\u001b[0m \u001b[1;33m\u001b[0m\u001b[0m\n\u001b[0;32m    273\u001b[0m     \u001b[0mcommand\u001b[0m \u001b[1;33m=\u001b[0m \u001b[1;33m[\u001b[0m\u001b[0mprober\u001b[0m\u001b[1;33m,\u001b[0m \u001b[1;34m'-of'\u001b[0m\u001b[1;33m,\u001b[0m \u001b[1;34m'json'\u001b[0m\u001b[1;33m]\u001b[0m \u001b[1;33m+\u001b[0m \u001b[0mcommand_args\u001b[0m\u001b[1;33m\u001b[0m\u001b[1;33m\u001b[0m\u001b[0m\n\u001b[1;32m--> 274\u001b[1;33m     \u001b[0mres\u001b[0m \u001b[1;33m=\u001b[0m \u001b[0mPopen\u001b[0m\u001b[1;33m(\u001b[0m\u001b[0mcommand\u001b[0m\u001b[1;33m,\u001b[0m \u001b[0mstdin\u001b[0m\u001b[1;33m=\u001b[0m\u001b[0mstdin_parameter\u001b[0m\u001b[1;33m,\u001b[0m \u001b[0mstdout\u001b[0m\u001b[1;33m=\u001b[0m\u001b[0mPIPE\u001b[0m\u001b[1;33m,\u001b[0m \u001b[0mstderr\u001b[0m\u001b[1;33m=\u001b[0m\u001b[0mPIPE\u001b[0m\u001b[1;33m)\u001b[0m\u001b[1;33m\u001b[0m\u001b[1;33m\u001b[0m\u001b[0m\n\u001b[0m\u001b[0;32m    275\u001b[0m     \u001b[0moutput\u001b[0m\u001b[1;33m,\u001b[0m \u001b[0mstderr\u001b[0m \u001b[1;33m=\u001b[0m \u001b[0mres\u001b[0m\u001b[1;33m.\u001b[0m\u001b[0mcommunicate\u001b[0m\u001b[1;33m(\u001b[0m\u001b[0minput\u001b[0m\u001b[1;33m=\u001b[0m\u001b[0mstdin_data\u001b[0m\u001b[1;33m)\u001b[0m\u001b[1;33m\u001b[0m\u001b[1;33m\u001b[0m\u001b[0m\n\u001b[0;32m    276\u001b[0m     \u001b[0moutput\u001b[0m \u001b[1;33m=\u001b[0m \u001b[0moutput\u001b[0m\u001b[1;33m.\u001b[0m\u001b[0mdecode\u001b[0m\u001b[1;33m(\u001b[0m\u001b[1;34m\"utf-8\"\u001b[0m\u001b[1;33m,\u001b[0m \u001b[1;34m'ignore'\u001b[0m\u001b[1;33m)\u001b[0m\u001b[1;33m\u001b[0m\u001b[1;33m\u001b[0m\u001b[0m\n",
      "\u001b[1;32m~\\Anaconda3\\lib\\subprocess.py\u001b[0m in \u001b[0;36m__init__\u001b[1;34m(self, args, bufsize, executable, stdin, stdout, stderr, preexec_fn, close_fds, shell, cwd, env, universal_newlines, startupinfo, creationflags, restore_signals, start_new_session, pass_fds, encoding, errors, text)\u001b[0m\n\u001b[0;32m    773\u001b[0m                                 \u001b[0mc2pread\u001b[0m\u001b[1;33m,\u001b[0m \u001b[0mc2pwrite\u001b[0m\u001b[1;33m,\u001b[0m\u001b[1;33m\u001b[0m\u001b[1;33m\u001b[0m\u001b[0m\n\u001b[0;32m    774\u001b[0m                                 \u001b[0merrread\u001b[0m\u001b[1;33m,\u001b[0m \u001b[0merrwrite\u001b[0m\u001b[1;33m,\u001b[0m\u001b[1;33m\u001b[0m\u001b[1;33m\u001b[0m\u001b[0m\n\u001b[1;32m--> 775\u001b[1;33m                                 restore_signals, start_new_session)\n\u001b[0m\u001b[0;32m    776\u001b[0m         \u001b[1;32mexcept\u001b[0m\u001b[1;33m:\u001b[0m\u001b[1;33m\u001b[0m\u001b[1;33m\u001b[0m\u001b[0m\n\u001b[0;32m    777\u001b[0m             \u001b[1;31m# Cleanup if the child failed starting.\u001b[0m\u001b[1;33m\u001b[0m\u001b[1;33m\u001b[0m\u001b[1;33m\u001b[0m\u001b[0m\n",
      "\u001b[1;32m~\\Anaconda3\\lib\\subprocess.py\u001b[0m in \u001b[0;36m_execute_child\u001b[1;34m(self, args, executable, preexec_fn, close_fds, pass_fds, cwd, env, startupinfo, creationflags, shell, p2cread, p2cwrite, c2pread, c2pwrite, errread, errwrite, unused_restore_signals, unused_start_new_session)\u001b[0m\n\u001b[0;32m   1176\u001b[0m                                          \u001b[0menv\u001b[0m\u001b[1;33m,\u001b[0m\u001b[1;33m\u001b[0m\u001b[1;33m\u001b[0m\u001b[0m\n\u001b[0;32m   1177\u001b[0m                                          \u001b[0mos\u001b[0m\u001b[1;33m.\u001b[0m\u001b[0mfspath\u001b[0m\u001b[1;33m(\u001b[0m\u001b[0mcwd\u001b[0m\u001b[1;33m)\u001b[0m \u001b[1;32mif\u001b[0m \u001b[0mcwd\u001b[0m \u001b[1;32mis\u001b[0m \u001b[1;32mnot\u001b[0m \u001b[1;32mNone\u001b[0m \u001b[1;32melse\u001b[0m \u001b[1;32mNone\u001b[0m\u001b[1;33m,\u001b[0m\u001b[1;33m\u001b[0m\u001b[1;33m\u001b[0m\u001b[0m\n\u001b[1;32m-> 1178\u001b[1;33m                                          startupinfo)\n\u001b[0m\u001b[0;32m   1179\u001b[0m             \u001b[1;32mfinally\u001b[0m\u001b[1;33m:\u001b[0m\u001b[1;33m\u001b[0m\u001b[1;33m\u001b[0m\u001b[0m\n\u001b[0;32m   1180\u001b[0m                 \u001b[1;31m# Child is launched. Close the parent's copy of those pipe\u001b[0m\u001b[1;33m\u001b[0m\u001b[1;33m\u001b[0m\u001b[1;33m\u001b[0m\u001b[0m\n",
      "\u001b[1;31mFileNotFoundError\u001b[0m: [WinError 2] The system cannot find the file specified"
     ]
    }
   ],
   "source": [
    "from pydub import AudioSegment\n",
    "\n",
    "src=\"F:\\\\Sem-5\\\\SGP\\\\Test\\\\Saibon.mp3\"\n",
    "dest=\"F:\\\\Sem-5\\\\SGP\\\\Test\\\\song1.wav\"\n",
    "\n",
    "sound=AudioSegment.from_mp3(src)\n",
    "sound.export(dest,format=\"wav\")"
   ]
  },
  {
   "cell_type": "code",
   "execution_count": 46,
   "metadata": {},
   "outputs": [
    {
     "name": "stdout",
     "output_type": "stream",
     "text": [
      "Collecting pydub\n",
      "  Downloading https://files.pythonhosted.org/packages/7b/d1/fbfa79371a8cd9bb15c2e3c480d7e6e340ed5cc55005174e16f48418333a/pydub-0.24.1-py2.py3-none-any.whl\n",
      "Installing collected packages: pydub\n",
      "Successfully installed pydub-0.24.1\n"
     ]
    }
   ],
   "source": [
    "!pip install pydub"
   ]
  },
  {
   "cell_type": "code",
   "execution_count": null,
   "metadata": {},
   "outputs": [],
   "source": []
  }
 ],
 "metadata": {
  "colab": {
   "collapsed_sections": [],
   "name": "music_genere_classification(1).ipynb",
   "provenance": []
  },
  "kernelspec": {
   "display_name": "Python 3",
   "language": "python",
   "name": "python3"
  },
  "language_info": {
   "codemirror_mode": {
    "name": "ipython",
    "version": 3
   },
   "file_extension": ".py",
   "mimetype": "text/x-python",
   "name": "python",
   "nbconvert_exporter": "python",
   "pygments_lexer": "ipython3",
   "version": "3.7.4"
  }
 },
 "nbformat": 4,
 "nbformat_minor": 1
}
